{
 "cells": [
  {
   "cell_type": "markdown",
   "id": "81a60b5d",
   "metadata": {
    "id": "81a60b5d"
   },
   "source": [
    "### Downloading Zipped Dataset"
   ]
  },
  {
   "cell_type": "code",
   "execution_count": null,
   "id": "2cfbd2a1",
   "metadata": {
    "colab": {
     "base_uri": "https://localhost:8080/"
    },
    "id": "2cfbd2a1",
    "outputId": "47c45a77-9001-4c38-d5aa-461a98f27180"
   },
   "outputs": [],
   "source": [
    "!wget -O Indian-Bird-Species.zip \"https://www.dropbox.com/scl/fi/354yxcre8pavgakm53m70/Indian-Bird-Species.zip?rlkey=hgxny4yqaop773f4z9c3mli7h&dl=0\""
   ]
  },
  {
   "cell_type": "markdown",
   "id": "67aede27",
   "metadata": {
    "id": "67aede27"
   },
   "source": [
    "### Creating Directory to Move Unzipped Data to this Directory"
   ]
  },
  {
   "cell_type": "code",
   "execution_count": null,
   "id": "2dbbc134",
   "metadata": {
    "id": "2dbbc134"
   },
   "outputs": [],
   "source": [
    "!mkdir Indian-Bird-Species"
   ]
  },
  {
   "cell_type": "markdown",
   "id": "bd107c08",
   "metadata": {
    "id": "bd107c08"
   },
   "source": [
    "### Unzipping Dataset"
   ]
  },
  {
   "cell_type": "code",
   "execution_count": null,
   "id": "a9fa580b",
   "metadata": {
    "colab": {
     "base_uri": "https://localhost:8080/"
    },
    "id": "a9fa580b",
    "outputId": "72619874-f367-4f34-fd4a-bce72045cac6"
   },
   "outputs": [],
   "source": [
    "!unzip Indian-Bird-Species.zip -d Indian-Bird-Species/"
   ]
  },
  {
   "cell_type": "markdown",
   "id": "763783d0",
   "metadata": {
    "id": "763783d0"
   },
   "source": [
    "# Residual Networks (ResNet)"
   ]
  },
  {
   "cell_type": "markdown",
   "id": "1782f01c",
   "metadata": {
    "id": "1782f01c"
   },
   "source": [
    "__ResNet__ or __Residual Neural Network__ was proposed by ([He et al.](https://arxiv.org/pdf/1512.03385.pdf)) researchers at Microsoft Research namely, _Kaiming He_, _Xiangyu Zhang_, _Shaoqing Ren_ and, _Jian Sun_; which allow us to train much deeper networks than were previously practically feasible. Also, ResNet won [ImageNet](https://www.image-net.org/about.php) Challenge in 2015."
   ]
  },
  {
   "cell_type": "markdown",
   "id": "63ea833f",
   "metadata": {
    "id": "63ea833f"
   },
   "source": [
    "<center>\n",
    "    <img src=\"https://github.com/hamzaziizzz/ResNet-Implementation/blob/main/img/MicrosoftResearch.png?raw=1\" alt=\"Microsoft Research\" width=\"500px\"> <br>\n",
    "</center>"
   ]
  },
  {
   "cell_type": "markdown",
   "id": "14d79a18",
   "metadata": {
    "id": "14d79a18"
   },
   "source": [
    "## Problem with Very Deep Neural Networks\n",
    "The main benefit of a very deep network is that it can represent very complex functions. It can also learn features at many different levels of abstraction, from edges (at the lower layers) to very complex features (at the deeper layers). However, using a deeper network doesn't always help. A huge barrier to training them is vanishing gradients: very deep networks often have a gradient signal that goes to zero quickly, thus making gradient descent unbearably slow. More specifically, during gradient descent, as you backprop from the final layer back to the first layer, you are multiplying by the weight matrix on each step, and thus the gradient can decrease exponentially quickly to zero (or, in rare cases, grow exponentially quickly and \"explode\" to take very large values).\n",
    "\n",
    "During training, we might therefore see the magnitude (or norm) of the gradient for the earlier layers descrease to zero very rapidly as training proceeds:\n",
    "![Vanishing Gradient](https://github.com/hamzaziizzz/ResNet-Implementation/blob/main/img/VanishingGradient.png?raw=1)\n",
    "<center>\n",
    "    <b><i>Figure 1:</i></b> <i>The speed of learning decreases very rapidly for the early layers as the network trains</i>\n",
    "</center>"
   ]
  },
  {
   "cell_type": "markdown",
   "id": "c10e1d00",
   "metadata": {
    "id": "c10e1d00"
   },
   "source": [
    "We are now going to solve this problem by building a Residual Network!"
   ]
  },
  {
   "cell_type": "markdown",
   "id": "360590eb",
   "metadata": {
    "id": "360590eb"
   },
   "source": [
    "## Building a Residual Network\n",
    "In ResNet architecture, a *“shortcut”* or a *“skip connection”* allows the gradient to be directly backpropagated to earlier layers:\n",
    "![Skip Connection](https://github.com/hamzaziizzz/ResNet-Implementation/blob/main/img/SkipConnection.png?raw=1)\n",
    "<center>\n",
    "    <b><i>Figure 2:</i></b> <i>A ResNet block showing a skip-connection</i>\n",
    "</center>"
   ]
  },
  {
   "cell_type": "markdown",
   "id": "e33bab3d",
   "metadata": {
    "id": "e33bab3d"
   },
   "source": [
    "The image on the left shows the \"main path\" through the network. The image on the right adds a shortcut to the main path. By stacking these ResNet blocks on top of each other, you can form a very deep network.\n",
    "\n",
    "We also saw in lecture that having ResNet blocks with the shortcut also makes it very easy for one of the blocks to learn an identity function. This means that you can stack on additional ResNet blocks with little risk of harming training set performance. (There is also some evidence that the ease of learning an identity function--even more than skip connections helping with vanishing gradients--accounts for ResNets' remarkable performance.)\n",
    "\n",
    "Two main types of blocks are used in a ResNet, depending mainly on whether the input/output dimensions are same or different. We are going to implement both of them."
   ]
  },
  {
   "cell_type": "markdown",
   "id": "125eb4c9",
   "metadata": {
    "id": "125eb4c9"
   },
   "source": [
    "# ResNet-50 Implementation"
   ]
  },
  {
   "cell_type": "markdown",
   "id": "19139ecb",
   "metadata": {
    "id": "19139ecb"
   },
   "source": [
    "## Importing Dependencies"
   ]
  },
  {
   "cell_type": "code",
   "execution_count": null,
   "id": "fe8fbe56",
   "metadata": {
    "id": "fe8fbe56"
   },
   "outputs": [],
   "source": [
    "# Import OpenCV which is a Computer Vision library and here we use it to deal with our image dataset\n",
    "import cv2\n",
    "\n",
    "# Import NumPy as our model trains on arrays which will be handled by NumPy\n",
    "import numpy as np\n",
    "\n",
    "import scipy\n",
    "\n",
    "# Import OS to interact with operating system\n",
    "import os\n",
    "\n",
    "# Import Math to use some mathematical computations\n",
    "import math\n",
    "\n",
    "# Import Shutil to move, copy and delete directories and sub-directories\n",
    "import shutil\n",
    "\n",
    "# Import glob module which finds all the pathnames matching a specified pattern according to the rules used by the Unix shell\n",
    "import glob\n",
    "\n",
    "# Import mayplotlib and seaborn to visualize the metrics of our model\n",
    "import matplotlib.pyplot as plt\n",
    "import seaborn as sns\n",
    "\n",
    "# Import Keras\n",
    "import keras\n",
    "\n",
    "# Import image from keras.preprocessing which is used the deal with dataset images while preprocessing them\n",
    "from keras.preprocessing import image\n",
    "\n",
    "# Import Keras ImageDataGenerator which is used for getting the input of the original data and further, it makes the transformation of this data on a random basis and gives the output resultant containing only the data that is newly transformed.\n",
    "from keras.preprocessing.image import ImageDataGenerator\n",
    "\n",
    "# Import scikit-learn metrics whivh will be used to display the metrics of the model\n",
    "from sklearn.metrics import classification_report, confusion_matrix, ConfusionMatrixDisplay, precision_recall_curve, average_precision_score, PrecisionRecallDisplay, f1_score, roc_auc_score\n",
    "\n",
    "# Import Keras layers\n",
    "# Sequential class is used to build a model instance which will be constructed layer-by-layer (i.e., one layer is stacked over previous layer)\n",
    "# Model class is used to initialize the instance of our CNN architecture (here ResNet50)\n",
    "# load_model is uded to load the model from pre-existinf weights or models\n",
    "from keras.models import Sequential, Model, load_model\n",
    "\n",
    "# Import optimizers.Optimizer is an algorithm which is used for the learning of the model\n",
    "# SGD (Stochastic Gradient Descent) is an optimization algorithm often used in machine learning applications to find the model parameters that correspond to the best fit between predicted and actual outputs.\n",
    "from keras.optimizers import SGD\n",
    "\n",
    "# Import EarlyStopping and ModelCheckpoint\n",
    "# EarlyStopping is used to halt the learning of the used when the models accuracy does not improve by any significant amount\n",
    "# ModelCheckpoint is used to save the model or weights in a checkpoint file at some time interval\n",
    "from keras.callbacks import EarlyStopping, ModelCheckpoint\n",
    "\n",
    "# Import some Keras layers features which will be used to provide input to the layer, add layer to the model, perform pooling padding and convlution, flattening the image, and batch normalization\n",
    "from keras.layers import Input, Add, Dense, Activation, ZeroPadding2D, BatchNormalization, Flatten, Conv2D, AveragePooling2D, MaxPooling2D, GlobalMaxPooling2D, MaxPool2D\n",
    "\n",
    "# Import glorot_uniform\n",
    "# GlorotUniform draws samples from a uniform distribution within [-limit, limit] , where limit = sqrt(6 / (fan_in + fan_out)) ( fan_in is the number of input units in the weight tensor and fan_out is the number of output units).\n",
    "from keras.initializers import glorot_uniform\n",
    "\n",
    "# Import binary_crossentropy\n",
    "# Binary cross entropy compares each of the predicted probabilities to actual class output which can be either 0 or 1. It then calculates the score that penalizes the probabilities based on the distance from the expected value. That means how close or far from the actual value.\n",
    "from keras.losses import binary_crossentropy"
   ]
  },
  {
   "cell_type": "markdown",
   "id": "6424567b",
   "metadata": {
    "id": "6424567b"
   },
   "source": [
    "## Splitting Dataset into Training, Validation and Testing"
   ]
  },
  {
   "cell_type": "code",
   "execution_count": null,
   "id": "ca5942f1",
   "metadata": {
    "id": "ca5942f1",
    "scrolled": true
   },
   "outputs": [],
   "source": [
    "DATASET_PATH = \"Indian-Bird-Species\""
   ]
  },
  {
   "cell_type": "code",
   "execution_count": null,
   "id": "55e90873",
   "metadata": {
    "colab": {
     "base_uri": "https://localhost:8080/"
    },
    "id": "55e90873",
    "outputId": "12642f61-2d87-4b00-90f4-af36745eeb89"
   },
   "outputs": [],
   "source": [
    "number_of_images = {}\n",
    "\n",
    "# label the number of images in each class of our dadaset\n",
    "for dir in os.listdir(DATASET_PATH):\n",
    "    # os.listdir() is used to list or count the number of images in each directory of dataset\n",
    "    # os.path.join() is used to join the parent directory, any subdirectory and the contents of the directory\n",
    "    number_of_images[dir] = len(os.listdir(os.path.join(DATASET_PATH, dir)))\n",
    "\n",
    "print(number_of_images)"
   ]
  },
  {
   "cell_type": "markdown",
   "id": "42968c6e",
   "metadata": {
    "id": "42968c6e"
   },
   "source": [
    "Randomly display any image from each class of the dataset"
   ]
  },
  {
   "cell_type": "code",
   "execution_count": null,
   "id": "357f694f",
   "metadata": {
    "colab": {
     "base_uri": "https://localhost:8080/",
     "height": 1000
    },
    "id": "357f694f",
    "outputId": "8b79b983-92c2-4692-e840-ea68926294d4"
   },
   "outputs": [],
   "source": [
    "# listing all the subdirectories in our main dataset directory\n",
    "for dir in os.listdir(DATASET_PATH):\n",
    "    # picking a random image from each class of the datset\n",
    "    for img in np.random.choice(os.listdir(os.path.join(DATASET_PATH, dir)), size = 2):\n",
    "        # read each image with the help of OpenCV\n",
    "        image = cv2.imread(os.path.join(DATASET_PATH, dir, img))\n",
    "        # plot the image using matplotlib\n",
    "        plt.imshow(image); plt.axis(\"off\")\n",
    "        # give image a title using matplotlib\n",
    "        plt.title(dir)\n",
    "        # show or display the image using matplotlib\n",
    "        plt.show()"
   ]
  },
  {
   "cell_type": "markdown",
   "id": "54c17a6e",
   "metadata": {
    "id": "54c17a6e"
   },
   "source": [
    "___Listing the number of images in each class of our dataset___"
   ]
  },
  {
   "cell_type": "code",
   "execution_count": null,
   "id": "f7e4693a",
   "metadata": {
    "colab": {
     "base_uri": "https://localhost:8080/"
    },
    "id": "f7e4693a",
    "outputId": "f3216239-5c36-4c7e-91b0-9ef3be544876"
   },
   "outputs": [],
   "source": [
    "print(\"The dataset contains the following:\")\n",
    "for i, each_class in enumerate(number_of_images):\n",
    "    listing = f\"{i + 1})\"\n",
    "    print(f\"{listing:<5} {number_of_images[each_class]} images of {each_class}\")"
   ]
  },
  {
   "cell_type": "markdown",
   "id": "952c409c",
   "metadata": {
    "id": "952c409c"
   },
   "source": [
    "### Declaring and Defining our Custom Function for Splitting the Dataset"
   ]
  },
  {
   "cell_type": "code",
   "execution_count": null,
   "id": "f705e7b3",
   "metadata": {
    "id": "f705e7b3"
   },
   "outputs": [],
   "source": [
    "def data_folder(folder_name, split_ratio):\n",
    "    \"\"\"\n",
    "    This function will split the dataset in a given number of new folders namely, Training, Testing and Validation in a given ratio.\n",
    "    Such that Training:Testing:Validation = x:y:z\n",
    "    Where,\n",
    "        x is the number of images in Training Folder\n",
    "        y is the number of images in Testing Folder\n",
    "        z is the number of images in Validation Folder\n",
    "\n",
    "    Arguments:\n",
    "        folder_name: Name of the folder created for splitting the dataset\n",
    "        split_ratio: Percentage of images of original dataset for every splitted folder_name\n",
    "    \"\"\"\n",
    "\n",
    "    # checking if the folder does not already exist\n",
    "    if not os.path.exists(\"./\" + folder_name):\n",
    "        # if the folder doesn't already exist then create that folder\n",
    "        print(f\"Creating {folder_name}\")\n",
    "        os.mkdir(\"./\" + folder_name)\n",
    "\n",
    "    # listing all the subdirectories in our main dataset directory\n",
    "    for dir in os.listdir(DATASET_PATH):\n",
    "        # checking if that subdirectory for this folder does not already exist\n",
    "        if not os.path.exists(\"./\" + folder_name + \"/\" + dir):\n",
    "            # if it does not already exist then create that subdirectory for this folder\n",
    "            print(f\"Creating {dir} directory for {folder_name} folder\")\n",
    "            os.makedirs(\"./\" + folder_name + \"/\" + dir)\n",
    "\n",
    "        # picking random images from each class of the datset and copying it to the Training, Testing or Validation folder\n",
    "        # size for each directory is the product of number of images in each class and the ratio of train, test, validate folders\n",
    "        # For example: if Buffalo contains 1000 images and ratio train:test:validate = 70:15:15, then Testing folder will contain 700 images, Testing folder 150 images and Validation Folder 150 images\n",
    "        for img in np.random.choice(a = os.listdir(os.path.join(DATASET_PATH, dir)), size = (math.floor(split_ratio * number_of_images[dir])), replace = False):\n",
    "\n",
    "            # pathname of original dataset\n",
    "            O = os.path.join(DATASET_PATH, dir, img)\n",
    "\n",
    "            # pathname of splitted dataset\n",
    "            D = os.path.join(\"./\" + folder_name, dir)\n",
    "\n",
    "            # copy each image from original dataset path to splitted dataset path\n",
    "            shutil.copy(O, D)\n",
    "\n",
    "    else:\n",
    "        print(f\"{folder_name} folder exist\")"
   ]
  },
  {
   "cell_type": "markdown",
   "id": "eefda6ee",
   "metadata": {
    "id": "eefda6ee"
   },
   "source": [
    "___Creating Training Folder___"
   ]
  },
  {
   "cell_type": "code",
   "execution_count": null,
   "id": "a8426a42",
   "metadata": {
    "colab": {
     "base_uri": "https://localhost:8080/"
    },
    "id": "a8426a42",
    "outputId": "6b3c459b-c503-4bc9-8c26-36dfe9b7c77f",
    "scrolled": true
   },
   "outputs": [],
   "source": [
    "data_folder(\"Training\", 0.7)"
   ]
  },
  {
   "cell_type": "markdown",
   "id": "5952049b",
   "metadata": {
    "id": "5952049b"
   },
   "source": [
    "___Creating Validation Folder___"
   ]
  },
  {
   "cell_type": "code",
   "execution_count": null,
   "id": "f880960a",
   "metadata": {
    "colab": {
     "base_uri": "https://localhost:8080/"
    },
    "id": "f880960a",
    "outputId": "e7e50236-1334-4e74-b975-193c330cd5ea",
    "scrolled": true
   },
   "outputs": [],
   "source": [
    "data_folder(\"Validation\", 0.15)"
   ]
  },
  {
   "cell_type": "markdown",
   "id": "57bf3e78",
   "metadata": {
    "id": "57bf3e78"
   },
   "source": [
    "___Creating Testing Folder___"
   ]
  },
  {
   "cell_type": "code",
   "execution_count": null,
   "id": "359b8717",
   "metadata": {
    "colab": {
     "base_uri": "https://localhost:8080/"
    },
    "id": "359b8717",
    "outputId": "ce9f70af-ecd3-48e9-bf34-06c153104c75",
    "scrolled": true
   },
   "outputs": [],
   "source": [
    "data_folder(\"Testing\", 0.15)"
   ]
  },
  {
   "cell_type": "code",
   "execution_count": null,
   "id": "4718eef6",
   "metadata": {
    "id": "4718eef6"
   },
   "outputs": [],
   "source": [
    "TRAIN_PATH = \"./Training\""
   ]
  },
  {
   "cell_type": "code",
   "execution_count": null,
   "id": "c6fac9dd",
   "metadata": {
    "id": "c6fac9dd"
   },
   "outputs": [],
   "source": [
    "TEST_PATH = \"./Testing\""
   ]
  },
  {
   "cell_type": "code",
   "execution_count": null,
   "id": "c59bb599",
   "metadata": {
    "id": "c59bb599"
   },
   "outputs": [],
   "source": [
    "VALIDATE_PATH = \"./Validation\""
   ]
  },
  {
   "cell_type": "markdown",
   "id": "4ab78a5e",
   "metadata": {
    "id": "4ab78a5e"
   },
   "source": [
    "___Listing the number of images in each class of our Training Folder___"
   ]
  },
  {
   "cell_type": "code",
   "execution_count": null,
   "id": "bbe49697",
   "metadata": {
    "colab": {
     "base_uri": "https://localhost:8080/"
    },
    "id": "bbe49697",
    "outputId": "76653706-2640-4854-fe93-0006576985bf"
   },
   "outputs": [],
   "source": [
    "train_images = {}\n",
    "\n",
    "# label the number of images in each class of our dadaset\n",
    "for dir in os.listdir(TRAIN_PATH):\n",
    "    # os.listdir() is used to list or count the number of images in each directory of dataset\n",
    "    # os.path.join() is used to join the parent directory, any subdirectory and the contents of the directory\n",
    "    train_images[dir] = len(os.listdir(os.path.join(TRAIN_PATH, dir)))\n",
    "\n",
    "print(\"The Training folder contains the following:\")\n",
    "for i, each_class in enumerate(train_images):\n",
    "    listing = f\"{i + 1})\"\n",
    "    print(f\"{listing:<5} {train_images[each_class]} images of {each_class}\")"
   ]
  },
  {
   "cell_type": "markdown",
   "id": "9cc2d335",
   "metadata": {
    "id": "9cc2d335"
   },
   "source": [
    "___Listing the number of images in each class of our Validation Folder___"
   ]
  },
  {
   "cell_type": "code",
   "execution_count": null,
   "id": "ee8684df",
   "metadata": {
    "colab": {
     "base_uri": "https://localhost:8080/"
    },
    "id": "ee8684df",
    "outputId": "47f4f3e1-b38d-44b6-93db-53d7f74d33f3"
   },
   "outputs": [],
   "source": [
    "validate_images = {}\n",
    "\n",
    "# label the number of images in each class of our dadaset\n",
    "for dir in os.listdir(VALIDATE_PATH):\n",
    "    # os.listdir() is used to list or count the number of images in each directory of dataset\n",
    "    # os.path.join() is used to join the parent directory, any subdirectory and the contents of the directory\n",
    "    validate_images[dir] = len(os.listdir(os.path.join(VALIDATE_PATH, dir)))\n",
    "\n",
    "print(\"The Validation folder contains the following:\")\n",
    "for i, each_class in enumerate(validate_images):\n",
    "    listing = f\"{i + 1})\"\n",
    "    print(f\"{listing:<5} {validate_images[each_class]} images of {each_class}\")"
   ]
  },
  {
   "cell_type": "markdown",
   "id": "c4671ef1",
   "metadata": {
    "id": "c4671ef1"
   },
   "source": [
    "___Listing the number of images in each class of our Testing Folder___"
   ]
  },
  {
   "cell_type": "code",
   "execution_count": null,
   "id": "3572a85d",
   "metadata": {
    "colab": {
     "base_uri": "https://localhost:8080/"
    },
    "id": "3572a85d",
    "outputId": "3c64a619-6d1b-481e-a056-0462002a4e89"
   },
   "outputs": [],
   "source": [
    "test_images = {}\n",
    "\n",
    "# label the number of images in each class of our dadaset\n",
    "for dir in os.listdir(TEST_PATH):\n",
    "    # os.listdir() is used to list or count the number of images in each directory of dataset\n",
    "    # os.path.join() is used to join the parent directory, any subdirectory and the contents of the directory\n",
    "    test_images[dir] = len(os.listdir(os.path.join(TEST_PATH, dir)))\n",
    "\n",
    "print(\"The Testing folder contains the following:\")\n",
    "for i, each_class in enumerate(test_images):\n",
    "    listing = f\"{i + 1})\"\n",
    "    print(f\"{listing:<5} {test_images[each_class]} images of {each_class}\")"
   ]
  },
  {
   "cell_type": "markdown",
   "id": "ed5d979c",
   "metadata": {
    "id": "ed5d979c"
   },
   "source": [
    "## Preprocessing Images"
   ]
  },
  {
   "cell_type": "markdown",
   "id": "5a3444fc",
   "metadata": {
    "id": "5a3444fc"
   },
   "source": [
    "**ImageDataGenerator()** is used to perfrom augmentation on a given image. Augmentation means that the images are duplicated with some kind of variations that increase the size of the teraining set without aquiring new images.\n",
    "Augmentation (or variations) that we performed here are the following:\n",
    "- *zoom_range:* zoom in or zoom out images in a given range\n",
    "- *width_shift_range:* shift the images horizontally in a given range\n",
    "- *height_shift_range:* shift the images vertically in a given range\n",
    "- *shear_range:* compress an vertically or horizontally in a given range, the oringinal image is somewhat distorted."
   ]
  },
  {
   "cell_type": "code",
   "execution_count": null,
   "id": "bb8ea22f",
   "metadata": {
    "id": "bb8ea22f"
   },
   "outputs": [],
   "source": [
    "train_data_generator = ImageDataGenerator(\n",
    "    zoom_range = 0.15,\n",
    "    width_shift_range = 0.2,\n",
    "    height_shift_range = 0.2,\n",
    "    shear_range = 0.15\n",
    ")\n",
    "\n",
    "validate_data_generator = ImageDataGenerator()\n",
    "\n",
    "test_data_generator = ImageDataGenerator()"
   ]
  },
  {
   "cell_type": "markdown",
   "id": "90deb8e3",
   "metadata": {
    "id": "90deb8e3"
   },
   "source": [
    "***flow_from_directory()*** takes the path to a directory & generates batches of augmented data. <br>\n",
    "**Arguments:**\n",
    "- *directory:* string, or path to the directory.\n",
    "- *target_size:* Tuple of integers (height, width), defaults to (256,256). The dimensions to which all images found will be resized.\n",
    "- *batch_size:* Size of the batches of data (default: 32).\n",
    "- *shuffle:*  Whether to shuffle the data (default: True) If set to False, sorts the data in alphanumeric order.\n",
    "- *class_mode:* One of \"categorical\", \"binary\", \"sparse\", \"input\", or None. Default: \"categorical\". Determines the type of label arrays that are returned:\n",
    "    - \"categorical\" will be 2D one-hot encoded labels,\n",
    "    - \"binary\" will be 1D binary labels, \"sparse\" will be 1D integer labels"
   ]
  },
  {
   "cell_type": "code",
   "execution_count": null,
   "id": "881ef1a9",
   "metadata": {
    "colab": {
     "base_uri": "https://localhost:8080/"
    },
    "id": "881ef1a9",
    "outputId": "18606400-ebb6-46c9-9e9f-fd1e24f82b48",
    "scrolled": true
   },
   "outputs": [],
   "source": [
    "# TODO: play around with 'batch_size': try with different batch sizes of 16, 64, etc.\n",
    "\n",
    "train_generator = train_data_generator.flow_from_directory(\n",
    "    directory = TRAIN_PATH,\n",
    "    target_size = (224, 224),\n",
    "    batch_size = 32,\n",
    "    shuffle = True,\n",
    "    class_mode = 'categorical'\n",
    ")"
   ]
  },
  {
   "cell_type": "code",
   "execution_count": null,
   "id": "a6074b34",
   "metadata": {
    "colab": {
     "base_uri": "https://localhost:8080/"
    },
    "id": "a6074b34",
    "outputId": "d7725de2-3492-479b-c1f3-132797e78f7e"
   },
   "outputs": [],
   "source": [
    "print(train_generator.class_indices)"
   ]
  },
  {
   "cell_type": "code",
   "execution_count": null,
   "id": "379b3d99",
   "metadata": {
    "colab": {
     "base_uri": "https://localhost:8080/"
    },
    "id": "379b3d99",
    "outputId": "a7202377-cd26-463f-e3d2-48d5d2aff03b"
   },
   "outputs": [],
   "source": [
    "# TODO: play around with 'batch_size': try with different batch sizes of 16, 64, etc.\n",
    "\n",
    "validate_generator = validate_data_generator.flow_from_directory(\n",
    "    directory = VALIDATE_PATH,\n",
    "    target_size = (224, 224),\n",
    "    batch_size = 32,\n",
    "    shuffle = False,\n",
    "    class_mode='categorical'\n",
    ")"
   ]
  },
  {
   "cell_type": "code",
   "execution_count": null,
   "id": "m-02oVwydpdd",
   "metadata": {
    "colab": {
     "base_uri": "https://localhost:8080/"
    },
    "id": "m-02oVwydpdd",
    "outputId": "afd652ca-8c8d-4c6b-b973-b9ef90a964c9"
   },
   "outputs": [],
   "source": [
    "print(validate_generator.class_indices)"
   ]
  },
  {
   "cell_type": "code",
   "execution_count": null,
   "id": "c490fcbd",
   "metadata": {
    "colab": {
     "base_uri": "https://localhost:8080/"
    },
    "id": "c490fcbd",
    "outputId": "d12b3752-1471-43cf-acb4-554f9377adc6"
   },
   "outputs": [],
   "source": [
    "# TODO: play around with 'batch_size': try with different batch sizes of 16, 64, etc.\n",
    "\n",
    "test_generator = test_data_generator.flow_from_directory(\n",
    "    directory = TEST_PATH,\n",
    "    target_size = (224, 224),\n",
    "    batch_size = 32,\n",
    "    shuffle = False,\n",
    "    class_mode='categorical'\n",
    ")"
   ]
  },
  {
   "cell_type": "code",
   "execution_count": null,
   "id": "82f63a88",
   "metadata": {
    "colab": {
     "base_uri": "https://localhost:8080/"
    },
    "id": "82f63a88",
    "outputId": "2a944bf5-fccd-4d61-987b-37eff160445b"
   },
   "outputs": [],
   "source": [
    "print(test_generator.class_indices)"
   ]
  },
  {
   "cell_type": "code",
   "execution_count": null,
   "id": "36b8cf1e",
   "metadata": {
    "colab": {
     "base_uri": "https://localhost:8080/"
    },
    "id": "36b8cf1e",
    "outputId": "d503be96-f300-4cfb-e8e3-b32d3be72a64"
   },
   "outputs": [],
   "source": [
    "labels = list(train_generator.class_indices.keys())\n",
    "NUMBER_OF_CLASSES = len(labels)\n",
    "\n",
    "print(f\"The dataset contains {NUMBER_OF_CLASSES} labels and these are:\")\n",
    "print(labels)"
   ]
  },
  {
   "cell_type": "markdown",
   "id": "4ef3b39d",
   "metadata": {
    "id": "4ef3b39d"
   },
   "source": [
    "## Defining the Structure of ResNet50"
   ]
  },
  {
   "cell_type": "markdown",
   "id": "50493016",
   "metadata": {
    "id": "50493016"
   },
   "source": [
    "### Identity Block\n",
    "The identity block is the standard block used in ResNets, and corresponds to the case where the input activation (say $a^{[l]}$) has the same dimension as the output activation (say $a^{[l+2]}$). To flesh out the different steps of what happens in a ResNet's identity block, here is an alternative diagram showing the individual steps:\n",
    "![Identity Block](https://github.com/hamzaziizzz/ResNet-Implementation/blob/main/img/IdentityBlock.png?raw=1)\n",
    "<center>\n",
    "    <b><i>Figure 3:</i></b> <b>Identity Block.</b> <i>Skip connection \"skips over\" 2 layers.</i>\n",
    "</center>\n",
    "\n",
    "The upper path is the \"shortcut path.\" The lower path is the \"main path.\" In this diagram, we have also made explicit the CONV2D and ReLU steps in each layer. To speed up training we have also added a BatchNorm step. Don't worry about this being complicated to implement--you'll see that BatchNorm is just one line of code in Keras!\n",
    "\n",
    "In this exercise, you'll actually implement a slightly more powerful version of this identity block, in which the skip connection \"skips over\" 3 hidden layers rather than 2 layers. It looks like this:\n",
    "![Identity Block](https://github.com/hamzaziizzz/ResNet-Implementation/blob/main/img/IdentityBlock2.png?raw=1)\n",
    "<center>\n",
    "    <b><i>Figure 4:</i></b> <b>Identity Block.</b> <i>Skip connection \"skips over\" 3 layers.</i>\n",
    "</center>"
   ]
  },
  {
   "cell_type": "markdown",
   "id": "f92f8cd9",
   "metadata": {
    "id": "f92f8cd9"
   },
   "source": [
    "Here're the individual steps.\n",
    "\n",
    "First component of main path:\n",
    "- The first CONV2D has $F_1$ filters of shape (1, 1) and a stride of (1, 1). Its padding is \"valid\" and its name should be `conv_name_base + '2a'`. Use 0 as the seed for the random initialization.\n",
    "- The first BatchNorm is normalizing the channels axis. Its name should be `bn_name_base + '2a'`.\n",
    "- Then apply the ReLU activation function. This has no name and no hyperparameters.\n",
    "\n",
    "Second component of main path:\n",
    "- The second CONV2D has $F_2$ filters of shape $(f, f)$ and a stride of (1, 1). Its padding is \"same\" and its name should be `conv_name_base + '2b'`. Use 0 as the seed for the random initialization.\n",
    "- The second BatchNorm is normalizing the channels axis. Its name should be `bn_name_base + '2b'`.\n",
    "- Then apply the ReLU activation function. This has no name and no hyperparameters.\n",
    "\n",
    "Third component of main path:\n",
    "- The third CONV2D has $F_3$ filters of shape (1, 1) and a stride of (1, 1). Its padding is \"valid\" and its name should be `conv_name_base + '2c'`. Use 0 as the seed for the random initialization.\n",
    "- The third BatchNorm is normalizing the channels axis. Its name should be `bn_name_base + '2c'`. Note that there is no ReLU activation function in this component.\n",
    "\n",
    "Final step:\n",
    "- The shortcut and the input are added together.\n",
    "- Then apply the ReLU activation function. This has no name and no hyperparameters."
   ]
  },
  {
   "cell_type": "code",
   "execution_count": null,
   "id": "4adda7bb",
   "metadata": {
    "id": "4adda7bb"
   },
   "outputs": [],
   "source": [
    "def identity_block(X, f, filters, stage, block):\n",
    "    \"\"\"\n",
    "    Implementation of the identity block as defined in Figure 3\n",
    "\n",
    "    Arguments:\n",
    "        X: input tensor of shape (m, n_H_prev, n_W_prev, n_C_prev)\n",
    "        f: integer, specifying the shape of the middle CONV's window for the main path\n",
    "        filters: python list of integers, defining the number of filters in the CONV layers of the main path\n",
    "        stage: integer, used to name the layers, depending on their position in the network\n",
    "        block: string/character, used to name the layers, depending on their position in the network\n",
    "\n",
    "    Returns:\n",
    "        X: output of the identity block, tensor of shape (n_H, n_W, n_C)\n",
    "    \"\"\"\n",
    "\n",
    "    # defining name basis\n",
    "    conv_name_base = 'res' + str(stage) + block + '_branch'\n",
    "    bn_name_base = 'bn' + str(stage) + block + '_branch'\n",
    "\n",
    "    # Retrieve Filters\n",
    "    F1, F2, F3 = filters\n",
    "\n",
    "    # Save the input value. You'll need this later to add back to the main path.\n",
    "    X_shortcut = X\n",
    "\n",
    "    \"\"\"First component of main path\"\"\"\n",
    "    # CONV2D\n",
    "    X = Conv2D(filters=F1, kernel_size=(1, 1), strides=(1, 1), padding='valid', name=conv_name_base + '2a', kernel_initializer=glorot_uniform(seed=0))(X)\n",
    "    # Batch Norm\n",
    "    X = BatchNormalization(axis=3, name=bn_name_base + '2a')(X)\n",
    "    # ReLU\n",
    "    X = Activation('relu')(X)\n",
    "\n",
    "    \"\"\"Second component of main path\"\"\"\n",
    "    # CONV2D\n",
    "    X = Conv2D(filters=F2, kernel_size=(f, f), strides=(1, 1), padding='same', name=conv_name_base + '2b', kernel_initializer=glorot_uniform(seed=0))(X)\n",
    "    # Batch Norm\n",
    "    X = BatchNormalization(axis=3, name=bn_name_base + '2b')(X)\n",
    "    # ReLU\n",
    "    X = Activation('relu')(X)\n",
    "\n",
    "    \"\"\"Third component of main path\"\"\"\n",
    "    # CONV2D\n",
    "    X = Conv2D(filters=F3, kernel_size=(1, 1), strides=(1, 1), padding='valid', name=conv_name_base + '2c', kernel_initializer=glorot_uniform(seed=0))(X)\n",
    "    # Batch Norm\n",
    "    X = BatchNormalization(axis=3, name=bn_name_base + '2c')(X)\n",
    "\n",
    "    \"\"\"Final step: Add shortcut value to main path, and pass it through a RELU activation\"\"\"\n",
    "    # SKIP Connection\n",
    "    X = Add()([X, X_shortcut])\n",
    "    # ReLU\n",
    "    X = Activation('relu')(X)\n",
    "\n",
    "    return X"
   ]
  },
  {
   "cell_type": "markdown",
   "id": "0b3c7945",
   "metadata": {
    "id": "0b3c7945"
   },
   "source": [
    "### Convolution Block\n",
    "We've implemented the ResNet identity block. Next, the ResNet \"convolutional block\" is the other type of block. We can use this type of block when the input and output dimensions don't match up. The difference with the identity block is that there is a CONV2D layer in the shortcut path:\n",
    "![Convolution Block](https://github.com/hamzaziizzz/ResNet-Implementation/blob/main/img/ConvolutionBlock.png?raw=1)\n",
    "<center>\n",
    "    <b><i>Figure 5:</i></b> <i>Convolution Block.</i>\n",
    "</center>\n",
    "\n",
    "The CONV2D layer in the shortcut path is used to resize the input $x$ to a different dimension, so that the dimensions match up in the final addition needed to add the shortcut value back to the main path. For example, to reduce the activation dimensions's height and width by a factor of 2, you can use a 1x1 convolution with a stride of 2. The CONV2D layer on the shortcut path does not use any non-linear activation function. Its main role is to just apply a (learned) linear function that reduces the dimension of the input, so that the dimensions match up for the later addition step. <br>\n",
    "The details of the convolutional block are as follows:\n",
    "\n",
    "First component of main path:\n",
    "- The first CONV2D has $F_1$ filters of shape (1, 1) and a stride of $(s, s)$. Its padding is \"valid\" and its name should be `conv_name_base + '2a'`.\n",
    "- The first BatchNorm is normalizing the channels axis. Its name should be `bn_name_base + '2a'`.\n",
    "- Then apply the ReLU activation function. This has no name and no hyperparameters.\n",
    "\n",
    "Second component of main path:\n",
    "- The second CONV2D has $F_2$ filters of $(f, f)$ and a stride of (1, 1). Its padding is \"same\" and it's name should be `conv_name_base + '2b'`.\n",
    "- The second BatchNorm is normalizing the channels axis. Its name should be `bn_name_base + '2b'`.\n",
    "- Then apply the ReLU activation function. This has no name and no hyperparameters.\n",
    "\n",
    "Third component of main path:\n",
    "- The third CONV2D has $F_3$ filters of (1, 1) and a stride of (1, 1). Its padding is \"valid\" and it's name should be `conv_name_base + '2c'`.\n",
    "- The third BatchNorm is normalizing the channels axis. Its name should be `bn_name_base + '2c'`. Note that there is no ReLU activation function in this component.\n",
    "\n",
    "Shortcut path:\n",
    "- The CONV2D has $F_3$ filters of shape (1, 1) and a stride of $(s, s)$. Its padding is \"valid\" and its name should be `conv_name_base + '1'`.\n",
    "- The BatchNorm is normalizing the channels axis. Its name should be `bn_name_base + '1'`.\n",
    "\n",
    "Final step:\n",
    "- The shortcut and the main path values are added together.\n",
    "- Then apply the ReLU activation function. This has no name and no hyperparameters."
   ]
  },
  {
   "cell_type": "code",
   "execution_count": null,
   "id": "023daf77",
   "metadata": {
    "id": "023daf77"
   },
   "outputs": [],
   "source": [
    "def convolutional_block(X, f, filters, stage, block, s=2):\n",
    "    \"\"\"\n",
    "    Implementation of the convolutional block as defined in Figure 4\n",
    "\n",
    "    Arguments:\n",
    "        X: input tensor of shape (m, n_H_prev, n_W_prev, n_C_prev)\n",
    "        f: integer, specifying the shape of the middle CONV's window for the main path\n",
    "        filters: python list of integers, defining the number of filters in the CONV layers of the main path\n",
    "        stage: integer, used to name the layers, depending on their position in the network\n",
    "        block: string/character, used to name the layers, depending on their position in the network\n",
    "        s: Integer, specifying the stride to be used\n",
    "\n",
    "    Returns:\n",
    "        X: output of the convolutional block, tensor of shape (n_H, n_W, n_C)\n",
    "    \"\"\"\n",
    "\n",
    "    # defining name basis\n",
    "    conv_name_base = 'res' + str(stage) + block + '_branch'\n",
    "    bn_name_base = 'bn' + str(stage) + block + '_branch'\n",
    "\n",
    "    # Retrieve Filters\n",
    "    F1, F2, F3 = filters\n",
    "\n",
    "    # Save the input value\n",
    "    X_shortcut = X\n",
    "\n",
    "    \"\"\"First component of main path\"\"\"\n",
    "    # CONV2D\n",
    "    X = Conv2D(filters=F1, kernel_size=(1, 1), strides=(s, s), padding='valid', name=conv_name_base + '2a', kernel_initializer=glorot_uniform(seed=0))(X)\n",
    "    # Batch Norm\n",
    "    X = BatchNormalization(axis=3, name=bn_name_base + '2a')(X)\n",
    "    # ReLU\n",
    "    X = Activation('relu')(X)\n",
    "\n",
    "    \"\"\"Second component of main path\"\"\"\n",
    "    # CONV2D\n",
    "    X = Conv2D(filters=F2, kernel_size=(f, f), strides=(1, 1), padding='same', name=conv_name_base + '2b', kernel_initializer=glorot_uniform(seed=0))(X)\n",
    "    # Batch Norm\n",
    "    X = BatchNormalization(axis=3, name=bn_name_base + '2b')(X)\n",
    "    # ReLU\n",
    "    X = Activation('relu')(X)\n",
    "\n",
    "    \"\"\"Third component of main path\"\"\"\n",
    "    # CONV2D\n",
    "    X = Conv2D(filters=F3, kernel_size=(1, 1), strides=(1, 1), padding='valid', name=conv_name_base + '2c', kernel_initializer=glorot_uniform(seed=0))(X)\n",
    "    # Batch Norm\n",
    "    X = BatchNormalization(axis=3, name=bn_name_base + '2c')(X)\n",
    "\n",
    "    \"\"\"Shortcut Path\"\"\"\n",
    "    # Shortcut CONV2D\n",
    "    X_shortcut = Conv2D(filters=F3, kernel_size=(1, 1), strides=(s, s), padding='valid', name=conv_name_base + '1', kernel_initializer=glorot_uniform(seed=0))(X_shortcut)\n",
    "    # Shortcut Batch Norm\n",
    "    X_shortcut = BatchNormalization(axis=3, name=bn_name_base + '1')(X_shortcut)\n",
    "\n",
    "    \"\"\"Final step: Add shortcut value to main path, and pass it through a RELU activation\"\"\"\n",
    "    # Shortcut or Skip Connection\n",
    "    X = Add()([X, X_shortcut])\n",
    "    # ReLU\n",
    "    X = Activation('relu')(X)\n",
    "\n",
    "    return X"
   ]
  },
  {
   "cell_type": "markdown",
   "id": "f65ccd3a",
   "metadata": {
    "id": "f65ccd3a"
   },
   "source": [
    "## Building ResNet Model (50 Layers)\n",
    "The ResNet-50 model consists of 5 stages each with a convolution and Identity block. Each convolution block has 3 convolution layers and each identity block also has 3 convolution layers. The ResNet-50 has over 23 million trainable parameters. <br>\n",
    "The following figure describes in detail the architecture of this neural network. \"ID BLOCK\" in the diagram stands for \"Identity block,\" and \"ID BLOCK x3\" means we should stack 3 identity blocks together.\n",
    "![ResNet-50 Architecture](https://github.com/hamzaziizzz/ResNet-Implementation/blob/main/img/ResNet50.png?raw=1)\n",
    "<center>\n",
    "    <b><i>Figure 6:</i></b> <i>ResNet-50 Model</i>\n",
    "</center>\n",
    "\n",
    "The details of this ResNet-50 model are: <br>\n",
    "- Zero-padding pads the input with a pad of (3, 3)\n",
    "- Stage 1:\n",
    "    - The 2D Convolution has 64 filters of shape (7, 7) and uses a stride of (2, 2). Its name is *\"conv1\"*.\n",
    "    - BatchNorm is applied to the channels axis of the input.\n",
    "    - MaxPooling uses a (3, 3) window and a (2, 2) stride.\n",
    "- Stage 2:\n",
    "    - The convolutional block uses three set of filters of size [64, 64, 256], *\"f\"* is 3, *\"s\"* is 1 and the block is *\"a\"*.\n",
    "    - The 2 identity blocks use three set of filters of size [64, 64, 256], *\"f\"* is 3 and the blocks are *\"b\"* and *\"c\"*.\n",
    "- Stage 3:\n",
    "    - The convolutional block uses three set of filters of size [128, 128, 512], *\"f\"* is 3, *\"s\"* is 2 and the block is *\"a\"*.\n",
    "    - The 3 identity blocks use three set of filters of size [128, 128, 512], *\"f\"* is 3 and the blocks are *\"b\"*, *\"c\"* and *\"d\"*.\n",
    "- Stage 4:\n",
    "    - The convolutional block uses three set of filters of size [256, 256, 1024], *\"f\"* is 3, *\"s\"* is 2 and the block is *\"a\"*.\n",
    "    - The 5 identity blocks use three set of filters of size [256, 256, 1024], *\"f\"* is 3 and the blocks are *\"b\"*, *\"c\"*, *\"d\"*, *\"e\"* and *\"f\"*.\n",
    "- Stage 5:\n",
    "    - The convolutional block uses three set of filters of size [512, 512, 2048], *\"f\"* is 3, *\"s\"* is 2 and the block is *\"a\"*.\n",
    "    - The 2 identity blocks use three set of filters of size [512, 512, 2048], *\"f\"* is 3 and the blocks are *\"b\"* and *\"c\"*.\n",
    "- The 2D Average Pooling uses a window of shape (2, 2) and its name is *\"avg_pool\"*.\n",
    "- The flatten doesn't have any hyperparameters or name.\n",
    "- The Fully Connected (Dense) layer reduces its input to the number of classes using a softmax activation. Its name should be `'fc' + str(classes)`."
   ]
  },
  {
   "cell_type": "code",
   "execution_count": null,
   "id": "a1726c22",
   "metadata": {
    "id": "a1726c22"
   },
   "outputs": [],
   "source": [
    "def ResNet50(input_shape=(224, 224, 3)):\n",
    "    \"\"\"\n",
    "    Implementation of the popular ResNet50 the following architecture:\n",
    "        CONV2D -> BATCHNORM -> RELU -> MAXPOOL -> CONVBLOCK -> IDBLOCK*2 -> CONVBLOCK -> IDBLOCK*3 -> CONVBLOCK -> IDBLOCK*5 -> CONVBLOCK -> IDBLOCK*2 -> AVGPOOL -> TOPLAYER\n",
    "\n",
    "    Arguments:\n",
    "        input_shape: shape of the images of the dataset\n",
    "        classes: integer, number of classes\n",
    "\n",
    "    Returns:\n",
    "        model: a Model() instance in Keras\n",
    "    \"\"\"\n",
    "\n",
    "    # Define the input as a tensor with shape input_shape\n",
    "    X_input = Input(input_shape)\n",
    "\n",
    "    # ZERO PAD\n",
    "    X = ZeroPadding2D((3, 3))(X_input)\n",
    "\n",
    "\n",
    "    \"\"\"Stage 1\"\"\"\n",
    "    # CONV\n",
    "    X = Conv2D(64, (7, 7), strides=(2, 2), name='conv1', kernel_initializer=glorot_uniform(seed=0))(X)\n",
    "    # Batch Norm\n",
    "    X = BatchNormalization(axis=3, name='bn_conv1')(X)\n",
    "    # ReLU\n",
    "    X = Activation('relu')(X)\n",
    "    # MAX POOL\n",
    "    X = MaxPooling2D((3, 3), strides=(2, 2))(X)\n",
    "\n",
    "\n",
    "    \"\"\"Stage 2\"\"\"\n",
    "    # CONV BLOCK\n",
    "    X = convolutional_block(X, f=3, filters=[64, 64, 256], stage=2, block='a', s=1)\n",
    "    # ID BLOCK x2\n",
    "    X = identity_block(X, 3, [64, 64, 256], stage=2, block='b')\n",
    "    X = identity_block(X, 3, [64, 64, 256], stage=2, block='c')\n",
    "\n",
    "\n",
    "\n",
    "    \"\"\"Stage 3\"\"\"\n",
    "    # CONV BLOCK\n",
    "    X = convolutional_block(X, f=3, filters=[128, 128, 512], stage=3, block='a', s=2)\n",
    "    # ID BLOCK x3\n",
    "    X = identity_block(X, 3, [128, 128, 512], stage=3, block='b')\n",
    "    X = identity_block(X, 3, [128, 128, 512], stage=3, block='c')\n",
    "    X = identity_block(X, 3, [128, 128, 512], stage=3, block='d')\n",
    "\n",
    "\n",
    "    \"\"\"Stage 4\"\"\"\n",
    "    # CONV BLOCK\n",
    "    X = convolutional_block(X, f=3, filters=[256, 256, 1024], stage=4, block='a', s=2)\n",
    "    # ID BLOCK x5\n",
    "    X = identity_block(X, 3, [256, 256, 1024], stage=4, block='b')\n",
    "    X = identity_block(X, 3, [256, 256, 1024], stage=4, block='c')\n",
    "    X = identity_block(X, 3, [256, 256, 1024], stage=4, block='d')\n",
    "    X = identity_block(X, 3, [256, 256, 1024], stage=4, block='e')\n",
    "    X = identity_block(X, 3, [256, 256, 1024], stage=4, block='f')\n",
    "\n",
    "\n",
    "    \"\"\"Stage 5\"\"\"\n",
    "    # CONV BLOCK\n",
    "    X = convolutional_block(X, f=3, filters=[512, 512, 2048], stage=5, block='a', s=2)\n",
    "    # ID BLOCK x2\n",
    "    X = identity_block(X, 3, [512, 512, 2048], stage=5, block='b')\n",
    "    X = identity_block(X, 3, [512, 512, 2048], stage=5, block='c')\n",
    "\n",
    "    # AVGPOOL. Use \"X = AveragePooling2D(...)(X)\"\n",
    "    X = AveragePooling2D(pool_size=(2, 2), padding='same')(X)\n",
    "\n",
    "    # Create Model\n",
    "    model = Model(inputs=X_input, outputs=X, name='ResNet50')\n",
    "\n",
    "    # return ResNet50 as model\n",
    "    return model"
   ]
  },
  {
   "cell_type": "markdown",
   "id": "cadbb0e6",
   "metadata": {
    "id": "cadbb0e6"
   },
   "source": [
    "***Defining Base Model***"
   ]
  },
  {
   "cell_type": "code",
   "execution_count": null,
   "id": "83b56e6f",
   "metadata": {
    "id": "83b56e6f",
    "scrolled": true
   },
   "outputs": [],
   "source": [
    "base_model = ResNet50(input_shape = (224, 224, 3))"
   ]
  },
  {
   "cell_type": "markdown",
   "id": "c9c5fc45",
   "metadata": {
    "id": "c9c5fc45"
   },
   "source": [
    "***Creating Output Layer***"
   ]
  },
  {
   "cell_type": "code",
   "execution_count": null,
   "id": "c3633edd",
   "metadata": {
    "id": "c3633edd"
   },
   "outputs": [],
   "source": [
    "head_model = base_model.output\n",
    "\n",
    "# Flatten the output of our model\n",
    "head_model = Flatten()(head_model)\n",
    "\n",
    "# Constructing fully connected layer\n",
    "head_model = Dense(256, activation='relu', name='fc1', kernel_initializer=glorot_uniform(seed=0))(head_model)\n",
    "head_model = Dense(128, activation='relu', name='fc2', kernel_initializer=glorot_uniform(seed=0))(head_model)\n",
    "head_model = Dense(NUMBER_OF_CLASSES, activation='softmax', name='fc3', kernel_initializer=glorot_uniform(seed=0))(head_model)"
   ]
  },
  {
   "cell_type": "code",
   "execution_count": null,
   "id": "b6e15bfd",
   "metadata": {
    "id": "b6e15bfd"
   },
   "outputs": [],
   "source": [
    "model = Model(\n",
    "    inputs = base_model.input,\n",
    "    outputs = head_model\n",
    ")"
   ]
  },
  {
   "cell_type": "code",
   "execution_count": null,
   "id": "ff64891a",
   "metadata": {
    "colab": {
     "base_uri": "https://localhost:8080/"
    },
    "id": "ff64891a",
    "outputId": "28c110ed-5022-4c05-b10d-1a6b28de8b8b"
   },
   "outputs": [],
   "source": [
    "model.summary()"
   ]
  },
  {
   "cell_type": "markdown",
   "id": "486053f0",
   "metadata": {
    "id": "486053f0"
   },
   "source": [
    "### `compile` method\n",
    "Configures the model for training.\n",
    "#### *Arguments*\n",
    "- **optimizer:** String (name of optimizer) or optimizer instance.\n",
    "- **loss:** Loss function. May be a string (name of loss function), or a `keras.losses` instance.\n",
    "- **metrics:** List of metrics to be evaluated by the model during training and testing. Each of this can be a string (name of a built-in function), function or a keras.metrics instance."
   ]
  },
  {
   "cell_type": "code",
   "execution_count": null,
   "id": "a0e64d2b",
   "metadata": {
    "id": "a0e64d2b"
   },
   "outputs": [],
   "source": [
    "model.compile(\n",
    "    optimizer = 'adam',\n",
    "    loss = keras.losses.categorical_crossentropy,\n",
    "    metrics=['accuracy']\n",
    ")"
   ]
  },
  {
   "cell_type": "markdown",
   "id": "2e781232",
   "metadata": {
    "id": "2e781232"
   },
   "source": [
    "## Saving our Model as a JSON File"
   ]
  },
  {
   "cell_type": "code",
   "execution_count": null,
   "id": "3994a7f1",
   "metadata": {
    "id": "3994a7f1"
   },
   "outputs": [],
   "source": [
    "# Creating a directory to save our models\n",
    "!mkdir model"
   ]
  },
  {
   "cell_type": "code",
   "execution_count": null,
   "id": "7263298c",
   "metadata": {
    "id": "7263298c"
   },
   "outputs": [],
   "source": [
    "# Importing python's json module\n",
    "import json\n",
    "\n",
    "# Saving our model as json file\n",
    "model_json = model.to_json()\n",
    "with open(\"./model/ResNet-50.json\", 'w') as json_file:\n",
    "    json_file.write(model_json)"
   ]
  },
  {
   "cell_type": "markdown",
   "id": "f0b49e1f",
   "metadata": {
    "id": "f0b49e1f"
   },
   "source": [
    "## Defining and Initializing Callbacks for our Model"
   ]
  },
  {
   "cell_type": "markdown",
   "id": "df952a3d",
   "metadata": {
    "id": "df952a3d"
   },
   "source": [
    "### Early Stopping\n",
    "Stop training when a monitored metric has stopped improving.\n",
    "\n",
    "Assuming the goal of a training is to maximize the validation accuracy. With this, the metric to be monitored would be 'val_accuracy', and mode would be 'max'.\n",
    "\n",
    "#### *Arguments*\n",
    "- **monitor:** Quantity to be monitored.\n",
    "- **min_delta:** Minimum change in the monitored quantity to qualify as an improvement, i.e. an absolute change of less than min_delta, will count as no improvement.\n",
    "- **mode:** One of {\"auto\", \"min\", \"max\"}. In min mode, training will stop when the quantity monitored has stopped decreasing; in \"max\" mode it will stop when the quantity monitored has stopped increasing; in \"auto\" mode, the direction is automatically inferred from the name of the monitored quantity.\n",
    "- **verbose:** Verbosity mode, 0 or 1. Mode 0 is silent, and mode 1 displays messages when the callback takes an action.\n",
    "- **patience:** Number of epochs with no improvement after which training will be stopped."
   ]
  },
  {
   "cell_type": "code",
   "execution_count": null,
   "id": "4632d6a0",
   "metadata": {
    "id": "4632d6a0"
   },
   "outputs": [],
   "source": [
    "early_stopping = EarlyStopping(\n",
    "    monitor = 'val_accuracy',\n",
    "    min_delta = 0.01,\n",
    "    mode = 'max',\n",
    "    verbose = 1,\n",
    "    patience = 20\n",
    ")"
   ]
  },
  {
   "cell_type": "markdown",
   "id": "ee3e3b13",
   "metadata": {
    "id": "ee3e3b13"
   },
   "source": [
    "### Model Checkpoint\n",
    "ModelCheckpoint() callback is used in conjunction with training using model.fit() or model.fit_generator to save a model or weights (in a checkpoint file) at some interval, so the model or weights can be loaded later to continue the training from the state saved.\n",
    "\n",
    "A few options this callback provides include:\n",
    "- Whether to only keep the model that has achieved the \"best performance\" so far, or whether to save the model at the end of every epoch regardless of performance.\n",
    "- Definition of 'best'; which quantity to monitor and whether it should be maximized or minimized.\n",
    "- The frequency it should save at. Currently, the callback supports saving at the end of every epoch, or after a fixed number of training batches.\n",
    "- Whether only weights are saved, or the whole model is saved.\n",
    "\n",
    "#### *Arguments*\n",
    "- **filepath:** string or, path to save the model file.\n",
    "- **monitor:** The metric name to monitor.\n",
    "    - Prefix the name with \"val_\" to monitor validation metrics.\n",
    "    - Use \"loss\" or \"val_loss\" to monitor the model's total loss.\n",
    "    - If you specify metrics as strings, like \"accuracy\", pass the same string (with or without the \"val_\" prefix).\n",
    "- **save_best_only:** if save_best_only=True, it only saves when the model is considered the \"best\" and the latest best model according to the quantity monitored will not be overwritten.\n",
    "- **mode:** one of {'auto', 'min', 'max'}. If save_best_only=True, the decision to overwrite the current save file is made based on either the maximization or the minimization of the monitored quantity. For val_accuracy, this should be max, for val_loss this should be min, etc. In auto mode, the mode is set to max if the quantities monitored are 'accuracy' and are set to min for the rest of the quantities."
   ]
  },
  {
   "cell_type": "code",
   "execution_count": null,
   "id": "ea667b8a",
   "metadata": {
    "id": "ea667b8a"
   },
   "outputs": [],
   "source": [
    "model_checkpoint = ModelCheckpoint(\n",
    "    filepath = './model/best_model.h5',\n",
    "    monitor = 'val_accuracy',\n",
    "    mode = 'max',\n",
    "    save_best_only = True\n",
    ")"
   ]
  },
  {
   "cell_type": "markdown",
   "id": "f91faed4",
   "metadata": {
    "id": "f91faed4"
   },
   "source": [
    "### model.fit_generator()\n",
    "*(Deprecated) Fits the model on data yielded batch-by-batch by a generator.* <br>\n",
    "The generator is run in parallel to the model, for efficiency. For instance, this allows you to do real-time data augmentation on images on CPU in parallel to training your model on GPU. If we have a large dataset that cannot be loaded in the RAM at once, fit_generator() is the recommended way of working.\n",
    "\n",
    "#### *Arguments*\n",
    "- **generator:** A generator (e.g. like the one provided by `flow_from_directory()`).\n",
    "    The output of the generator must be a list of one of these forms:\n",
    "    ```\n",
    "    - (inputs, targets)\n",
    "    - (inputs, targets, sample_weights)\n",
    "    ```\n",
    "    This list (a single output of the generator) makes a single batch.\n",
    "- **validation_data:** this can be either:\n",
    "    - a generator for the validation data\n",
    "    - a list (inputs, targets)\n",
    "    - a list (inputs, targets, sample_weights). on which to evaluate the loss and any model metrics at the end of each epoch. The model will not be trained on this data.\n",
    "- **steps_per_epoch:** Total number of steps (batches of samples) to yield from `generator` before declaring one epoch finished and starting the next epoch. It should typically be equal to the number of samples if your dataset divided by the batch size.\n",
    "- **epochs:** Integer. Number of epochs to train the model. An epoch is an iteration over the entire data provided, as defined by `steps_per_epoch`.\n",
    "- **verbose:** Verbosity mode (0 = silent, 1 = progress bar, 2 = one line per epoch).\n",
    "- **callbacks:** List of callbacks to apply during training."
   ]
  },
  {
   "cell_type": "code",
   "execution_count": null,
   "id": "62e7b3c0",
   "metadata": {
    "colab": {
     "base_uri": "https://localhost:8080/"
    },
    "id": "62e7b3c0",
    "outputId": "232a4668-214c-416f-f2b8-ef385bc82693",
    "scrolled": true
   },
   "outputs": [],
   "source": [
    "# TODO: Play around with 'epochs'. Change the number epochs and note the matrices of the model to see how number of epochs can affect the model accuracy.\n",
    "\n",
    "model_history = model.fit_generator(\n",
    "    generator = train_generator,\n",
    "    validation_data = validate_generator,\n",
    "    epochs = 100,\n",
    "    verbose = 1,\n",
    "    callbacks = [early_stopping, model_checkpoint]\n",
    ")"
   ]
  },
  {
   "cell_type": "markdown",
   "id": "ef068767",
   "metadata": {
    "id": "ef068767"
   },
   "source": [
    "#### Plotting Accuracy vs Validation Accuracy"
   ]
  },
  {
   "cell_type": "code",
   "execution_count": null,
   "id": "e32aac04",
   "metadata": {
    "colab": {
     "base_uri": "https://localhost:8080/",
     "height": 235
    },
    "id": "e32aac04",
    "outputId": "f9a2140d-9790-4b70-9f62-b38e89732b11"
   },
   "outputs": [],
   "source": [
    "sns.set()\n",
    "\n",
    "plt.plot(model_history.history['accuracy'], label=\"Accuracy\")\n",
    "plt.plot(model_history.history['val_accuracy'], c='red', label=\"Validation Accuracy\")\n",
    "\n",
    "plt.title(\"Accuracy vs Validation Accuracy\")\n",
    "plt.legend(loc=\"upper left\")\n",
    "plt.show()"
   ]
  },
  {
   "cell_type": "markdown",
   "id": "2377b76e",
   "metadata": {
    "id": "2377b76e"
   },
   "source": [
    "#### Plotting Loss vs Validation Loss"
   ]
  },
  {
   "cell_type": "code",
   "execution_count": null,
   "id": "19218993",
   "metadata": {
    "id": "19218993"
   },
   "outputs": [],
   "source": [
    "sns.set()\n",
    "\n",
    "plt.plot(model_history.history['loss'], label=\"Loss\")\n",
    "plt.plot(model_history.history['val_loss'], c='red', label=\"Validation Loss\")\n",
    "\n",
    "plt.title(\"Loss vs Validation Loss\")\n",
    "plt.legend(loc=\"upper right\")\n",
    "plt.show()"
   ]
  },
  {
   "cell_type": "markdown",
   "id": "b2632954",
   "metadata": {
    "id": "b2632954"
   },
   "source": [
    "### model.load_weights()\n",
    "Loads all layer weights from a saved files.\n",
    "#### *Arguments*\n",
    "- **filepath:** String, path to the weights file to load."
   ]
  },
  {
   "cell_type": "code",
   "execution_count": null,
   "id": "481d7865",
   "metadata": {
    "id": "481d7865"
   },
   "outputs": [],
   "source": [
    "model.load_weights(\"./model/best_model.h5\")"
   ]
  },
  {
   "cell_type": "markdown",
   "id": "0bbe0fad",
   "metadata": {
    "id": "0bbe0fad"
   },
   "source": [
    "### model.evaluate_generator()\n",
    "*(Deprecated)* Evaluates the model on a data generator."
   ]
  },
  {
   "cell_type": "code",
   "execution_count": null,
   "id": "53225e09",
   "metadata": {
    "id": "53225e09"
   },
   "outputs": [],
   "source": [
    "evaluation = model.evaluate_generator(test_generator)\n",
    "\n",
    "print(f\"The accuracy of our model on Testing Data is {(evaluation[1] * 100):.3f}%\")"
   ]
  },
  {
   "cell_type": "markdown",
   "id": "ce3246be",
   "metadata": {
    "id": "ce3246be"
   },
   "source": [
    "### model.predict_generator()\n",
    "*(Deprecated)* Generates predictions for the input samples from a data generator.\n",
    "#### *Arguments*\n",
    "- **generator:** Generator yielding batches of input samples.\n",
    "- **steps:** Total number of steps (batches of samples) to yield from `generator` before stopping.\n",
    "- **verbose:** verbosity mode, 0 or 1.\n",
    "- **workers:** Maximum number of threads to use for parallel processing."
   ]
  },
  {
   "cell_type": "code",
   "execution_count": null,
   "id": "bda00dbb",
   "metadata": {
    "id": "bda00dbb"
   },
   "outputs": [],
   "source": [
    "predictions = model.predict_generator(\n",
    "    generator = test_generator,\n",
    "    steps = np.ceil(test_generator.samples / test_generator.batch_size),\n",
    "    verbose = 0,\n",
    "    workers = 0\n",
    ")"
   ]
  },
  {
   "cell_type": "code",
   "execution_count": null,
   "id": "35df3fa9",
   "metadata": {
    "id": "35df3fa9"
   },
   "outputs": [],
   "source": [
    "print(predictions)"
   ]
  },
  {
   "cell_type": "code",
   "execution_count": null,
   "id": "75956ea8",
   "metadata": {
    "id": "75956ea8"
   },
   "outputs": [],
   "source": [
    "# number of images in our testing dataset\n",
    "test_generator.samples"
   ]
  },
  {
   "cell_type": "code",
   "execution_count": null,
   "id": "cdb3f995",
   "metadata": {
    "id": "cdb3f995"
   },
   "outputs": [],
   "source": [
    "# batch size for testing data generator\n",
    "test_generator.batch_size"
   ]
  },
  {
   "cell_type": "code",
   "execution_count": null,
   "id": "b1743708",
   "metadata": {
    "id": "b1743708"
   },
   "outputs": [],
   "source": [
    "# store the predicted outcomes of our model\n",
    "\n",
    "# Get the class with the highest probability for each sample\n",
    "predicted_classes = np.argmax(predictions, axis=1)\n",
    "\n",
    "print(predicted_classes)"
   ]
  },
  {
   "cell_type": "code",
   "execution_count": null,
   "id": "21fdc86f",
   "metadata": {
    "id": "21fdc86f"
   },
   "outputs": [],
   "source": [
    "# classes found in our testing data generator\n",
    "print(test_generator.classes)"
   ]
  },
  {
   "cell_type": "markdown",
   "id": "f74a90ea",
   "metadata": {
    "id": "f74a90ea"
   },
   "source": [
    "## Metrics for our ResNet-50 Convolutional Neural Network"
   ]
  },
  {
   "cell_type": "markdown",
   "id": "505beed9",
   "metadata": {
    "id": "505beed9"
   },
   "source": [
    "### Confustion Matrix"
   ]
  },
  {
   "cell_type": "code",
   "execution_count": null,
   "id": "3d4496b9",
   "metadata": {
    "id": "3d4496b9"
   },
   "outputs": [],
   "source": [
    "c_m = confusion_matrix(test_generator.classes, predicted_classes)"
   ]
  },
  {
   "cell_type": "code",
   "execution_count": null,
   "id": "a6898278",
   "metadata": {
    "id": "a6898278"
   },
   "outputs": [],
   "source": [
    "sns.set_style(\"ticks\")\n",
    "\n",
    "# Setting default size of the plot\n",
    "# Setting default fontsize used in the plot\n",
    "plt.rcParams['figure.figsize'] = (10.0, 9.0)\n",
    "plt.rcParams['font.size'] = 20\n",
    "\n",
    "\n",
    "# Implementing visualization of Confusion Matrix\n",
    "display_c_m = ConfusionMatrixDisplay(c_m, display_labels=labels)\n",
    "\n",
    "\n",
    "# Plotting Confusion Matrix\n",
    "# Setting colour map to be used\n",
    "display_c_m.plot(cmap='OrRd', xticks_rotation=25)\n",
    "# Other possible options for colour map are:\n",
    "# 'autumn_r', 'Blues', 'cool', 'Greens', 'Greys', 'PuRd', 'copper_r'\n",
    "\n",
    "\n",
    "# Setting fontsize for xticks and yticks\n",
    "plt.xticks(fontsize=15)\n",
    "plt.yticks(fontsize=15)\n",
    "\n",
    "\n",
    "# Giving name to the plot\n",
    "plt.title('Confusion Matrix', fontsize=24)\n",
    "\n",
    "\n",
    "# Saving plot\n",
    "plt.savefig('confusion_matrix.png', transparent=True, dpi=500)\n",
    "\n",
    "# Showing the plot\n",
    "plt.show()"
   ]
  },
  {
   "cell_type": "markdown",
   "id": "83020505",
   "metadata": {
    "id": "83020505"
   },
   "source": [
    "### Classification Report"
   ]
  },
  {
   "cell_type": "code",
   "execution_count": null,
   "id": "25f2bc78",
   "metadata": {
    "id": "25f2bc78",
    "scrolled": true
   },
   "outputs": [],
   "source": [
    "print(\"Classification Report containes the following metrics:\\n\")\n",
    "print(classification_report(test_generator.classes, predicted_classes, target_names = labels))"
   ]
  },
  {
   "cell_type": "markdown",
   "id": "35096f60",
   "metadata": {
    "id": "35096f60"
   },
   "source": [
    "### Precission-Recall Curve"
   ]
  },
  {
   "cell_type": "code",
   "execution_count": null,
   "id": "8e445ee2",
   "metadata": {
    "id": "8e445ee2"
   },
   "outputs": [],
   "source": [
    "precision, recall, threshold = precision_recall_curve(test_generator.classes, predictions)"
   ]
  },
  {
   "cell_type": "code",
   "execution_count": null,
   "id": "c11d7e7b",
   "metadata": {
    "id": "c11d7e7b"
   },
   "outputs": [],
   "source": [
    "sns.set()\n",
    "\n",
    "PrecisionRecallDisplay(\n",
    "    precision = precision,\n",
    "    recall = recall,\n",
    "    average_precision = average_precision_score(test_generator.classes, predictions),\n",
    "    estimator_name = \"ResNet-50 Convolution Neural Network\"\n",
    ").plot(marker = \".\")\n",
    "\n",
    "plt.show()"
   ]
  },
  {
   "cell_type": "markdown",
   "id": "60fee198",
   "metadata": {
    "id": "60fee198"
   },
   "source": [
    "### ROC-AUC Curve"
   ]
  },
  {
   "cell_type": "code",
   "execution_count": null,
   "id": "47db8d3b",
   "metadata": {
    "id": "47db8d3b"
   },
   "outputs": [],
   "source": [
    "from sklearn.metrics import auc, roc_auc_score, roc_curve, RocCurveDisplay\n",
    "\n",
    "false_positive_rate, true_positive_rate, threshold = roc_curve(test_generator.classes, predictions)\n",
    "\n",
    "RocCurveDisplay(\n",
    "    fpr = false_positive_rate,\n",
    "    tpr = true_positive_rate,\n",
    "    roc_auc = auc(false_positive_rate, true_positive_rate),\n",
    "    estimator_name = \"ResNet-50 Convolution Neural Network\"\n",
    ").plot(marker = \".\")\n",
    "\n",
    "plt.show()"
   ]
  },
  {
   "cell_type": "markdown",
   "id": "cf97190a",
   "metadata": {
    "id": "cf97190a"
   },
   "source": [
    "## Perform Prediction on Some Random Images"
   ]
  },
  {
   "cell_type": "markdown",
   "id": "a8297bd1",
   "metadata": {
    "id": "a8297bd1"
   },
   "source": [
    "### model.predict()\n",
    "Generates output predictions for the input samples.\n",
    "#### *Arguments*\n",
    "- **x:** Input samples. It could be:\n",
    "    - A Numpy array (or array-like), or a list of arrays (in case the model has multiple inputs).\n",
    "    - A TensorFlow tensor, or a list of tensors (in case the model has multiple inputs).\n",
    "    - A generator"
   ]
  },
  {
   "cell_type": "markdown",
   "id": "dd628783",
   "metadata": {
    "id": "dd628783"
   },
   "source": [
    "### numpy.argmax()\n",
    "Returns the indices of the maximum values along an axis.\n",
    "#### *Arguments*\n",
    "- **a:** *array_like* <br> Input array.\n",
    "- **axis:** *int, optional* <br> By default, the index is into the flattened array, otherwise along the specified axis.\n",
    "- **out:** *array, optional* <br> If provided, the result will be inserted into this array. It should be of the appropriate shape and dtype.\n",
    "- **keepdims:** *bool, optional* <br> If this is set to True, the axes which are reduced are left in the result as dimensions with size one. With this option, the result will broadcast correctly against the array.\n",
    "#### *Returns*\n",
    "- **index_array:** *ndarray of ints* <br> Array of indices into the array. It has the same shape as a.shape with the dimension along axis removed. If keepdims is set to True, then the size of axis will be 1 with the resulting array having same shape as a.shape."
   ]
  },
  {
   "cell_type": "code",
   "execution_count": null,
   "id": "c0ab312f",
   "metadata": {
    "id": "c0ab312f"
   },
   "outputs": [],
   "source": [
    "import cv2\n",
    "import numpy as np\n",
    "import matplotlib.pyplot as plt\n",
    "\n",
    "def predict_image(image_path, model, class_labels):\n",
    "    \"\"\"\n",
    "    This function takes an image path as an argument and predicts its class using the provided model.\n",
    "\n",
    "    Arguments:\n",
    "        image_path: string, the path of the image.\n",
    "        model: the pre-trained model used for prediction.\n",
    "        class_labels: list of strings, containing the names of the classes.\n",
    "\n",
    "    Returns:\n",
    "        predicted_label: string, the predicted class label.\n",
    "    \"\"\"\n",
    "\n",
    "    # read the image from image_path with the help of OpenCV\n",
    "    image = cv2.imread(image_path)\n",
    "    # resize the image to (224, 224) as our model accepts the input of size (224, 224)\n",
    "    resized_image = cv2.resize(image, (224, 224))\n",
    "\n",
    "    # Preprocess the image data if necessary (e.g., normalization)\n",
    "\n",
    "    # Expand the dimensions to match the model's input shape\n",
    "    input_image = np.expand_dims(resized_image, axis=0)\n",
    "\n",
    "    # Make the prediction using the model\n",
    "    predictions = model.predict(input_image, verbose=0)\n",
    "\n",
    "    # Get the index of the predicted class with the highest probability\n",
    "    predicted_class_index = np.argmax(predictions, axis=1)[0]\n",
    "\n",
    "    # Get the corresponding class label\n",
    "    predicted_label = class_labels[predicted_class_index]\n",
    "\n",
    "    print(\"Predicted Label:\", predicted_label)\n",
    "\n",
    "    plt.imshow(image)\n",
    "    plt.axis(\"off\")\n",
    "    plt.show()"
   ]
  },
  {
   "cell_type": "code",
   "execution_count": null,
   "id": "0501054e",
   "metadata": {
    "id": "0501054e"
   },
   "outputs": [],
   "source": [
    "# list all the directories in our main dataset path\n",
    "for directory in os.listdir(DATASET_PATH):\n",
    "    # pick a single random image from each sub-directory of main dataset path\n",
    "    for img in np.random.choice(os.listdir(os.path.join(DATASET_PATH, directory)), size = 1):\n",
    "        # perform prediction on each image that is being chosen\n",
    "        predict_image(os.path.join(DATASET_PATH, directory, img))\n",
    "        print(\"\\n\\n\")"
   ]
  }
 ],
 "metadata": {
  "accelerator": "GPU",
  "colab": {
   "gpuType": "T4",
   "provenance": []
  },
  "kernelspec": {
   "display_name": "Python 3 (ipykernel)",
   "language": "python",
   "name": "python3"
  },
  "language_info": {
   "codemirror_mode": {
    "name": "ipython",
    "version": 3
   },
   "file_extension": ".py",
   "mimetype": "text/x-python",
   "name": "python",
   "nbconvert_exporter": "python",
   "pygments_lexer": "ipython3",
   "version": "3.10.6"
  }
 },
 "nbformat": 4,
 "nbformat_minor": 5
}
