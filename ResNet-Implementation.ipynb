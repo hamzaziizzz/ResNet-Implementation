{
 "cells": [
  {
   "cell_type": "markdown",
   "id": "7fad1ca9",
   "metadata": {},
   "source": [
    "# ResNet-50 Implementation"
   ]
  },
  {
   "cell_type": "markdown",
   "id": "465781d1",
   "metadata": {},
   "source": [
    "## Introduction to ResNet (Residual Network)"
   ]
  },
  {
   "cell_type": "markdown",
   "id": "6aaf12b1",
   "metadata": {},
   "source": [
    "__ResNet__ or __Residual Neural Network__ was proposed by researchers at Microsoft Research namely, _Kaiming He_, _Xiangyu Zhang_, _Shaoqing Ren_ and, _Jian Sun_; which also won [ImageNet](https://www.image-net.org/about.php) Challenge in 2015."
   ]
  },
  {
   "cell_type": "markdown",
   "id": "422a74b7",
   "metadata": {},
   "source": [
    "<center>\n",
    "    <img src=\"./img/MicrosoftResearch.png\" alt=\"Microsoft Research\" width=\"500px\"> <br>\n",
    "</center>"
   ]
  },
  {
   "cell_type": "markdown",
   "id": "e2462c6c",
   "metadata": {},
   "source": [
    "## Importing Dependencies"
   ]
  },
  {
   "cell_type": "code",
   "execution_count": 1,
   "id": "da4a58eb",
   "metadata": {},
   "outputs": [
    {
     "name": "stderr",
     "output_type": "stream",
     "text": [
      "2022-12-09 20:45:10.287588: W tensorflow/stream_executor/platform/default/dso_loader.cc:64] Could not load dynamic library 'libcudart.so.11.0'; dlerror: libcudart.so.11.0: cannot open shared object file: No such file or directory; LD_LIBRARY_PATH: /home/hamza/.local/lib/python3.10/site-packages/cv2/../../lib64:\n",
      "2022-12-09 20:45:10.287615: I tensorflow/stream_executor/cuda/cudart_stub.cc:29] Ignore above cudart dlerror if you do not have a GPU set up on your machine.\n"
     ]
    }
   ],
   "source": [
    "# Import OpenCV which is a Computer Vision library and here we use it to deal with our image dataset\n",
    "import cv2\n",
    "\n",
    "# Import NumPy as our model trains on arrays which will be handled by NumPy\n",
    "import numpy as np\n",
    "\n",
    "import scipy\n",
    "\n",
    "# Import OS to interact with operating system\n",
    "import os\n",
    "\n",
    "# Import Math to use some mathematical computations\n",
    "import math\n",
    "\n",
    "# Import Shutil to move, copy and delete directories and sub-directories\n",
    "import shutil\n",
    "\n",
    "# Import glob module which finds all the pathnames matching a specified pattern according to the rules used by the Unix shell\n",
    "import glob\n",
    "\n",
    "# Import mayplotlib to visualize the metrics of our model\n",
    "import matplotlib.pyplot as plt\n",
    "\n",
    "# Import Keras\n",
    "import keras\n",
    "\n",
    "# Import Keras ImageDataGenerator which is used for getting the input of the original data and further, it makes the transformation of this data on a random basis and gives the output resultant containing only the data that is newly transformed.\n",
    "from keras.preprocessing.image import ImageDataGenerator\n",
    "\n",
    "from sklearn.metrics import classification_report, confusion_matrix, ConfusionMatrixDisplay\n",
    "\n",
    "from keras.models import Sequential, Model, load_model\n",
    "from keras.optimizers import SGD\n",
    "from keras.callbacks import EarlyStopping, ModelCheckpoint\n",
    "from keras.layers import Input, Add, Dense, Activation, ZeroPadding2D, BatchNormalization, Flatten, Conv2D, AveragePooling2D, MaxPooling2D, GlobalMaxPooling2D, MaxPool2D\n",
    "from keras.preprocessing import image\n",
    "from keras.initializers import glorot_uniform\n",
    "from keras.losses import binary_crossentropy"
   ]
  },
  {
   "cell_type": "code",
   "execution_count": 2,
   "id": "e7b715d7",
   "metadata": {
    "scrolled": true
   },
   "outputs": [],
   "source": [
    "DATASET_PATH = \"Animal-Classification-Dataset\""
   ]
  },
  {
   "cell_type": "code",
   "execution_count": 3,
   "id": "c02af1c7",
   "metadata": {},
   "outputs": [],
   "source": [
    "number_of_images = {}\n",
    "\n",
    "for dir in os.listdir(DATASET_PATH):\n",
    "    number_of_images[dir] = len(os.listdir(os.path.join(DATASET_PATH, dir)))"
   ]
  },
  {
   "cell_type": "code",
   "execution_count": 4,
   "id": "86934816",
   "metadata": {},
   "outputs": [
    {
     "data": {
      "text/plain": [
       "{'Zebra': 1000, 'Buffalo': 1000}"
      ]
     },
     "execution_count": 4,
     "metadata": {},
     "output_type": "execute_result"
    }
   ],
   "source": [
    "number_of_images"
   ]
  },
  {
   "cell_type": "code",
   "execution_count": 5,
   "id": "41b8df74",
   "metadata": {},
   "outputs": [
    {
     "name": "stdout",
     "output_type": "stream",
     "text": [
      "['Zebra', 'Buffalo']\n"
     ]
    }
   ],
   "source": [
    "labels = []\n",
    "\n",
    "for key in number_of_images.keys():\n",
    "    labels.append(key)\n",
    "\n",
    "print(labels)"
   ]
  },
  {
   "cell_type": "code",
   "execution_count": 6,
   "id": "5c834a55",
   "metadata": {},
   "outputs": [],
   "source": [
    "def data_folder(folder_name, split_ratio):\n",
    "    if not os.path.exists(\"./\" + folder_name):\n",
    "        os.mkdir(\"./\" + folder_name)\n",
    "    \n",
    "    for dir in os.listdir(DATASET_PATH):\n",
    "        if not os.path.exists(\"./\" + folder_name + \"/\" + dir):\n",
    "            os.makedirs(\"./\" + folder_name + \"/\" + dir)\n",
    "\n",
    "        for img in np.random.choice(a = os.listdir(os.path.join(DATASET_PATH, dir)), size = (math.floor(split_ratio * number_of_images[dir])), replace = False):\n",
    "            O = os.path.join(DATASET_PATH, dir, img)\n",
    "            D = os.path.join(\"./\" + folder_name, dir)\n",
    "            shutil.copy(O, D)\n",
    "    \n",
    "    else:\n",
    "        print(f\"{folder_name} Folder exist\")"
   ]
  },
  {
   "cell_type": "code",
   "execution_count": 7,
   "id": "ebe09200",
   "metadata": {},
   "outputs": [
    {
     "name": "stdout",
     "output_type": "stream",
     "text": [
      "Train Folder exist\n"
     ]
    }
   ],
   "source": [
    "data_folder(\"Train\", 0.7)"
   ]
  },
  {
   "cell_type": "code",
   "execution_count": 8,
   "id": "50ec0e22",
   "metadata": {},
   "outputs": [
    {
     "name": "stdout",
     "output_type": "stream",
     "text": [
      "Validate Folder exist\n"
     ]
    }
   ],
   "source": [
    "data_folder(\"Validate\", 0.15)"
   ]
  },
  {
   "cell_type": "code",
   "execution_count": 9,
   "id": "7135e492",
   "metadata": {
    "scrolled": true
   },
   "outputs": [
    {
     "name": "stdout",
     "output_type": "stream",
     "text": [
      "Test Folder exist\n"
     ]
    }
   ],
   "source": [
    "data_folder(\"Test\", 0.15)"
   ]
  },
  {
   "cell_type": "code",
   "execution_count": 10,
   "id": "29ea3321",
   "metadata": {},
   "outputs": [],
   "source": [
    "TRAIN_PATH = \"./Train\""
   ]
  },
  {
   "cell_type": "code",
   "execution_count": 11,
   "id": "2a61441b",
   "metadata": {},
   "outputs": [],
   "source": [
    "TEST_PATH = \"./Test\""
   ]
  },
  {
   "cell_type": "code",
   "execution_count": 12,
   "id": "15dd96d4",
   "metadata": {},
   "outputs": [],
   "source": [
    "VALIDATE_PATH = \"./Validate\""
   ]
  },
  {
   "cell_type": "code",
   "execution_count": 13,
   "id": "56589a7c",
   "metadata": {},
   "outputs": [],
   "source": [
    "class_names_train = os.listdir(TRAIN_PATH)"
   ]
  },
  {
   "cell_type": "code",
   "execution_count": 14,
   "id": "5aaf47b8",
   "metadata": {},
   "outputs": [],
   "source": [
    "class_names_test = os.listdir(TEST_PATH)"
   ]
  },
  {
   "cell_type": "code",
   "execution_count": 15,
   "id": "b7805edb",
   "metadata": {},
   "outputs": [],
   "source": [
    "class_names_validate = os.listdir(VALIDATE_PATH)"
   ]
  },
  {
   "cell_type": "code",
   "execution_count": 16,
   "id": "e70a51a6",
   "metadata": {},
   "outputs": [
    {
     "name": "stdout",
     "output_type": "stream",
     "text": [
      "['Zebra', 'Buffalo']\n"
     ]
    }
   ],
   "source": [
    "print(class_names_train)"
   ]
  },
  {
   "cell_type": "code",
   "execution_count": 17,
   "id": "148db27f",
   "metadata": {},
   "outputs": [
    {
     "name": "stdout",
     "output_type": "stream",
     "text": [
      "['Zebra', 'Buffalo']\n"
     ]
    }
   ],
   "source": [
    "print(class_names_test)"
   ]
  },
  {
   "cell_type": "code",
   "execution_count": 18,
   "id": "ad3237b5",
   "metadata": {},
   "outputs": [
    {
     "name": "stdout",
     "output_type": "stream",
     "text": [
      "['Zebra', 'Buffalo']\n"
     ]
    }
   ],
   "source": [
    "print(class_names_validate)"
   ]
  },
  {
   "cell_type": "code",
   "execution_count": 19,
   "id": "9c8c76af",
   "metadata": {},
   "outputs": [],
   "source": [
    "train_datagen = ImageDataGenerator(zoom_range = 0.15, width_shift_range = 0.2, height_shift_range = 0.2, shear_range = 0.15)\n",
    "validate_datagen = ImageDataGenerator()\n",
    "test_datagen = ImageDataGenerator()"
   ]
  },
  {
   "cell_type": "code",
   "execution_count": 20,
   "id": "f9961d62",
   "metadata": {},
   "outputs": [
    {
     "name": "stdout",
     "output_type": "stream",
     "text": [
      "Found 1400 images belonging to 2 classes.\n",
      "Found 300 images belonging to 2 classes.\n",
      "Found 300 images belonging to 2 classes.\n"
     ]
    }
   ],
   "source": [
    "train_generator = train_datagen.flow_from_directory(\"./Train\", target_size = (224, 224), batch_size = 32, shuffle=True, class_mode = 'binary')\n",
    "validate_generator = validate_datagen.flow_from_directory(\"./Validate\", target_size = (224,224), batch_size = 32, shuffle = False, class_mode='binary')\n",
    "test_generator = test_datagen.flow_from_directory(\"./Validate\", target_size = (224,224), batch_size = 32, shuffle = False, class_mode='binary')"
   ]
  },
  {
   "cell_type": "code",
   "execution_count": 21,
   "id": "c320bb79",
   "metadata": {},
   "outputs": [],
   "source": [
    "def identity_block(X, f, filters, stage, block):\n",
    "   \n",
    "    conv_name_base = 'res' + str(stage) + block + '_branch'\n",
    "    bn_name_base = 'bn' + str(stage) + block + '_branch'\n",
    "    F1, F2, F3 = filters\n",
    "\n",
    "    X_shortcut = X\n",
    "   \n",
    "    X = Conv2D(filters=F1, kernel_size=(1, 1), strides=(1, 1), padding='valid', name=conv_name_base + '2a', kernel_initializer=glorot_uniform(seed=0))(X)\n",
    "    X = BatchNormalization(axis=3, name=bn_name_base + '2a')(X)\n",
    "    X = Activation('relu')(X)\n",
    "\n",
    "    X = Conv2D(filters=F2, kernel_size=(f, f), strides=(1, 1), padding='same', name=conv_name_base + '2b', kernel_initializer=glorot_uniform(seed=0))(X)\n",
    "    X = BatchNormalization(axis=3, name=bn_name_base + '2b')(X)\n",
    "    X = Activation('relu')(X)\n",
    "\n",
    "    X = Conv2D(filters=F3, kernel_size=(1, 1), strides=(1, 1), padding='valid', name=conv_name_base + '2c', kernel_initializer=glorot_uniform(seed=0))(X)\n",
    "    X = BatchNormalization(axis=3, name=bn_name_base + '2c')(X)\n",
    "\n",
    "    X = Add()([X, X_shortcut]) # SKIP Connection\n",
    "    X = Activation('relu')(X)\n",
    "\n",
    "    return X"
   ]
  },
  {
   "cell_type": "code",
   "execution_count": 22,
   "id": "421a8015",
   "metadata": {},
   "outputs": [],
   "source": [
    "def convolutional_block(X, f, filters, stage, block, s=2):\n",
    "   \n",
    "    conv_name_base = 'res' + str(stage) + block + '_branch'\n",
    "    bn_name_base = 'bn' + str(stage) + block + '_branch'\n",
    "\n",
    "    F1, F2, F3 = filters\n",
    "\n",
    "    X_shortcut = X\n",
    "\n",
    "    X = Conv2D(filters=F1, kernel_size=(1, 1), strides=(s, s), padding='valid', name=conv_name_base + '2a', kernel_initializer=glorot_uniform(seed=0))(X)\n",
    "    X = BatchNormalization(axis=3, name=bn_name_base + '2a')(X)\n",
    "    X = Activation('relu')(X)\n",
    "\n",
    "    X = Conv2D(filters=F2, kernel_size=(f, f), strides=(1, 1), padding='same', name=conv_name_base + '2b', kernel_initializer=glorot_uniform(seed=0))(X)\n",
    "    X = BatchNormalization(axis=3, name=bn_name_base + '2b')(X)\n",
    "    X = Activation('relu')(X)\n",
    "\n",
    "    X = Conv2D(filters=F3, kernel_size=(1, 1), strides=(1, 1), padding='valid', name=conv_name_base + '2c', kernel_initializer=glorot_uniform(seed=0))(X)\n",
    "    X = BatchNormalization(axis=3, name=bn_name_base + '2c')(X)\n",
    "\n",
    "    X_shortcut = Conv2D(filters=F3, kernel_size=(1, 1), strides=(s, s), padding='valid', name=conv_name_base + '1', kernel_initializer=glorot_uniform(seed=0))(X_shortcut)\n",
    "    X_shortcut = BatchNormalization(axis=3, name=bn_name_base + '1')(X_shortcut)\n",
    "\n",
    "    X = Add()([X, X_shortcut])\n",
    "    X = Activation('relu')(X)\n",
    "\n",
    "    return X"
   ]
  },
  {
   "cell_type": "code",
   "execution_count": 23,
   "id": "58b9259e",
   "metadata": {},
   "outputs": [],
   "source": [
    "def ResNet50(input_shape=(224, 224, 3)):\n",
    "\n",
    "    X_input = Input(input_shape)\n",
    "\n",
    "    X = ZeroPadding2D((3, 3))(X_input)\n",
    "\n",
    "    X = Conv2D(64, (7, 7), strides=(2, 2), name='conv1', kernel_initializer=glorot_uniform(seed=0))(X)\n",
    "    X = BatchNormalization(axis=3, name='bn_conv1')(X)\n",
    "    X = Activation('relu')(X)\n",
    "    X = MaxPooling2D((3, 3), strides=(2, 2))(X)\n",
    "\n",
    "    X = convolutional_block(X, f=3, filters=[64, 64, 256], stage=2, block='a', s=1)\n",
    "    X = identity_block(X, 3, [64, 64, 256], stage=2, block='b')\n",
    "    X = identity_block(X, 3, [64, 64, 256], stage=2, block='c')\n",
    "\n",
    "\n",
    "    X = convolutional_block(X, f=3, filters=[128, 128, 512], stage=3, block='a', s=2)\n",
    "    X = identity_block(X, 3, [128, 128, 512], stage=3, block='b')\n",
    "    X = identity_block(X, 3, [128, 128, 512], stage=3, block='c')\n",
    "    X = identity_block(X, 3, [128, 128, 512], stage=3, block='d')\n",
    "\n",
    "    X = convolutional_block(X, f=3, filters=[256, 256, 1024], stage=4, block='a', s=2)\n",
    "    X = identity_block(X, 3, [256, 256, 1024], stage=4, block='b')\n",
    "    X = identity_block(X, 3, [256, 256, 1024], stage=4, block='c')\n",
    "    X = identity_block(X, 3, [256, 256, 1024], stage=4, block='d')\n",
    "    X = identity_block(X, 3, [256, 256, 1024], stage=4, block='e')\n",
    "    X = identity_block(X, 3, [256, 256, 1024], stage=4, block='f')\n",
    "\n",
    "    X = X = convolutional_block(X, f=3, filters=[512, 512, 2048], stage=5, block='a', s=2)\n",
    "    X = identity_block(X, 3, [512, 512, 2048], stage=5, block='b')\n",
    "    X = identity_block(X, 3, [512, 512, 2048], stage=5, block='c')\n",
    "\n",
    "    X = AveragePooling2D(pool_size=(2, 2), padding='same')(X)\n",
    "    \n",
    "    model = Model(inputs=X_input, outputs=X, name='ResNet50')\n",
    "\n",
    "    return model"
   ]
  },
  {
   "cell_type": "code",
   "execution_count": 24,
   "id": "f7ea029f",
   "metadata": {},
   "outputs": [
    {
     "name": "stderr",
     "output_type": "stream",
     "text": [
      "2022-12-09 20:45:33.029126: W tensorflow/stream_executor/platform/default/dso_loader.cc:64] Could not load dynamic library 'libcuda.so.1'; dlerror: libcuda.so.1: cannot open shared object file: No such file or directory; LD_LIBRARY_PATH: /home/hamza/.local/lib/python3.10/site-packages/cv2/../../lib64:\n",
      "2022-12-09 20:45:33.029153: W tensorflow/stream_executor/cuda/cuda_driver.cc:269] failed call to cuInit: UNKNOWN ERROR (303)\n",
      "2022-12-09 20:45:33.029172: I tensorflow/stream_executor/cuda/cuda_diagnostics.cc:156] kernel driver does not appear to be running on this host (hamza-VivoBook): /proc/driver/nvidia/version does not exist\n",
      "2022-12-09 20:45:33.029551: I tensorflow/core/platform/cpu_feature_guard.cc:193] This TensorFlow binary is optimized with oneAPI Deep Neural Network Library (oneDNN) to use the following CPU instructions in performance-critical operations:  AVX2 FMA\n",
      "To enable them in other operations, rebuild TensorFlow with the appropriate compiler flags.\n"
     ]
    }
   ],
   "source": [
    "base_model = ResNet50(input_shape=(224, 224, 3))"
   ]
  },
  {
   "cell_type": "code",
   "execution_count": 25,
   "id": "3506a911",
   "metadata": {},
   "outputs": [
    {
     "name": "stdout",
     "output_type": "stream",
     "text": [
      "<keras.engine.functional.Functional object at 0x7f31243d8670>\n"
     ]
    }
   ],
   "source": [
    "print(base_model)"
   ]
  },
  {
   "cell_type": "code",
   "execution_count": 26,
   "id": "74d22fc1",
   "metadata": {},
   "outputs": [],
   "source": [
    "headModel = base_model.output\n",
    "headModel = Flatten()(headModel)\n",
    "headModel = Dense(256, activation='relu', name='fc1',kernel_initializer=glorot_uniform(seed=0))(headModel)\n",
    "headModel = Dense(128, activation='relu', name='fc2',kernel_initializer=glorot_uniform(seed=0))(headModel)\n",
    "headModel = Dense( 1,activation='sigmoid', name='fc3',kernel_initializer=glorot_uniform(seed=0))(headModel)"
   ]
  },
  {
   "cell_type": "code",
   "execution_count": 27,
   "id": "fd5fe178",
   "metadata": {},
   "outputs": [],
   "source": [
    "model = Model(inputs=base_model.input, outputs=headModel)"
   ]
  },
  {
   "cell_type": "code",
   "execution_count": 28,
   "id": "f9e86b52",
   "metadata": {},
   "outputs": [
    {
     "name": "stdout",
     "output_type": "stream",
     "text": [
      "Model: \"model\"\n",
      "__________________________________________________________________________________________________\n",
      " Layer (type)                   Output Shape         Param #     Connected to                     \n",
      "==================================================================================================\n",
      " input_1 (InputLayer)           [(None, 224, 224, 3  0           []                               \n",
      "                                )]                                                                \n",
      "                                                                                                  \n",
      " zero_padding2d (ZeroPadding2D)  (None, 230, 230, 3)  0          ['input_1[0][0]']                \n",
      "                                                                                                  \n",
      " conv1 (Conv2D)                 (None, 112, 112, 64  9472        ['zero_padding2d[0][0]']         \n",
      "                                )                                                                 \n",
      "                                                                                                  \n",
      " bn_conv1 (BatchNormalization)  (None, 112, 112, 64  256         ['conv1[0][0]']                  \n",
      "                                )                                                                 \n",
      "                                                                                                  \n",
      " activation (Activation)        (None, 112, 112, 64  0           ['bn_conv1[0][0]']               \n",
      "                                )                                                                 \n",
      "                                                                                                  \n",
      " max_pooling2d (MaxPooling2D)   (None, 55, 55, 64)   0           ['activation[0][0]']             \n",
      "                                                                                                  \n",
      " res2a_branch2a (Conv2D)        (None, 55, 55, 64)   4160        ['max_pooling2d[0][0]']          \n",
      "                                                                                                  \n",
      " bn2a_branch2a (BatchNormalizat  (None, 55, 55, 64)  256         ['res2a_branch2a[0][0]']         \n",
      " ion)                                                                                             \n",
      "                                                                                                  \n",
      " activation_1 (Activation)      (None, 55, 55, 64)   0           ['bn2a_branch2a[0][0]']          \n",
      "                                                                                                  \n",
      " res2a_branch2b (Conv2D)        (None, 55, 55, 64)   36928       ['activation_1[0][0]']           \n",
      "                                                                                                  \n",
      " bn2a_branch2b (BatchNormalizat  (None, 55, 55, 64)  256         ['res2a_branch2b[0][0]']         \n",
      " ion)                                                                                             \n",
      "                                                                                                  \n",
      " activation_2 (Activation)      (None, 55, 55, 64)   0           ['bn2a_branch2b[0][0]']          \n",
      "                                                                                                  \n",
      " res2a_branch2c (Conv2D)        (None, 55, 55, 256)  16640       ['activation_2[0][0]']           \n",
      "                                                                                                  \n",
      " res2a_branch1 (Conv2D)         (None, 55, 55, 256)  16640       ['max_pooling2d[0][0]']          \n",
      "                                                                                                  \n",
      " bn2a_branch2c (BatchNormalizat  (None, 55, 55, 256)  1024       ['res2a_branch2c[0][0]']         \n",
      " ion)                                                                                             \n",
      "                                                                                                  \n",
      " bn2a_branch1 (BatchNormalizati  (None, 55, 55, 256)  1024       ['res2a_branch1[0][0]']          \n",
      " on)                                                                                              \n",
      "                                                                                                  \n",
      " add (Add)                      (None, 55, 55, 256)  0           ['bn2a_branch2c[0][0]',          \n",
      "                                                                  'bn2a_branch1[0][0]']           \n",
      "                                                                                                  \n",
      " activation_3 (Activation)      (None, 55, 55, 256)  0           ['add[0][0]']                    \n",
      "                                                                                                  \n",
      " res2b_branch2a (Conv2D)        (None, 55, 55, 64)   16448       ['activation_3[0][0]']           \n",
      "                                                                                                  \n",
      " bn2b_branch2a (BatchNormalizat  (None, 55, 55, 64)  256         ['res2b_branch2a[0][0]']         \n",
      " ion)                                                                                             \n",
      "                                                                                                  \n",
      " activation_4 (Activation)      (None, 55, 55, 64)   0           ['bn2b_branch2a[0][0]']          \n",
      "                                                                                                  \n",
      " res2b_branch2b (Conv2D)        (None, 55, 55, 64)   36928       ['activation_4[0][0]']           \n",
      "                                                                                                  \n",
      " bn2b_branch2b (BatchNormalizat  (None, 55, 55, 64)  256         ['res2b_branch2b[0][0]']         \n",
      " ion)                                                                                             \n",
      "                                                                                                  \n",
      " activation_5 (Activation)      (None, 55, 55, 64)   0           ['bn2b_branch2b[0][0]']          \n",
      "                                                                                                  \n",
      " res2b_branch2c (Conv2D)        (None, 55, 55, 256)  16640       ['activation_5[0][0]']           \n",
      "                                                                                                  \n",
      " bn2b_branch2c (BatchNormalizat  (None, 55, 55, 256)  1024       ['res2b_branch2c[0][0]']         \n",
      " ion)                                                                                             \n",
      "                                                                                                  \n",
      " add_1 (Add)                    (None, 55, 55, 256)  0           ['bn2b_branch2c[0][0]',          \n",
      "                                                                  'activation_3[0][0]']           \n",
      "                                                                                                  \n",
      " activation_6 (Activation)      (None, 55, 55, 256)  0           ['add_1[0][0]']                  \n",
      "                                                                                                  \n",
      " res2c_branch2a (Conv2D)        (None, 55, 55, 64)   16448       ['activation_6[0][0]']           \n",
      "                                                                                                  \n",
      " bn2c_branch2a (BatchNormalizat  (None, 55, 55, 64)  256         ['res2c_branch2a[0][0]']         \n",
      " ion)                                                                                             \n",
      "                                                                                                  \n",
      " activation_7 (Activation)      (None, 55, 55, 64)   0           ['bn2c_branch2a[0][0]']          \n",
      "                                                                                                  \n",
      " res2c_branch2b (Conv2D)        (None, 55, 55, 64)   36928       ['activation_7[0][0]']           \n",
      "                                                                                                  \n",
      " bn2c_branch2b (BatchNormalizat  (None, 55, 55, 64)  256         ['res2c_branch2b[0][0]']         \n",
      " ion)                                                                                             \n"
     ]
    },
    {
     "name": "stdout",
     "output_type": "stream",
     "text": [
      "                                                                                                  \n",
      " activation_8 (Activation)      (None, 55, 55, 64)   0           ['bn2c_branch2b[0][0]']          \n",
      "                                                                                                  \n",
      " res2c_branch2c (Conv2D)        (None, 55, 55, 256)  16640       ['activation_8[0][0]']           \n",
      "                                                                                                  \n",
      " bn2c_branch2c (BatchNormalizat  (None, 55, 55, 256)  1024       ['res2c_branch2c[0][0]']         \n",
      " ion)                                                                                             \n",
      "                                                                                                  \n",
      " add_2 (Add)                    (None, 55, 55, 256)  0           ['bn2c_branch2c[0][0]',          \n",
      "                                                                  'activation_6[0][0]']           \n",
      "                                                                                                  \n",
      " activation_9 (Activation)      (None, 55, 55, 256)  0           ['add_2[0][0]']                  \n",
      "                                                                                                  \n",
      " res3a_branch2a (Conv2D)        (None, 28, 28, 128)  32896       ['activation_9[0][0]']           \n",
      "                                                                                                  \n",
      " bn3a_branch2a (BatchNormalizat  (None, 28, 28, 128)  512        ['res3a_branch2a[0][0]']         \n",
      " ion)                                                                                             \n",
      "                                                                                                  \n",
      " activation_10 (Activation)     (None, 28, 28, 128)  0           ['bn3a_branch2a[0][0]']          \n",
      "                                                                                                  \n",
      " res3a_branch2b (Conv2D)        (None, 28, 28, 128)  147584      ['activation_10[0][0]']          \n",
      "                                                                                                  \n",
      " bn3a_branch2b (BatchNormalizat  (None, 28, 28, 128)  512        ['res3a_branch2b[0][0]']         \n",
      " ion)                                                                                             \n",
      "                                                                                                  \n",
      " activation_11 (Activation)     (None, 28, 28, 128)  0           ['bn3a_branch2b[0][0]']          \n",
      "                                                                                                  \n",
      " res3a_branch2c (Conv2D)        (None, 28, 28, 512)  66048       ['activation_11[0][0]']          \n",
      "                                                                                                  \n",
      " res3a_branch1 (Conv2D)         (None, 28, 28, 512)  131584      ['activation_9[0][0]']           \n",
      "                                                                                                  \n",
      " bn3a_branch2c (BatchNormalizat  (None, 28, 28, 512)  2048       ['res3a_branch2c[0][0]']         \n",
      " ion)                                                                                             \n",
      "                                                                                                  \n",
      " bn3a_branch1 (BatchNormalizati  (None, 28, 28, 512)  2048       ['res3a_branch1[0][0]']          \n",
      " on)                                                                                              \n",
      "                                                                                                  \n",
      " add_3 (Add)                    (None, 28, 28, 512)  0           ['bn3a_branch2c[0][0]',          \n",
      "                                                                  'bn3a_branch1[0][0]']           \n",
      "                                                                                                  \n",
      " activation_12 (Activation)     (None, 28, 28, 512)  0           ['add_3[0][0]']                  \n",
      "                                                                                                  \n",
      " res3b_branch2a (Conv2D)        (None, 28, 28, 128)  65664       ['activation_12[0][0]']          \n",
      "                                                                                                  \n",
      " bn3b_branch2a (BatchNormalizat  (None, 28, 28, 128)  512        ['res3b_branch2a[0][0]']         \n",
      " ion)                                                                                             \n",
      "                                                                                                  \n",
      " activation_13 (Activation)     (None, 28, 28, 128)  0           ['bn3b_branch2a[0][0]']          \n",
      "                                                                                                  \n",
      " res3b_branch2b (Conv2D)        (None, 28, 28, 128)  147584      ['activation_13[0][0]']          \n",
      "                                                                                                  \n",
      " bn3b_branch2b (BatchNormalizat  (None, 28, 28, 128)  512        ['res3b_branch2b[0][0]']         \n",
      " ion)                                                                                             \n",
      "                                                                                                  \n",
      " activation_14 (Activation)     (None, 28, 28, 128)  0           ['bn3b_branch2b[0][0]']          \n",
      "                                                                                                  \n",
      " res3b_branch2c (Conv2D)        (None, 28, 28, 512)  66048       ['activation_14[0][0]']          \n",
      "                                                                                                  \n",
      " bn3b_branch2c (BatchNormalizat  (None, 28, 28, 512)  2048       ['res3b_branch2c[0][0]']         \n",
      " ion)                                                                                             \n",
      "                                                                                                  \n",
      " add_4 (Add)                    (None, 28, 28, 512)  0           ['bn3b_branch2c[0][0]',          \n",
      "                                                                  'activation_12[0][0]']          \n",
      "                                                                                                  \n",
      " activation_15 (Activation)     (None, 28, 28, 512)  0           ['add_4[0][0]']                  \n",
      "                                                                                                  \n",
      " res3c_branch2a (Conv2D)        (None, 28, 28, 128)  65664       ['activation_15[0][0]']          \n",
      "                                                                                                  \n",
      " bn3c_branch2a (BatchNormalizat  (None, 28, 28, 128)  512        ['res3c_branch2a[0][0]']         \n",
      " ion)                                                                                             \n",
      "                                                                                                  \n",
      " activation_16 (Activation)     (None, 28, 28, 128)  0           ['bn3c_branch2a[0][0]']          \n",
      "                                                                                                  \n",
      " res3c_branch2b (Conv2D)        (None, 28, 28, 128)  147584      ['activation_16[0][0]']          \n",
      "                                                                                                  \n",
      " bn3c_branch2b (BatchNormalizat  (None, 28, 28, 128)  512        ['res3c_branch2b[0][0]']         \n",
      " ion)                                                                                             \n",
      "                                                                                                  \n",
      " activation_17 (Activation)     (None, 28, 28, 128)  0           ['bn3c_branch2b[0][0]']          \n",
      "                                                                                                  \n",
      " res3c_branch2c (Conv2D)        (None, 28, 28, 512)  66048       ['activation_17[0][0]']          \n",
      "                                                                                                  \n",
      " bn3c_branch2c (BatchNormalizat  (None, 28, 28, 512)  2048       ['res3c_branch2c[0][0]']         \n"
     ]
    },
    {
     "name": "stdout",
     "output_type": "stream",
     "text": [
      " ion)                                                                                             \n",
      "                                                                                                  \n",
      " add_5 (Add)                    (None, 28, 28, 512)  0           ['bn3c_branch2c[0][0]',          \n",
      "                                                                  'activation_15[0][0]']          \n",
      "                                                                                                  \n",
      " activation_18 (Activation)     (None, 28, 28, 512)  0           ['add_5[0][0]']                  \n",
      "                                                                                                  \n",
      " res3d_branch2a (Conv2D)        (None, 28, 28, 128)  65664       ['activation_18[0][0]']          \n",
      "                                                                                                  \n",
      " bn3d_branch2a (BatchNormalizat  (None, 28, 28, 128)  512        ['res3d_branch2a[0][0]']         \n",
      " ion)                                                                                             \n",
      "                                                                                                  \n",
      " activation_19 (Activation)     (None, 28, 28, 128)  0           ['bn3d_branch2a[0][0]']          \n",
      "                                                                                                  \n",
      " res3d_branch2b (Conv2D)        (None, 28, 28, 128)  147584      ['activation_19[0][0]']          \n",
      "                                                                                                  \n",
      " bn3d_branch2b (BatchNormalizat  (None, 28, 28, 128)  512        ['res3d_branch2b[0][0]']         \n",
      " ion)                                                                                             \n",
      "                                                                                                  \n",
      " activation_20 (Activation)     (None, 28, 28, 128)  0           ['bn3d_branch2b[0][0]']          \n",
      "                                                                                                  \n",
      " res3d_branch2c (Conv2D)        (None, 28, 28, 512)  66048       ['activation_20[0][0]']          \n",
      "                                                                                                  \n",
      " bn3d_branch2c (BatchNormalizat  (None, 28, 28, 512)  2048       ['res3d_branch2c[0][0]']         \n",
      " ion)                                                                                             \n",
      "                                                                                                  \n",
      " add_6 (Add)                    (None, 28, 28, 512)  0           ['bn3d_branch2c[0][0]',          \n",
      "                                                                  'activation_18[0][0]']          \n",
      "                                                                                                  \n",
      " activation_21 (Activation)     (None, 28, 28, 512)  0           ['add_6[0][0]']                  \n",
      "                                                                                                  \n",
      " res4a_branch2a (Conv2D)        (None, 14, 14, 256)  131328      ['activation_21[0][0]']          \n",
      "                                                                                                  \n",
      " bn4a_branch2a (BatchNormalizat  (None, 14, 14, 256)  1024       ['res4a_branch2a[0][0]']         \n",
      " ion)                                                                                             \n",
      "                                                                                                  \n",
      " activation_22 (Activation)     (None, 14, 14, 256)  0           ['bn4a_branch2a[0][0]']          \n",
      "                                                                                                  \n",
      " res4a_branch2b (Conv2D)        (None, 14, 14, 256)  590080      ['activation_22[0][0]']          \n",
      "                                                                                                  \n",
      " bn4a_branch2b (BatchNormalizat  (None, 14, 14, 256)  1024       ['res4a_branch2b[0][0]']         \n",
      " ion)                                                                                             \n",
      "                                                                                                  \n",
      " activation_23 (Activation)     (None, 14, 14, 256)  0           ['bn4a_branch2b[0][0]']          \n",
      "                                                                                                  \n",
      " res4a_branch2c (Conv2D)        (None, 14, 14, 1024  263168      ['activation_23[0][0]']          \n",
      "                                )                                                                 \n",
      "                                                                                                  \n",
      " res4a_branch1 (Conv2D)         (None, 14, 14, 1024  525312      ['activation_21[0][0]']          \n",
      "                                )                                                                 \n",
      "                                                                                                  \n",
      " bn4a_branch2c (BatchNormalizat  (None, 14, 14, 1024  4096       ['res4a_branch2c[0][0]']         \n",
      " ion)                           )                                                                 \n",
      "                                                                                                  \n",
      " bn4a_branch1 (BatchNormalizati  (None, 14, 14, 1024  4096       ['res4a_branch1[0][0]']          \n",
      " on)                            )                                                                 \n",
      "                                                                                                  \n",
      " add_7 (Add)                    (None, 14, 14, 1024  0           ['bn4a_branch2c[0][0]',          \n",
      "                                )                                 'bn4a_branch1[0][0]']           \n",
      "                                                                                                  \n",
      " activation_24 (Activation)     (None, 14, 14, 1024  0           ['add_7[0][0]']                  \n",
      "                                )                                                                 \n",
      "                                                                                                  \n",
      " res4b_branch2a (Conv2D)        (None, 14, 14, 256)  262400      ['activation_24[0][0]']          \n",
      "                                                                                                  \n",
      " bn4b_branch2a (BatchNormalizat  (None, 14, 14, 256)  1024       ['res4b_branch2a[0][0]']         \n",
      " ion)                                                                                             \n",
      "                                                                                                  \n",
      " activation_25 (Activation)     (None, 14, 14, 256)  0           ['bn4b_branch2a[0][0]']          \n",
      "                                                                                                  \n",
      " res4b_branch2b (Conv2D)        (None, 14, 14, 256)  590080      ['activation_25[0][0]']          \n",
      "                                                                                                  \n",
      " bn4b_branch2b (BatchNormalizat  (None, 14, 14, 256)  1024       ['res4b_branch2b[0][0]']         \n",
      " ion)                                                                                             \n",
      "                                                                                                  \n",
      " activation_26 (Activation)     (None, 14, 14, 256)  0           ['bn4b_branch2b[0][0]']          \n",
      "                                                                                                  \n",
      " res4b_branch2c (Conv2D)        (None, 14, 14, 1024  263168      ['activation_26[0][0]']          \n",
      "                                )                                                                 \n",
      "                                                                                                  \n",
      " bn4b_branch2c (BatchNormalizat  (None, 14, 14, 1024  4096       ['res4b_branch2c[0][0]']         \n",
      " ion)                           )                                                                 \n",
      "                                                                                                  \n"
     ]
    },
    {
     "name": "stdout",
     "output_type": "stream",
     "text": [
      " add_8 (Add)                    (None, 14, 14, 1024  0           ['bn4b_branch2c[0][0]',          \n",
      "                                )                                 'activation_24[0][0]']          \n",
      "                                                                                                  \n",
      " activation_27 (Activation)     (None, 14, 14, 1024  0           ['add_8[0][0]']                  \n",
      "                                )                                                                 \n",
      "                                                                                                  \n",
      " res4c_branch2a (Conv2D)        (None, 14, 14, 256)  262400      ['activation_27[0][0]']          \n",
      "                                                                                                  \n",
      " bn4c_branch2a (BatchNormalizat  (None, 14, 14, 256)  1024       ['res4c_branch2a[0][0]']         \n",
      " ion)                                                                                             \n",
      "                                                                                                  \n",
      " activation_28 (Activation)     (None, 14, 14, 256)  0           ['bn4c_branch2a[0][0]']          \n",
      "                                                                                                  \n",
      " res4c_branch2b (Conv2D)        (None, 14, 14, 256)  590080      ['activation_28[0][0]']          \n",
      "                                                                                                  \n",
      " bn4c_branch2b (BatchNormalizat  (None, 14, 14, 256)  1024       ['res4c_branch2b[0][0]']         \n",
      " ion)                                                                                             \n",
      "                                                                                                  \n",
      " activation_29 (Activation)     (None, 14, 14, 256)  0           ['bn4c_branch2b[0][0]']          \n",
      "                                                                                                  \n",
      " res4c_branch2c (Conv2D)        (None, 14, 14, 1024  263168      ['activation_29[0][0]']          \n",
      "                                )                                                                 \n",
      "                                                                                                  \n",
      " bn4c_branch2c (BatchNormalizat  (None, 14, 14, 1024  4096       ['res4c_branch2c[0][0]']         \n",
      " ion)                           )                                                                 \n",
      "                                                                                                  \n",
      " add_9 (Add)                    (None, 14, 14, 1024  0           ['bn4c_branch2c[0][0]',          \n",
      "                                )                                 'activation_27[0][0]']          \n",
      "                                                                                                  \n",
      " activation_30 (Activation)     (None, 14, 14, 1024  0           ['add_9[0][0]']                  \n",
      "                                )                                                                 \n",
      "                                                                                                  \n",
      " res4d_branch2a (Conv2D)        (None, 14, 14, 256)  262400      ['activation_30[0][0]']          \n",
      "                                                                                                  \n",
      " bn4d_branch2a (BatchNormalizat  (None, 14, 14, 256)  1024       ['res4d_branch2a[0][0]']         \n",
      " ion)                                                                                             \n",
      "                                                                                                  \n",
      " activation_31 (Activation)     (None, 14, 14, 256)  0           ['bn4d_branch2a[0][0]']          \n",
      "                                                                                                  \n",
      " res4d_branch2b (Conv2D)        (None, 14, 14, 256)  590080      ['activation_31[0][0]']          \n",
      "                                                                                                  \n",
      " bn4d_branch2b (BatchNormalizat  (None, 14, 14, 256)  1024       ['res4d_branch2b[0][0]']         \n",
      " ion)                                                                                             \n",
      "                                                                                                  \n",
      " activation_32 (Activation)     (None, 14, 14, 256)  0           ['bn4d_branch2b[0][0]']          \n",
      "                                                                                                  \n",
      " res4d_branch2c (Conv2D)        (None, 14, 14, 1024  263168      ['activation_32[0][0]']          \n",
      "                                )                                                                 \n",
      "                                                                                                  \n",
      " bn4d_branch2c (BatchNormalizat  (None, 14, 14, 1024  4096       ['res4d_branch2c[0][0]']         \n",
      " ion)                           )                                                                 \n",
      "                                                                                                  \n",
      " add_10 (Add)                   (None, 14, 14, 1024  0           ['bn4d_branch2c[0][0]',          \n",
      "                                )                                 'activation_30[0][0]']          \n",
      "                                                                                                  \n",
      " activation_33 (Activation)     (None, 14, 14, 1024  0           ['add_10[0][0]']                 \n",
      "                                )                                                                 \n",
      "                                                                                                  \n",
      " res4e_branch2a (Conv2D)        (None, 14, 14, 256)  262400      ['activation_33[0][0]']          \n",
      "                                                                                                  \n",
      " bn4e_branch2a (BatchNormalizat  (None, 14, 14, 256)  1024       ['res4e_branch2a[0][0]']         \n",
      " ion)                                                                                             \n",
      "                                                                                                  \n",
      " activation_34 (Activation)     (None, 14, 14, 256)  0           ['bn4e_branch2a[0][0]']          \n",
      "                                                                                                  \n",
      " res4e_branch2b (Conv2D)        (None, 14, 14, 256)  590080      ['activation_34[0][0]']          \n",
      "                                                                                                  \n",
      " bn4e_branch2b (BatchNormalizat  (None, 14, 14, 256)  1024       ['res4e_branch2b[0][0]']         \n",
      " ion)                                                                                             \n",
      "                                                                                                  \n",
      " activation_35 (Activation)     (None, 14, 14, 256)  0           ['bn4e_branch2b[0][0]']          \n",
      "                                                                                                  \n",
      " res4e_branch2c (Conv2D)        (None, 14, 14, 1024  263168      ['activation_35[0][0]']          \n",
      "                                )                                                                 \n",
      "                                                                                                  \n",
      " bn4e_branch2c (BatchNormalizat  (None, 14, 14, 1024  4096       ['res4e_branch2c[0][0]']         \n",
      " ion)                           )                                                                 \n",
      "                                                                                                  \n",
      " add_11 (Add)                   (None, 14, 14, 1024  0           ['bn4e_branch2c[0][0]',          \n",
      "                                )                                 'activation_33[0][0]']          \n",
      "                                                                                                  \n",
      " activation_36 (Activation)     (None, 14, 14, 1024  0           ['add_11[0][0]']                 \n",
      "                                )                                                                 \n"
     ]
    },
    {
     "name": "stdout",
     "output_type": "stream",
     "text": [
      "                                                                                                  \n",
      " res4f_branch2a (Conv2D)        (None, 14, 14, 256)  262400      ['activation_36[0][0]']          \n",
      "                                                                                                  \n",
      " bn4f_branch2a (BatchNormalizat  (None, 14, 14, 256)  1024       ['res4f_branch2a[0][0]']         \n",
      " ion)                                                                                             \n",
      "                                                                                                  \n",
      " activation_37 (Activation)     (None, 14, 14, 256)  0           ['bn4f_branch2a[0][0]']          \n",
      "                                                                                                  \n",
      " res4f_branch2b (Conv2D)        (None, 14, 14, 256)  590080      ['activation_37[0][0]']          \n",
      "                                                                                                  \n",
      " bn4f_branch2b (BatchNormalizat  (None, 14, 14, 256)  1024       ['res4f_branch2b[0][0]']         \n",
      " ion)                                                                                             \n",
      "                                                                                                  \n",
      " activation_38 (Activation)     (None, 14, 14, 256)  0           ['bn4f_branch2b[0][0]']          \n",
      "                                                                                                  \n",
      " res4f_branch2c (Conv2D)        (None, 14, 14, 1024  263168      ['activation_38[0][0]']          \n",
      "                                )                                                                 \n",
      "                                                                                                  \n",
      " bn4f_branch2c (BatchNormalizat  (None, 14, 14, 1024  4096       ['res4f_branch2c[0][0]']         \n",
      " ion)                           )                                                                 \n",
      "                                                                                                  \n",
      " add_12 (Add)                   (None, 14, 14, 1024  0           ['bn4f_branch2c[0][0]',          \n",
      "                                )                                 'activation_36[0][0]']          \n",
      "                                                                                                  \n",
      " activation_39 (Activation)     (None, 14, 14, 1024  0           ['add_12[0][0]']                 \n",
      "                                )                                                                 \n",
      "                                                                                                  \n",
      " res5a_branch2a (Conv2D)        (None, 7, 7, 512)    524800      ['activation_39[0][0]']          \n",
      "                                                                                                  \n",
      " bn5a_branch2a (BatchNormalizat  (None, 7, 7, 512)   2048        ['res5a_branch2a[0][0]']         \n",
      " ion)                                                                                             \n",
      "                                                                                                  \n",
      " activation_40 (Activation)     (None, 7, 7, 512)    0           ['bn5a_branch2a[0][0]']          \n",
      "                                                                                                  \n",
      " res5a_branch2b (Conv2D)        (None, 7, 7, 512)    2359808     ['activation_40[0][0]']          \n",
      "                                                                                                  \n",
      " bn5a_branch2b (BatchNormalizat  (None, 7, 7, 512)   2048        ['res5a_branch2b[0][0]']         \n",
      " ion)                                                                                             \n",
      "                                                                                                  \n",
      " activation_41 (Activation)     (None, 7, 7, 512)    0           ['bn5a_branch2b[0][0]']          \n",
      "                                                                                                  \n",
      " res5a_branch2c (Conv2D)        (None, 7, 7, 2048)   1050624     ['activation_41[0][0]']          \n",
      "                                                                                                  \n",
      " res5a_branch1 (Conv2D)         (None, 7, 7, 2048)   2099200     ['activation_39[0][0]']          \n",
      "                                                                                                  \n",
      " bn5a_branch2c (BatchNormalizat  (None, 7, 7, 2048)  8192        ['res5a_branch2c[0][0]']         \n",
      " ion)                                                                                             \n",
      "                                                                                                  \n",
      " bn5a_branch1 (BatchNormalizati  (None, 7, 7, 2048)  8192        ['res5a_branch1[0][0]']          \n",
      " on)                                                                                              \n",
      "                                                                                                  \n",
      " add_13 (Add)                   (None, 7, 7, 2048)   0           ['bn5a_branch2c[0][0]',          \n",
      "                                                                  'bn5a_branch1[0][0]']           \n",
      "                                                                                                  \n",
      " activation_42 (Activation)     (None, 7, 7, 2048)   0           ['add_13[0][0]']                 \n",
      "                                                                                                  \n",
      " res5b_branch2a (Conv2D)        (None, 7, 7, 512)    1049088     ['activation_42[0][0]']          \n",
      "                                                                                                  \n",
      " bn5b_branch2a (BatchNormalizat  (None, 7, 7, 512)   2048        ['res5b_branch2a[0][0]']         \n",
      " ion)                                                                                             \n",
      "                                                                                                  \n",
      " activation_43 (Activation)     (None, 7, 7, 512)    0           ['bn5b_branch2a[0][0]']          \n",
      "                                                                                                  \n",
      " res5b_branch2b (Conv2D)        (None, 7, 7, 512)    2359808     ['activation_43[0][0]']          \n",
      "                                                                                                  \n",
      " bn5b_branch2b (BatchNormalizat  (None, 7, 7, 512)   2048        ['res5b_branch2b[0][0]']         \n",
      " ion)                                                                                             \n",
      "                                                                                                  \n",
      " activation_44 (Activation)     (None, 7, 7, 512)    0           ['bn5b_branch2b[0][0]']          \n",
      "                                                                                                  \n",
      " res5b_branch2c (Conv2D)        (None, 7, 7, 2048)   1050624     ['activation_44[0][0]']          \n",
      "                                                                                                  \n",
      " bn5b_branch2c (BatchNormalizat  (None, 7, 7, 2048)  8192        ['res5b_branch2c[0][0]']         \n",
      " ion)                                                                                             \n",
      "                                                                                                  \n",
      " add_14 (Add)                   (None, 7, 7, 2048)   0           ['bn5b_branch2c[0][0]',          \n",
      "                                                                  'activation_42[0][0]']          \n",
      "                                                                                                  \n",
      " activation_45 (Activation)     (None, 7, 7, 2048)   0           ['add_14[0][0]']                 \n",
      "                                                                                                  \n",
      " res5c_branch2a (Conv2D)        (None, 7, 7, 512)    1049088     ['activation_45[0][0]']          \n",
      "                                                                                                  \n",
      " bn5c_branch2a (BatchNormalizat  (None, 7, 7, 512)   2048        ['res5c_branch2a[0][0]']         \n"
     ]
    },
    {
     "name": "stdout",
     "output_type": "stream",
     "text": [
      " ion)                                                                                             \n",
      "                                                                                                  \n",
      " activation_46 (Activation)     (None, 7, 7, 512)    0           ['bn5c_branch2a[0][0]']          \n",
      "                                                                                                  \n",
      " res5c_branch2b (Conv2D)        (None, 7, 7, 512)    2359808     ['activation_46[0][0]']          \n",
      "                                                                                                  \n",
      " bn5c_branch2b (BatchNormalizat  (None, 7, 7, 512)   2048        ['res5c_branch2b[0][0]']         \n",
      " ion)                                                                                             \n",
      "                                                                                                  \n",
      " activation_47 (Activation)     (None, 7, 7, 512)    0           ['bn5c_branch2b[0][0]']          \n",
      "                                                                                                  \n",
      " res5c_branch2c (Conv2D)        (None, 7, 7, 2048)   1050624     ['activation_47[0][0]']          \n",
      "                                                                                                  \n",
      " bn5c_branch2c (BatchNormalizat  (None, 7, 7, 2048)  8192        ['res5c_branch2c[0][0]']         \n",
      " ion)                                                                                             \n",
      "                                                                                                  \n",
      " add_15 (Add)                   (None, 7, 7, 2048)   0           ['bn5c_branch2c[0][0]',          \n",
      "                                                                  'activation_45[0][0]']          \n",
      "                                                                                                  \n",
      " activation_48 (Activation)     (None, 7, 7, 2048)   0           ['add_15[0][0]']                 \n",
      "                                                                                                  \n",
      " average_pooling2d (AveragePool  (None, 4, 4, 2048)  0           ['activation_48[0][0]']          \n",
      " ing2D)                                                                                           \n",
      "                                                                                                  \n",
      " flatten (Flatten)              (None, 32768)        0           ['average_pooling2d[0][0]']      \n",
      "                                                                                                  \n",
      " fc1 (Dense)                    (None, 256)          8388864     ['flatten[0][0]']                \n",
      "                                                                                                  \n",
      " fc2 (Dense)                    (None, 128)          32896       ['fc1[0][0]']                    \n",
      "                                                                                                  \n",
      " fc3 (Dense)                    (None, 1)            129         ['fc2[0][0]']                    \n",
      "                                                                                                  \n",
      "==================================================================================================\n",
      "Total params: 32,009,601\n",
      "Trainable params: 31,956,481\n",
      "Non-trainable params: 53,120\n",
      "__________________________________________________________________________________________________\n"
     ]
    }
   ],
   "source": [
    "model.summary()"
   ]
  },
  {
   "cell_type": "code",
   "execution_count": 29,
   "id": "8c7389a3",
   "metadata": {},
   "outputs": [],
   "source": [
    "model.compile(optimizer='adam', loss=keras.losses.binary_crossentropy, metrics=['accuracy'])"
   ]
  },
  {
   "cell_type": "code",
   "execution_count": 30,
   "id": "4efb6921",
   "metadata": {},
   "outputs": [],
   "source": [
    "base_model.load_weights(\"./resnet50_weights_tf_dim_ordering_tf_kernels_notop.h5\")"
   ]
  },
  {
   "cell_type": "code",
   "execution_count": 31,
   "id": "ae4dfca5",
   "metadata": {},
   "outputs": [],
   "source": [
    "for layer in base_model.layers:\n",
    "    layer.trainable = False"
   ]
  },
  {
   "cell_type": "code",
   "execution_count": 32,
   "id": "2e297761",
   "metadata": {},
   "outputs": [
    {
     "name": "stdout",
     "output_type": "stream",
     "text": [
      "<keras.engine.input_layer.InputLayer object at 0x7f312766e680> False\n",
      "<keras.layers.reshaping.zero_padding2d.ZeroPadding2D object at 0x7f312766d9f0> False\n",
      "<keras.layers.convolutional.conv2d.Conv2D object at 0x7f312766de40> False\n",
      "<keras.layers.normalization.batch_normalization.BatchNormalization object at 0x7f312766dea0> False\n",
      "<keras.layers.core.activation.Activation object at 0x7f312766e170> False\n",
      "<keras.layers.pooling.max_pooling2d.MaxPooling2D object at 0x7f31c44d9bd0> False\n",
      "<keras.layers.convolutional.conv2d.Conv2D object at 0x7f312434cb20> False\n",
      "<keras.layers.normalization.batch_normalization.BatchNormalization object at 0x7f312434d5d0> False\n",
      "<keras.layers.core.activation.Activation object at 0x7f312434dbd0> False\n",
      "<keras.layers.convolutional.conv2d.Conv2D object at 0x7f312434ea10> False\n",
      "<keras.layers.normalization.batch_normalization.BatchNormalization object at 0x7f312434f5b0> False\n",
      "<keras.layers.core.activation.Activation object at 0x7f312434c700> False\n",
      "<keras.layers.convolutional.conv2d.Conv2D object at 0x7f312437d960> False\n",
      "<keras.layers.convolutional.conv2d.Conv2D object at 0x7f312437e7d0> False\n",
      "<keras.layers.normalization.batch_normalization.BatchNormalization object at 0x7f312437d180> False\n",
      "<keras.layers.normalization.batch_normalization.BatchNormalization object at 0x7f312437eef0> False\n",
      "<keras.layers.merging.add.Add object at 0x7f312437fd60> False\n",
      "<keras.layers.core.activation.Activation object at 0x7f312437fa30> False\n",
      "<keras.layers.convolutional.conv2d.Conv2D object at 0x7f3124394b20> False\n",
      "<keras.layers.normalization.batch_normalization.BatchNormalization object at 0x7f3124395f00> False\n",
      "<keras.layers.core.activation.Activation object at 0x7f3124395930> False\n",
      "<keras.layers.convolutional.conv2d.Conv2D object at 0x7f3124396bf0> False\n",
      "<keras.layers.normalization.batch_normalization.BatchNormalization object at 0x7f3124397790> False\n",
      "<keras.layers.core.activation.Activation object at 0x7f31243954b0> False\n",
      "<keras.layers.convolutional.conv2d.Conv2D object at 0x7f31243967d0> False\n",
      "<keras.layers.normalization.batch_normalization.BatchNormalization object at 0x7f3124396950> False\n",
      "<keras.layers.merging.add.Add object at 0x7f312434f700> False\n",
      "<keras.layers.core.activation.Activation object at 0x7f312434d540> False\n",
      "<keras.layers.convolutional.conv2d.Conv2D object at 0x7f312434d2d0> False\n",
      "<keras.layers.normalization.batch_normalization.BatchNormalization object at 0x7f31c44d96c0> False\n",
      "<keras.layers.core.activation.Activation object at 0x7f31c44d8dc0> False\n",
      "<keras.layers.convolutional.conv2d.Conv2D object at 0x7f31243b21d0> False\n",
      "<keras.layers.normalization.batch_normalization.BatchNormalization object at 0x7f31243b2320> False\n",
      "<keras.layers.core.activation.Activation object at 0x7f31243b2e90> False\n",
      "<keras.layers.convolutional.conv2d.Conv2D object at 0x7f31243b3cd0> False\n",
      "<keras.layers.normalization.batch_normalization.BatchNormalization object at 0x7f31243b2cb0> False\n",
      "<keras.layers.merging.add.Add object at 0x7f31243b2500> False\n",
      "<keras.layers.core.activation.Activation object at 0x7f31243c1ab0> False\n",
      "<keras.layers.convolutional.conv2d.Conv2D object at 0x7f31243c27a0> False\n",
      "<keras.layers.normalization.batch_normalization.BatchNormalization object at 0x7f31243c2ef0> False\n",
      "<keras.layers.core.activation.Activation object at 0x7f31243c3730> False\n",
      "<keras.layers.convolutional.conv2d.Conv2D object at 0x7f31243d8550> False\n",
      "<keras.layers.normalization.batch_normalization.BatchNormalization object at 0x7f31243d86d0> False\n",
      "<keras.layers.core.activation.Activation object at 0x7f31243d9450> False\n",
      "<keras.layers.convolutional.conv2d.Conv2D object at 0x7f31243da290> False\n",
      "<keras.layers.convolutional.conv2d.Conv2D object at 0x7f31243dbbe0> False\n",
      "<keras.layers.normalization.batch_normalization.BatchNormalization object at 0x7f31243d9360> False\n",
      "<keras.layers.normalization.batch_normalization.BatchNormalization object at 0x7f31243daef0> False\n",
      "<keras.layers.merging.add.Add object at 0x7f31243db430> False\n",
      "<keras.layers.core.activation.Activation object at 0x7f31243f5d20> False\n",
      "<keras.layers.convolutional.conv2d.Conv2D object at 0x7f31243f69e0> False\n",
      "<keras.layers.normalization.batch_normalization.BatchNormalization object at 0x7f31243f5ba0> False\n",
      "<keras.layers.core.activation.Activation object at 0x7f31243f7a30> False\n",
      "<keras.layers.convolutional.conv2d.Conv2D object at 0x7f31243f6ce0> False\n",
      "<keras.layers.normalization.batch_normalization.BatchNormalization object at 0x7f3124214880> False\n",
      "<keras.layers.core.activation.Activation object at 0x7f3124215750> False\n",
      "<keras.layers.convolutional.conv2d.Conv2D object at 0x7f31242165f0> False\n",
      "<keras.layers.normalization.batch_normalization.BatchNormalization object at 0x7f31242161a0> False\n",
      "<keras.layers.merging.add.Add object at 0x7f31242177f0> False\n",
      "<keras.layers.core.activation.Activation object at 0x7f3124217850> False\n",
      "<keras.layers.convolutional.conv2d.Conv2D object at 0x7f3124230490> False\n",
      "<keras.layers.normalization.batch_normalization.BatchNormalization object at 0x7f3124231720> False\n",
      "<keras.layers.core.activation.Activation object at 0x7f3124216a40> False\n",
      "<keras.layers.convolutional.conv2d.Conv2D object at 0x7f3124214fa0> False\n",
      "<keras.layers.normalization.batch_normalization.BatchNormalization object at 0x7f3124215000> False\n",
      "<keras.layers.core.activation.Activation object at 0x7f31243dafe0> False\n",
      "<keras.layers.convolutional.conv2d.Conv2D object at 0x7f31243f5090> False\n",
      "<keras.layers.normalization.batch_normalization.BatchNormalization object at 0x7f31243f5900> False\n",
      "<keras.layers.merging.add.Add object at 0x7f3124215300> False\n",
      "<keras.layers.core.activation.Activation object at 0x7f3124397eb0> False\n",
      "<keras.layers.convolutional.conv2d.Conv2D object at 0x7f3124231ea0> False\n",
      "<keras.layers.normalization.batch_normalization.BatchNormalization object at 0x7f3124232050> False\n",
      "<keras.layers.core.activation.Activation object at 0x7f31243b1e40> False\n",
      "<keras.layers.convolutional.conv2d.Conv2D object at 0x7f3124233370> False\n",
      "<keras.layers.normalization.batch_normalization.BatchNormalization object at 0x7f3124231630> False\n",
      "<keras.layers.core.activation.Activation object at 0x7f3124233d30> False\n",
      "<keras.layers.convolutional.conv2d.Conv2D object at 0x7f31242497e0> False\n",
      "<keras.layers.normalization.batch_normalization.BatchNormalization object at 0x7f3124248ee0> False\n",
      "<keras.layers.merging.add.Add object at 0x7f312424aa10> False\n",
      "<keras.layers.core.activation.Activation object at 0x7f312424b7f0> False\n",
      "<keras.layers.convolutional.conv2d.Conv2D object at 0x7f3124254820> False\n",
      "<keras.layers.normalization.batch_normalization.BatchNormalization object at 0x7f3124254940> False\n",
      "<keras.layers.core.activation.Activation object at 0x7f3124248880> False\n",
      "<keras.layers.convolutional.conv2d.Conv2D object at 0x7f3124255960> False\n",
      "<keras.layers.normalization.batch_normalization.BatchNormalization object at 0x7f3124254e80> False\n",
      "<keras.layers.core.activation.Activation object at 0x7f3124256f20> False\n",
      "<keras.layers.convolutional.conv2d.Conv2D object at 0x7f3124257d60> False\n",
      "<keras.layers.convolutional.conv2d.Conv2D object at 0x7f3124271150> False\n",
      "<keras.layers.normalization.batch_normalization.BatchNormalization object at 0x7f3124255180> False\n",
      "<keras.layers.normalization.batch_normalization.BatchNormalization object at 0x7f3124271e10> False\n",
      "<keras.layers.merging.add.Add object at 0x7f3124270f70> False\n",
      "<keras.layers.core.activation.Activation object at 0x7f3124273760> False\n",
      "<keras.layers.convolutional.conv2d.Conv2D object at 0x7f3124288730> False\n",
      "<keras.layers.normalization.batch_normalization.BatchNormalization object at 0x7f31242888b0> False\n",
      "<keras.layers.core.activation.Activation object at 0x7f31242894e0> False\n",
      "<keras.layers.convolutional.conv2d.Conv2D object at 0x7f312428a320> False\n",
      "<keras.layers.normalization.batch_normalization.BatchNormalization object at 0x7f3124289f60> False\n",
      "<keras.layers.core.activation.Activation object at 0x7f312428b1c0> False\n",
      "<keras.layers.convolutional.conv2d.Conv2D object at 0x7f312428b250> False\n",
      "<keras.layers.normalization.batch_normalization.BatchNormalization object at 0x7f312428a020> False\n",
      "<keras.layers.merging.add.Add object at 0x7f312428baf0> False\n",
      "<keras.layers.core.activation.Activation object at 0x7f312428b040> False\n",
      "<keras.layers.convolutional.conv2d.Conv2D object at 0x7f31242736d0> False\n",
      "<keras.layers.normalization.batch_normalization.BatchNormalization object at 0x7f3124270df0> False\n",
      "<keras.layers.core.activation.Activation object at 0x7f3124256470> False\n",
      "<keras.layers.convolutional.conv2d.Conv2D object at 0x7f3124271ba0> False\n",
      "<keras.layers.normalization.batch_normalization.BatchNormalization object at 0x7f31242721d0> False\n",
      "<keras.layers.core.activation.Activation object at 0x7f312428af50> False\n",
      "<keras.layers.convolutional.conv2d.Conv2D object at 0x7f3124233e20> False\n",
      "<keras.layers.normalization.batch_normalization.BatchNormalization object at 0x7f31242541c0> False\n",
      "<keras.layers.merging.add.Add object at 0x7f31243c2b60> False\n",
      "<keras.layers.core.activation.Activation object at 0x7f31242a6bc0> False\n",
      "<keras.layers.convolutional.conv2d.Conv2D object at 0x7f31242a4400> False\n",
      "<keras.layers.normalization.batch_normalization.BatchNormalization object at 0x7f31242a7e50> False\n",
      "<keras.layers.core.activation.Activation object at 0x7f31242a6ad0> False\n",
      "<keras.layers.convolutional.conv2d.Conv2D object at 0x7f31242c12a0> False\n",
      "<keras.layers.normalization.batch_normalization.BatchNormalization object at 0x7f31242c11e0> False\n",
      "<keras.layers.core.activation.Activation object at 0x7f31242c2440> False\n",
      "<keras.layers.convolutional.conv2d.Conv2D object at 0x7f31242c3280> False\n",
      "<keras.layers.normalization.batch_normalization.BatchNormalization object at 0x7f31242c29b0> False\n",
      "<keras.layers.merging.add.Add object at 0x7f31242c0c70> False\n",
      "<keras.layers.core.activation.Activation object at 0x7f31242cd060> False\n",
      "<keras.layers.convolutional.conv2d.Conv2D object at 0x7f31242cdc60> False\n",
      "<keras.layers.normalization.batch_normalization.BatchNormalization object at 0x7f31242ce3e0> False\n",
      "<keras.layers.core.activation.Activation object at 0x7f31242cecb0> False\n",
      "<keras.layers.convolutional.conv2d.Conv2D object at 0x7f31242cfaf0> False\n",
      "<keras.layers.normalization.batch_normalization.BatchNormalization object at 0x7f31242ce1a0> False\n",
      "<keras.layers.core.activation.Activation object at 0x7f31242cfd60> False\n",
      "<keras.layers.convolutional.conv2d.Conv2D object at 0x7f31242ed810> False\n",
      "<keras.layers.normalization.batch_normalization.BatchNormalization object at 0x7f31242ecf10> False\n",
      "<keras.layers.merging.add.Add object at 0x7f31242eea40> False\n",
      "<keras.layers.core.activation.Activation object at 0x7f31242ef820> False\n",
      "<keras.layers.convolutional.conv2d.Conv2D object at 0x7f3124300850> False\n",
      "<keras.layers.normalization.batch_normalization.BatchNormalization object at 0x7f3124300970> False\n",
      "<keras.layers.core.activation.Activation object at 0x7f31242ec8b0> False\n",
      "<keras.layers.convolutional.conv2d.Conv2D object at 0x7f3124301960> False\n",
      "<keras.layers.normalization.batch_normalization.BatchNormalization object at 0x7f3124300eb0> False\n",
      "<keras.layers.core.activation.Activation object at 0x7f3124302f20> False\n",
      "<keras.layers.convolutional.conv2d.Conv2D object at 0x7f3124303dc0> False\n",
      "<keras.layers.normalization.batch_normalization.BatchNormalization object at 0x7f3124302020> False\n",
      "<keras.layers.merging.add.Add object at 0x7f3124302590> False\n",
      "<keras.layers.core.activation.Activation object at 0x7f3124303ac0> False\n",
      "<keras.layers.convolutional.conv2d.Conv2D object at 0x7f31242ee0e0> False\n",
      "<keras.layers.normalization.batch_normalization.BatchNormalization object at 0x7f31242ee800> False\n",
      "<keras.layers.core.activation.Activation object at 0x7f3140b66650> False\n",
      "<keras.layers.convolutional.conv2d.Conv2D object at 0x7f31277271c0> False\n",
      "<keras.layers.normalization.batch_normalization.BatchNormalization object at 0x7f312434c400> False\n",
      "<keras.layers.core.activation.Activation object at 0x7f313fbd6620> False\n",
      "<keras.layers.convolutional.conv2d.Conv2D object at 0x7f312437c3d0> False\n",
      "<keras.layers.convolutional.conv2d.Conv2D object at 0x7f31242cfcd0> False\n",
      "<keras.layers.normalization.batch_normalization.BatchNormalization object at 0x7f312437f8b0> False\n",
      "<keras.layers.normalization.batch_normalization.BatchNormalization object at 0x7f31242cd000> False\n",
      "<keras.layers.merging.add.Add object at 0x7f31242ee6e0> False\n",
      "<keras.layers.core.activation.Activation object at 0x7f31242cf4c0> False\n",
      "<keras.layers.convolutional.conv2d.Conv2D object at 0x7f31243010f0> False\n",
      "<keras.layers.normalization.batch_normalization.BatchNormalization object at 0x7f31242cff70> False\n",
      "<keras.layers.core.activation.Activation object at 0x7f3124302aa0> False\n",
      "<keras.layers.convolutional.conv2d.Conv2D object at 0x7f31243f4b80> False\n",
      "<keras.layers.normalization.batch_normalization.BatchNormalization object at 0x7f31243f4fa0> False\n",
      "<keras.layers.core.activation.Activation object at 0x7f31243f5270> False\n",
      "<keras.layers.convolutional.conv2d.Conv2D object at 0x7f3124394250> False\n",
      "<keras.layers.normalization.batch_normalization.BatchNormalization object at 0x7f3124396920> False\n",
      "<keras.layers.merging.add.Add object at 0x7f31242731c0> False\n",
      "<keras.layers.core.activation.Activation object at 0x7f3124395480> False\n",
      "<keras.layers.convolutional.conv2d.Conv2D object at 0x7f31242c0640> False\n",
      "<keras.layers.normalization.batch_normalization.BatchNormalization object at 0x7f31243f74f0> False\n",
      "<keras.layers.core.activation.Activation object at 0x7f313f3cfd90> False\n",
      "<keras.layers.convolutional.conv2d.Conv2D object at 0x7f31242c3b50> False\n",
      "<keras.layers.normalization.batch_normalization.BatchNormalization object at 0x7f31242c3460> False\n",
      "<keras.layers.core.activation.Activation object at 0x7f31242c3a60> False\n",
      "<keras.layers.convolutional.conv2d.Conv2D object at 0x7f31242a4190> False\n",
      "<keras.layers.normalization.batch_normalization.BatchNormalization object at 0x7f31242a7640> False\n",
      "<keras.layers.merging.add.Add object at 0x7f31242a69b0> False\n",
      "<keras.layers.core.activation.Activation object at 0x7f31242a52d0> False\n",
      "<keras.layers.pooling.average_pooling2d.AveragePooling2D object at 0x7f31243da4a0> False\n",
      "<keras.layers.reshaping.flatten.Flatten object at 0x7f3124300910> True\n",
      "<keras.layers.core.dense.Dense object at 0x7f31243952a0> True\n",
      "<keras.layers.core.dense.Dense object at 0x7f312766fd30> True\n",
      "<keras.layers.core.dense.Dense object at 0x7f312437c250> True\n"
     ]
    }
   ],
   "source": [
    "for layer in model.layers:\n",
    "    print(layer, layer.trainable)"
   ]
  },
  {
   "cell_type": "code",
   "execution_count": 33,
   "id": "e91effa7",
   "metadata": {},
   "outputs": [],
   "source": [
    "es = EarlyStopping(monitor='val_accuracy', mode='auto', min_delta = 0.01, verbose=1, patience=20)"
   ]
  },
  {
   "cell_type": "code",
   "execution_count": 34,
   "id": "c8ab6059",
   "metadata": {},
   "outputs": [],
   "source": [
    "mc = ModelCheckpoint(filepath='./best_model.h5', monitor='val_accuracy', mode='auto', save_best_only=True)"
   ]
  },
  {
   "cell_type": "code",
   "execution_count": null,
   "id": "526345b6",
   "metadata": {},
   "outputs": [
    {
     "name": "stderr",
     "output_type": "stream",
     "text": [
      "/tmp/ipykernel_7073/2522116752.py:1: UserWarning: `Model.fit_generator` is deprecated and will be removed in a future version. Please use `Model.fit`, which supports generators.\n",
      "  H = model.fit_generator(train_generator, validation_data=validate_generator, epochs=100, verbose=1, callbacks=[mc,es])\n"
     ]
    },
    {
     "name": "stdout",
     "output_type": "stream",
     "text": [
      "Epoch 1/100\n",
      "58/58 [==============================] - 793s 14s/step - loss: 0.7103 - accuracy: 0.9101 - val_loss: 18757.9082 - val_accuracy: 0.4963\n",
      "Epoch 2/100\n",
      "58/58 [==============================] - 762s 13s/step - loss: 0.1233 - accuracy: 0.9600 - val_loss: 54.9054 - val_accuracy: 0.6144\n",
      "Epoch 3/100\n",
      "34/58 [================>.............] - ETA: 4:55 - loss: 0.0874 - accuracy: 0.9660"
     ]
    }
   ],
   "source": [
    "H = model.fit_generator(train_generator, validation_data=validate_generator, epochs=100, verbose=1, callbacks=[mc,es])"
   ]
  },
  {
   "cell_type": "code",
   "execution_count": 35,
   "id": "1894c520",
   "metadata": {},
   "outputs": [],
   "source": [
    "model.load_weights(\"./best_model.h5\")"
   ]
  },
  {
   "cell_type": "code",
   "execution_count": 36,
   "id": "0a7beff5",
   "metadata": {},
   "outputs": [
    {
     "name": "stderr",
     "output_type": "stream",
     "text": [
      "/tmp/ipykernel_7987/2205837447.py:1: UserWarning: `Model.evaluate_generator` is deprecated and will be removed in a future version. Please use `Model.evaluate`, which supports generators.\n",
      "  model.evaluate_generator(test_generator)\n"
     ]
    },
    {
     "data": {
      "text/plain": [
       "[60.98748779296875, 0.6066666841506958]"
      ]
     },
     "execution_count": 36,
     "metadata": {},
     "output_type": "execute_result"
    }
   ],
   "source": [
    "model.evaluate_generator(test_generator)"
   ]
  },
  {
   "cell_type": "code",
   "execution_count": 37,
   "id": "288f31e4",
   "metadata": {},
   "outputs": [
    {
     "name": "stderr",
     "output_type": "stream",
     "text": [
      "/tmp/ipykernel_7987/464353192.py:1: UserWarning: `Model.predict_generator` is deprecated and will be removed in a future version. Please use `Model.predict`, which supports generators.\n",
      "  predictions = model.predict_generator(test_generator, steps = np.ceil(test_generator.samples / test_generator.batch_size), verbose=1, workers=0)\n"
     ]
    },
    {
     "name": "stdout",
     "output_type": "stream",
     "text": [
      "10/10 [==============================] - 26s 3s/step\n"
     ]
    }
   ],
   "source": [
    "predictions = model.predict_generator(test_generator, steps = np.ceil(test_generator.samples / test_generator.batch_size), verbose=1, workers=0)"
   ]
  },
  {
   "cell_type": "code",
   "execution_count": 40,
   "id": "cb74e6b6",
   "metadata": {},
   "outputs": [],
   "source": [
    "predictedClasses = np.where(predictions>0.5, 1, 0)"
   ]
  },
  {
   "cell_type": "code",
   "execution_count": 43,
   "id": "3a93b705",
   "metadata": {},
   "outputs": [],
   "source": [
    "c_m = confusion_matrix(test_generator.classes, predictedClasses)"
   ]
  },
  {
   "cell_type": "code",
   "execution_count": 44,
   "id": "2768e023",
   "metadata": {},
   "outputs": [
    {
     "data": {
      "image/png": "[encoded data removed]",
      "text/plain": [
       "<Figure size 1000x900 with 2 Axes>"
      ]
     },
     "metadata": {},
     "output_type": "display_data"
    }
   ],
   "source": [
    "# Magic function that renders the figure in a jupyter notebook\n",
    "# instead of displaying a figure object\n",
    "%matplotlib inline\n",
    "\n",
    "\n",
    "# Setting default size of the plot\n",
    "# Setting default fontsize used in the plot\n",
    "plt.rcParams['figure.figsize'] = (10.0, 9.0)\n",
    "plt.rcParams['font.size'] = 20\n",
    "\n",
    "\n",
    "# Implementing visualization of Confusion Matrix\n",
    "display_c_m = ConfusionMatrixDisplay(c_m, display_labels=labels)\n",
    "\n",
    "\n",
    "# Plotting Confusion Matrix\n",
    "# Setting colour map to be used\n",
    "display_c_m.plot(cmap='OrRd', xticks_rotation=25)\n",
    "# Other possible options for colour map are:\n",
    "# 'autumn_r', 'Blues', 'cool', 'Greens', 'Greys', 'PuRd', 'copper_r'\n",
    "\n",
    "\n",
    "# Setting fontsize for xticks and yticks\n",
    "plt.xticks(fontsize=15)\n",
    "plt.yticks(fontsize=15)\n",
    "\n",
    "\n",
    "# Giving name to the plot\n",
    "plt.title('Confusion Matrix', fontsize=24)\n",
    "\n",
    "\n",
    "# Saving plot\n",
    "plt.savefig('confusion_matrix.png', transparent=True, dpi=500)\n",
    "\n",
    "\n",
    "# Showing the plot\n",
    "plt.show()"
   ]
  }
 ],
 "metadata": {
  "kernelspec": {
   "display_name": "venv",
   "language": "python",
   "name": "venv"
  },
  "language_info": {
   "codemirror_mode": {
    "name": "ipython",
    "version": 3
   },
   "file_extension": ".py",
   "mimetype": "text/x-python",
   "name": "python",
   "nbconvert_exporter": "python",
   "pygments_lexer": "ipython3",
   "version": "3.10.6"
  }
 },
 "nbformat": 4,
 "nbformat_minor": 5
}
