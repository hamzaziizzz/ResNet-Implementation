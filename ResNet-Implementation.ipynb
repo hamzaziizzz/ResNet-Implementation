{
 "cells": [
  {
   "cell_type": "code",
   "execution_count": 1,
   "id": "3ad77ff5",
   "metadata": {},
   "outputs": [],
   "source": [
    "import cv2\n",
    "import numpy as np\n",
    "import scipy\n",
    "import os\n",
    "import math\n",
    "import shutil\n",
    "import glob\n",
    "import matplotlib.pyplot as plt\n",
    "from keras.preprocessing.image import ImageDataGenerator\n",
    "from keras import backend as K\n",
    "import keras\n",
    "from keras.models import Sequential, Model,load_model\n",
    "from keras.optimizers import SGD\n",
    "from keras.callbacks import EarlyStopping,ModelCheckpoint\n",
    "from keras.layers import Input, Add, Dense, Activation, ZeroPadding2D, BatchNormalization, Flatten, Conv2D, AveragePooling2D, MaxPooling2D, GlobalMaxPooling2D, MaxPool2D\n",
    "from keras.preprocessing import image\n",
    "from keras.initializers import glorot_uniform"
   ]
  },
  {
   "cell_type": "code",
   "execution_count": 2,
   "id": "c4063811",
   "metadata": {
    "scrolled": true
   },
   "outputs": [],
   "source": [
    "DATASET_PATH = \"Dog vs Cat Classification\""
   ]
  },
  {
   "cell_type": "code",
   "execution_count": 3,
   "id": "9ebe6262",
   "metadata": {},
   "outputs": [],
   "source": [
    "number_of_images = {}\n",
    "\n",
    "for dir in os.listdir(DATASET_PATH):\n",
    "    number_of_images[dir] = len(os.listdir(os.path.join(DATASET_PATH, dir)))"
   ]
  },
  {
   "cell_type": "code",
   "execution_count": 4,
   "id": "0a57c85e",
   "metadata": {},
   "outputs": [
    {
     "data": {
      "text/plain": [
       "{'Cat': 5011, 'Dog': 5017}"
      ]
     },
     "execution_count": 4,
     "metadata": {},
     "output_type": "execute_result"
    }
   ],
   "source": [
    "number_of_images"
   ]
  },
  {
   "cell_type": "code",
   "execution_count": 5,
   "id": "9011d6e1",
   "metadata": {},
   "outputs": [],
   "source": [
    "def data_folder(folder_name, split_ratio):\n",
    "    if not os.path.exists(\"./\" + folder_name):\n",
    "        os.mkdir(\"./\" + folder_name)\n",
    "    \n",
    "    for dir in os.listdir(DATASET_PATH):\n",
    "        if not os.path.exists(\"./\" + folder_name + \"/\" + dir):\n",
    "            os.makedirs(\"./\" + folder_name + \"/\" + dir)\n",
    "\n",
    "        for img in np.random.choice(a = os.listdir(os.path.join(DATASET_PATH, dir)), size = (math.floor(split_ratio * number_of_images[dir])), replace = False):\n",
    "            O = os.path.join(DATASET_PATH, dir, img)\n",
    "            D = os.path.join(\"./\" + folder_name, dir)\n",
    "            shutil.copy(O, D)\n",
    "    \n",
    "    else:\n",
    "        print(f\"{folder_name} Folder exist\")"
   ]
  },
  {
   "cell_type": "code",
   "execution_count": 6,
   "id": "0b6fa5e8",
   "metadata": {},
   "outputs": [
    {
     "name": "stdout",
     "output_type": "stream",
     "text": [
      "Train Folder exist\n"
     ]
    }
   ],
   "source": [
    "data_folder(\"Train\", 0.7)"
   ]
  },
  {
   "cell_type": "code",
   "execution_count": 7,
   "id": "994c7de8",
   "metadata": {},
   "outputs": [
    {
     "name": "stdout",
     "output_type": "stream",
     "text": [
      "Validate Folder exist\n"
     ]
    }
   ],
   "source": [
    "data_folder(\"Validate\", 0.15)"
   ]
  },
  {
   "cell_type": "code",
   "execution_count": 8,
   "id": "ed8d176c",
   "metadata": {
    "scrolled": true
   },
   "outputs": [
    {
     "name": "stdout",
     "output_type": "stream",
     "text": [
      "Test Folder exist\n"
     ]
    }
   ],
   "source": [
    "data_folder(\"Test\", 0.15)"
   ]
  },
  {
   "cell_type": "code",
   "execution_count": 9,
   "id": "2d0e28f6",
   "metadata": {},
   "outputs": [],
   "source": [
    "TRAIN_PATH = \"./Train\""
   ]
  },
  {
   "cell_type": "code",
   "execution_count": 10,
   "id": "2d98d624",
   "metadata": {},
   "outputs": [],
   "source": [
    "TEST_PATH = \"./Test\""
   ]
  },
  {
   "cell_type": "code",
   "execution_count": 11,
   "id": "a0d4b76b",
   "metadata": {},
   "outputs": [],
   "source": [
    "VALIDATE_PATH = \"./Validate\""
   ]
  },
  {
   "cell_type": "code",
   "execution_count": 12,
   "id": "308b78bb",
   "metadata": {},
   "outputs": [],
   "source": [
    "class_names_train = os.listdir(TRAIN_PATH)"
   ]
  },
  {
   "cell_type": "code",
   "execution_count": 13,
   "id": "bdcb032a",
   "metadata": {},
   "outputs": [],
   "source": [
    "class_names_test = os.listdir(TEST_PATH)"
   ]
  },
  {
   "cell_type": "code",
   "execution_count": 14,
   "id": "b2f27d5b",
   "metadata": {},
   "outputs": [],
   "source": [
    "class_names_validate = os.listdir(VALIDATE_PATH)"
   ]
  },
  {
   "cell_type": "code",
   "execution_count": 15,
   "id": "3563e24b",
   "metadata": {},
   "outputs": [
    {
     "name": "stdout",
     "output_type": "stream",
     "text": [
      "['Cat', 'Dog']\n"
     ]
    }
   ],
   "source": [
    "print(class_names_train)"
   ]
  },
  {
   "cell_type": "code",
   "execution_count": 16,
   "id": "ebd371b0",
   "metadata": {},
   "outputs": [
    {
     "name": "stdout",
     "output_type": "stream",
     "text": [
      "['Cat', 'Dog']\n"
     ]
    }
   ],
   "source": [
    "print(class_names_test)"
   ]
  },
  {
   "cell_type": "code",
   "execution_count": 17,
   "id": "135f6a91",
   "metadata": {},
   "outputs": [
    {
     "name": "stdout",
     "output_type": "stream",
     "text": [
      "['Cat', 'Dog']\n"
     ]
    }
   ],
   "source": [
    "print(class_names_validate)"
   ]
  },
  {
   "cell_type": "code",
   "execution_count": 18,
   "id": "b8128e25",
   "metadata": {},
   "outputs": [],
   "source": [
    "train_datagen = ImageDataGenerator(zoom_range = 0.15, width_shift_range = 0.2, height_shift_range = 0.2, shear_range = 0.15)\n",
    "validate_datagen = ImageDataGenerator()"
   ]
  },
  {
   "cell_type": "code",
   "execution_count": 19,
   "id": "e5ebaceb",
   "metadata": {},
   "outputs": [
    {
     "name": "stdout",
     "output_type": "stream",
     "text": [
      "Found 7018 images belonging to 2 classes.\n",
      "Found 1503 images belonging to 2 classes.\n"
     ]
    }
   ],
   "source": [
    "train_generator = train_datagen.flow_from_directory(\"./Train\", target_size = (224, 224), batch_size = 32, shuffle=True, class_mode = 'binary')\n",
    "validate_generator = validate_datagen.flow_from_directory(\"./Validate\", target_size = (224,224), batch_size = 32, shuffle = False, class_mode='binary')"
   ]
  },
  {
   "cell_type": "code",
   "execution_count": 20,
   "id": "c2da306e",
   "metadata": {},
   "outputs": [],
   "source": [
    "def identity_block(X, f, filters, stage, block):\n",
    "   \n",
    "    conv_name_base = 'res' + str(stage) + block + '_branch'\n",
    "    bn_name_base = 'bn' + str(stage) + block + '_branch'\n",
    "    F1, F2, F3 = filters\n",
    "\n",
    "    X_shortcut = X\n",
    "   \n",
    "    X = Conv2D(filters=F1, kernel_size=(1, 1), strides=(1, 1), padding='valid', name=conv_name_base + '2a', kernel_initializer=glorot_uniform(seed=0))(X)\n",
    "    X = BatchNormalization(axis=3, name=bn_name_base + '2a')(X)\n",
    "    X = Activation('relu')(X)\n",
    "\n",
    "    X = Conv2D(filters=F2, kernel_size=(f, f), strides=(1, 1), padding='same', name=conv_name_base + '2b', kernel_initializer=glorot_uniform(seed=0))(X)\n",
    "    X = BatchNormalization(axis=3, name=bn_name_base + '2b')(X)\n",
    "    X = Activation('relu')(X)\n",
    "\n",
    "    X = Conv2D(filters=F3, kernel_size=(1, 1), strides=(1, 1), padding='valid', name=conv_name_base + '2c', kernel_initializer=glorot_uniform(seed=0))(X)\n",
    "    X = BatchNormalization(axis=3, name=bn_name_base + '2c')(X)\n",
    "\n",
    "    X = Add()([X, X_shortcut]) # SKIP Connection\n",
    "    X = Activation('relu')(X)\n",
    "\n",
    "    return X"
   ]
  },
  {
   "cell_type": "code",
   "execution_count": 21,
   "id": "934d3da7",
   "metadata": {},
   "outputs": [],
   "source": [
    "def convolutional_block(X, f, filters, stage, block, s=2):\n",
    "   \n",
    "    conv_name_base = 'res' + str(stage) + block + '_branch'\n",
    "    bn_name_base = 'bn' + str(stage) + block + '_branch'\n",
    "\n",
    "    F1, F2, F3 = filters\n",
    "\n",
    "    X_shortcut = X\n",
    "\n",
    "    X = Conv2D(filters=F1, kernel_size=(1, 1), strides=(s, s), padding='valid', name=conv_name_base + '2a', kernel_initializer=glorot_uniform(seed=0))(X)\n",
    "    X = BatchNormalization(axis=3, name=bn_name_base + '2a')(X)\n",
    "    X = Activation('relu')(X)\n",
    "\n",
    "    X = Conv2D(filters=F2, kernel_size=(f, f), strides=(1, 1), padding='same', name=conv_name_base + '2b', kernel_initializer=glorot_uniform(seed=0))(X)\n",
    "    X = BatchNormalization(axis=3, name=bn_name_base + '2b')(X)\n",
    "    X = Activation('relu')(X)\n",
    "\n",
    "    X = Conv2D(filters=F3, kernel_size=(1, 1), strides=(1, 1), padding='valid', name=conv_name_base + '2c', kernel_initializer=glorot_uniform(seed=0))(X)\n",
    "    X = BatchNormalization(axis=3, name=bn_name_base + '2c')(X)\n",
    "\n",
    "    X_shortcut = Conv2D(filters=F3, kernel_size=(1, 1), strides=(s, s), padding='valid', name=conv_name_base + '1', kernel_initializer=glorot_uniform(seed=0))(X_shortcut)\n",
    "    X_shortcut = BatchNormalization(axis=3, name=bn_name_base + '1')(X_shortcut)\n",
    "\n",
    "    X = Add()([X, X_shortcut])\n",
    "    X = Activation('relu')(X)\n",
    "\n",
    "    return X"
   ]
  },
  {
   "cell_type": "code",
   "execution_count": 22,
   "id": "c54a0b55",
   "metadata": {},
   "outputs": [],
   "source": [
    "def ResNet50(input_shape=(224, 224, 3)):\n",
    "\n",
    "    X_input = Input(input_shape)\n",
    "\n",
    "    X = ZeroPadding2D((3, 3))(X_input)\n",
    "\n",
    "    X = Conv2D(64, (7, 7), strides=(2, 2), name='conv1', kernel_initializer=glorot_uniform(seed=0))(X)\n",
    "    X = BatchNormalization(axis=3, name='bn_conv1')(X)\n",
    "    X = Activation('relu')(X)\n",
    "    X = MaxPooling2D((3, 3), strides=(2, 2))(X)\n",
    "\n",
    "    X = convolutional_block(X, f=3, filters=[64, 64, 256], stage=2, block='a', s=1)\n",
    "    X = identity_block(X, 3, [64, 64, 256], stage=2, block='b')\n",
    "    X = identity_block(X, 3, [64, 64, 256], stage=2, block='c')\n",
    "\n",
    "\n",
    "    X = convolutional_block(X, f=3, filters=[128, 128, 512], stage=3, block='a', s=2)\n",
    "    X = identity_block(X, 3, [128, 128, 512], stage=3, block='b')\n",
    "    X = identity_block(X, 3, [128, 128, 512], stage=3, block='c')\n",
    "    X = identity_block(X, 3, [128, 128, 512], stage=3, block='d')\n",
    "\n",
    "    X = convolutional_block(X, f=3, filters=[256, 256, 1024], stage=4, block='a', s=2)\n",
    "    X = identity_block(X, 3, [256, 256, 1024], stage=4, block='b')\n",
    "    X = identity_block(X, 3, [256, 256, 1024], stage=4, block='c')\n",
    "    X = identity_block(X, 3, [256, 256, 1024], stage=4, block='d')\n",
    "    X = identity_block(X, 3, [256, 256, 1024], stage=4, block='e')\n",
    "    X = identity_block(X, 3, [256, 256, 1024], stage=4, block='f')\n",
    "\n",
    "    X = X = convolutional_block(X, f=3, filters=[512, 512, 2048], stage=5, block='a', s=2)\n",
    "    X = identity_block(X, 3, [512, 512, 2048], stage=5, block='b')\n",
    "    X = identity_block(X, 3, [512, 512, 2048], stage=5, block='c')\n",
    "\n",
    "    X = AveragePooling2D(pool_size=(2, 2), padding='same')(X)\n",
    "    \n",
    "    model = Model(inputs=X_input, outputs=X, name='ResNet50')\n",
    "\n",
    "    return model"
   ]
  },
  {
   "cell_type": "code",
   "execution_count": 23,
   "id": "e3b1e1f2",
   "metadata": {},
   "outputs": [],
   "source": [
    "base_model = ResNet50(input_shape=(224, 224, 3))"
   ]
  },
  {
   "cell_type": "code",
   "execution_count": 24,
   "id": "4ea214ef",
   "metadata": {},
   "outputs": [
    {
     "name": "stdout",
     "output_type": "stream",
     "text": [
      "<keras.engine.functional.Functional object at 0x0000020D54819FC0>\n"
     ]
    }
   ],
   "source": [
    "print(base_model)"
   ]
  },
  {
   "cell_type": "code",
   "execution_count": 25,
   "id": "79ca48a2",
   "metadata": {},
   "outputs": [],
   "source": [
    "headModel = base_model.output\n",
    "headModel = Flatten()(headModel)\n",
    "headModel=Dense(256, activation='relu', name='fc1',kernel_initializer=glorot_uniform(seed=0))(headModel)\n",
    "headModel=Dense(128, activation='relu', name='fc2',kernel_initializer=glorot_uniform(seed=0))(headModel)\n",
    "headModel = Dense( 1,activation='sigmoid', name='fc3',kernel_initializer=glorot_uniform(seed=0))(headModel)"
   ]
  },
  {
   "cell_type": "code",
   "execution_count": 26,
   "id": "331242ab",
   "metadata": {},
   "outputs": [],
   "source": [
    "model = Model(inputs=base_model.input, outputs=headModel)"
   ]
  },
  {
   "cell_type": "code",
   "execution_count": 27,
   "id": "70369a80",
   "metadata": {},
   "outputs": [
    {
     "name": "stdout",
     "output_type": "stream",
     "text": [
      "Model: \"model\"\n",
      "__________________________________________________________________________________________________\n",
      " Layer (type)                   Output Shape         Param #     Connected to                     \n",
      "==================================================================================================\n",
      " input_1 (InputLayer)           [(None, 224, 224, 3  0           []                               \n",
      "                                )]                                                                \n",
      "                                                                                                  \n",
      " zero_padding2d (ZeroPadding2D)  (None, 230, 230, 3)  0          ['input_1[0][0]']                \n",
      "                                                                                                  \n",
      " conv1 (Conv2D)                 (None, 112, 112, 64  9472        ['zero_padding2d[0][0]']         \n",
      "                                )                                                                 \n",
      "                                                                                                  \n",
      " bn_conv1 (BatchNormalization)  (None, 112, 112, 64  256         ['conv1[0][0]']                  \n",
      "                                )                                                                 \n",
      "                                                                                                  \n",
      " activation (Activation)        (None, 112, 112, 64  0           ['bn_conv1[0][0]']               \n",
      "                                )                                                                 \n",
      "                                                                                                  \n",
      " max_pooling2d (MaxPooling2D)   (None, 55, 55, 64)   0           ['activation[0][0]']             \n",
      "                                                                                                  \n",
      " res2a_branch2a (Conv2D)        (None, 55, 55, 64)   4160        ['max_pooling2d[0][0]']          \n",
      "                                                                                                  \n",
      " bn2a_branch2a (BatchNormalizat  (None, 55, 55, 64)  256         ['res2a_branch2a[0][0]']         \n",
      " ion)                                                                                             \n",
      "                                                                                                  \n",
      " activation_1 (Activation)      (None, 55, 55, 64)   0           ['bn2a_branch2a[0][0]']          \n",
      "                                                                                                  \n",
      " res2a_branch2b (Conv2D)        (None, 55, 55, 64)   36928       ['activation_1[0][0]']           \n",
      "                                                                                                  \n",
      " bn2a_branch2b (BatchNormalizat  (None, 55, 55, 64)  256         ['res2a_branch2b[0][0]']         \n",
      " ion)                                                                                             \n",
      "                                                                                                  \n",
      " activation_2 (Activation)      (None, 55, 55, 64)   0           ['bn2a_branch2b[0][0]']          \n",
      "                                                                                                  \n",
      " res2a_branch2c (Conv2D)        (None, 55, 55, 256)  16640       ['activation_2[0][0]']           \n",
      "                                                                                                  \n",
      " res2a_branch1 (Conv2D)         (None, 55, 55, 256)  16640       ['max_pooling2d[0][0]']          \n",
      "                                                                                                  \n",
      " bn2a_branch2c (BatchNormalizat  (None, 55, 55, 256)  1024       ['res2a_branch2c[0][0]']         \n",
      " ion)                                                                                             \n",
      "                                                                                                  \n",
      " bn2a_branch1 (BatchNormalizati  (None, 55, 55, 256)  1024       ['res2a_branch1[0][0]']          \n",
      " on)                                                                                              \n",
      "                                                                                                  \n",
      " add (Add)                      (None, 55, 55, 256)  0           ['bn2a_branch2c[0][0]',          \n",
      "                                                                  'bn2a_branch1[0][0]']           \n",
      "                                                                                                  \n",
      " activation_3 (Activation)      (None, 55, 55, 256)  0           ['add[0][0]']                    \n",
      "                                                                                                  \n",
      " res2b_branch2a (Conv2D)        (None, 55, 55, 64)   16448       ['activation_3[0][0]']           \n",
      "                                                                                                  \n",
      " bn2b_branch2a (BatchNormalizat  (None, 55, 55, 64)  256         ['res2b_branch2a[0][0]']         \n",
      " ion)                                                                                             \n",
      "                                                                                                  \n",
      " activation_4 (Activation)      (None, 55, 55, 64)   0           ['bn2b_branch2a[0][0]']          \n",
      "                                                                                                  \n",
      " res2b_branch2b (Conv2D)        (None, 55, 55, 64)   36928       ['activation_4[0][0]']           \n",
      "                                                                                                  \n",
      " bn2b_branch2b (BatchNormalizat  (None, 55, 55, 64)  256         ['res2b_branch2b[0][0]']         \n",
      " ion)                                                                                             \n",
      "                                                                                                  \n",
      " activation_5 (Activation)      (None, 55, 55, 64)   0           ['bn2b_branch2b[0][0]']          \n",
      "                                                                                                  \n",
      " res2b_branch2c (Conv2D)        (None, 55, 55, 256)  16640       ['activation_5[0][0]']           \n",
      "                                                                                                  \n",
      " bn2b_branch2c (BatchNormalizat  (None, 55, 55, 256)  1024       ['res2b_branch2c[0][0]']         \n",
      " ion)                                                                                             \n",
      "                                                                                                  \n",
      " add_1 (Add)                    (None, 55, 55, 256)  0           ['bn2b_branch2c[0][0]',          \n",
      "                                                                  'activation_3[0][0]']           \n",
      "                                                                                                  \n",
      " activation_6 (Activation)      (None, 55, 55, 256)  0           ['add_1[0][0]']                  \n",
      "                                                                                                  \n",
      " res2c_branch2a (Conv2D)        (None, 55, 55, 64)   16448       ['activation_6[0][0]']           \n",
      "                                                                                                  \n",
      " bn2c_branch2a (BatchNormalizat  (None, 55, 55, 64)  256         ['res2c_branch2a[0][0]']         \n",
      " ion)                                                                                             \n",
      "                                                                                                  \n",
      " activation_7 (Activation)      (None, 55, 55, 64)   0           ['bn2c_branch2a[0][0]']          \n",
      "                                                                                                  \n",
      " res2c_branch2b (Conv2D)        (None, 55, 55, 64)   36928       ['activation_7[0][0]']           \n",
      "                                                                                                  \n",
      " bn2c_branch2b (BatchNormalizat  (None, 55, 55, 64)  256         ['res2c_branch2b[0][0]']         \n",
      " ion)                                                                                             \n"
     ]
    },
    {
     "name": "stdout",
     "output_type": "stream",
     "text": [
      "                                                                                                  \n",
      " activation_8 (Activation)      (None, 55, 55, 64)   0           ['bn2c_branch2b[0][0]']          \n",
      "                                                                                                  \n",
      " res2c_branch2c (Conv2D)        (None, 55, 55, 256)  16640       ['activation_8[0][0]']           \n",
      "                                                                                                  \n",
      " bn2c_branch2c (BatchNormalizat  (None, 55, 55, 256)  1024       ['res2c_branch2c[0][0]']         \n",
      " ion)                                                                                             \n",
      "                                                                                                  \n",
      " add_2 (Add)                    (None, 55, 55, 256)  0           ['bn2c_branch2c[0][0]',          \n",
      "                                                                  'activation_6[0][0]']           \n",
      "                                                                                                  \n",
      " activation_9 (Activation)      (None, 55, 55, 256)  0           ['add_2[0][0]']                  \n",
      "                                                                                                  \n",
      " res3a_branch2a (Conv2D)        (None, 28, 28, 128)  32896       ['activation_9[0][0]']           \n",
      "                                                                                                  \n",
      " bn3a_branch2a (BatchNormalizat  (None, 28, 28, 128)  512        ['res3a_branch2a[0][0]']         \n",
      " ion)                                                                                             \n",
      "                                                                                                  \n",
      " activation_10 (Activation)     (None, 28, 28, 128)  0           ['bn3a_branch2a[0][0]']          \n",
      "                                                                                                  \n",
      " res3a_branch2b (Conv2D)        (None, 28, 28, 128)  147584      ['activation_10[0][0]']          \n",
      "                                                                                                  \n",
      " bn3a_branch2b (BatchNormalizat  (None, 28, 28, 128)  512        ['res3a_branch2b[0][0]']         \n",
      " ion)                                                                                             \n",
      "                                                                                                  \n",
      " activation_11 (Activation)     (None, 28, 28, 128)  0           ['bn3a_branch2b[0][0]']          \n",
      "                                                                                                  \n",
      " res3a_branch2c (Conv2D)        (None, 28, 28, 512)  66048       ['activation_11[0][0]']          \n",
      "                                                                                                  \n",
      " res3a_branch1 (Conv2D)         (None, 28, 28, 512)  131584      ['activation_9[0][0]']           \n",
      "                                                                                                  \n",
      " bn3a_branch2c (BatchNormalizat  (None, 28, 28, 512)  2048       ['res3a_branch2c[0][0]']         \n",
      " ion)                                                                                             \n",
      "                                                                                                  \n",
      " bn3a_branch1 (BatchNormalizati  (None, 28, 28, 512)  2048       ['res3a_branch1[0][0]']          \n",
      " on)                                                                                              \n",
      "                                                                                                  \n",
      " add_3 (Add)                    (None, 28, 28, 512)  0           ['bn3a_branch2c[0][0]',          \n",
      "                                                                  'bn3a_branch1[0][0]']           \n",
      "                                                                                                  \n",
      " activation_12 (Activation)     (None, 28, 28, 512)  0           ['add_3[0][0]']                  \n",
      "                                                                                                  \n",
      " res3b_branch2a (Conv2D)        (None, 28, 28, 128)  65664       ['activation_12[0][0]']          \n",
      "                                                                                                  \n",
      " bn3b_branch2a (BatchNormalizat  (None, 28, 28, 128)  512        ['res3b_branch2a[0][0]']         \n",
      " ion)                                                                                             \n",
      "                                                                                                  \n",
      " activation_13 (Activation)     (None, 28, 28, 128)  0           ['bn3b_branch2a[0][0]']          \n",
      "                                                                                                  \n",
      " res3b_branch2b (Conv2D)        (None, 28, 28, 128)  147584      ['activation_13[0][0]']          \n",
      "                                                                                                  \n",
      " bn3b_branch2b (BatchNormalizat  (None, 28, 28, 128)  512        ['res3b_branch2b[0][0]']         \n",
      " ion)                                                                                             \n",
      "                                                                                                  \n",
      " activation_14 (Activation)     (None, 28, 28, 128)  0           ['bn3b_branch2b[0][0]']          \n",
      "                                                                                                  \n",
      " res3b_branch2c (Conv2D)        (None, 28, 28, 512)  66048       ['activation_14[0][0]']          \n",
      "                                                                                                  \n",
      " bn3b_branch2c (BatchNormalizat  (None, 28, 28, 512)  2048       ['res3b_branch2c[0][0]']         \n",
      " ion)                                                                                             \n",
      "                                                                                                  \n",
      " add_4 (Add)                    (None, 28, 28, 512)  0           ['bn3b_branch2c[0][0]',          \n",
      "                                                                  'activation_12[0][0]']          \n",
      "                                                                                                  \n",
      " activation_15 (Activation)     (None, 28, 28, 512)  0           ['add_4[0][0]']                  \n",
      "                                                                                                  \n",
      " res3c_branch2a (Conv2D)        (None, 28, 28, 128)  65664       ['activation_15[0][0]']          \n",
      "                                                                                                  \n",
      " bn3c_branch2a (BatchNormalizat  (None, 28, 28, 128)  512        ['res3c_branch2a[0][0]']         \n",
      " ion)                                                                                             \n",
      "                                                                                                  \n",
      " activation_16 (Activation)     (None, 28, 28, 128)  0           ['bn3c_branch2a[0][0]']          \n",
      "                                                                                                  \n",
      " res3c_branch2b (Conv2D)        (None, 28, 28, 128)  147584      ['activation_16[0][0]']          \n",
      "                                                                                                  \n",
      " bn3c_branch2b (BatchNormalizat  (None, 28, 28, 128)  512        ['res3c_branch2b[0][0]']         \n",
      " ion)                                                                                             \n",
      "                                                                                                  \n",
      " activation_17 (Activation)     (None, 28, 28, 128)  0           ['bn3c_branch2b[0][0]']          \n",
      "                                                                                                  \n",
      " res3c_branch2c (Conv2D)        (None, 28, 28, 512)  66048       ['activation_17[0][0]']          \n",
      "                                                                                                  \n",
      " bn3c_branch2c (BatchNormalizat  (None, 28, 28, 512)  2048       ['res3c_branch2c[0][0]']         \n"
     ]
    },
    {
     "name": "stdout",
     "output_type": "stream",
     "text": [
      " ion)                                                                                             \n",
      "                                                                                                  \n",
      " add_5 (Add)                    (None, 28, 28, 512)  0           ['bn3c_branch2c[0][0]',          \n",
      "                                                                  'activation_15[0][0]']          \n",
      "                                                                                                  \n",
      " activation_18 (Activation)     (None, 28, 28, 512)  0           ['add_5[0][0]']                  \n",
      "                                                                                                  \n",
      " res3d_branch2a (Conv2D)        (None, 28, 28, 128)  65664       ['activation_18[0][0]']          \n",
      "                                                                                                  \n",
      " bn3d_branch2a (BatchNormalizat  (None, 28, 28, 128)  512        ['res3d_branch2a[0][0]']         \n",
      " ion)                                                                                             \n",
      "                                                                                                  \n",
      " activation_19 (Activation)     (None, 28, 28, 128)  0           ['bn3d_branch2a[0][0]']          \n",
      "                                                                                                  \n",
      " res3d_branch2b (Conv2D)        (None, 28, 28, 128)  147584      ['activation_19[0][0]']          \n",
      "                                                                                                  \n",
      " bn3d_branch2b (BatchNormalizat  (None, 28, 28, 128)  512        ['res3d_branch2b[0][0]']         \n",
      " ion)                                                                                             \n",
      "                                                                                                  \n",
      " activation_20 (Activation)     (None, 28, 28, 128)  0           ['bn3d_branch2b[0][0]']          \n",
      "                                                                                                  \n",
      " res3d_branch2c (Conv2D)        (None, 28, 28, 512)  66048       ['activation_20[0][0]']          \n",
      "                                                                                                  \n",
      " bn3d_branch2c (BatchNormalizat  (None, 28, 28, 512)  2048       ['res3d_branch2c[0][0]']         \n",
      " ion)                                                                                             \n",
      "                                                                                                  \n",
      " add_6 (Add)                    (None, 28, 28, 512)  0           ['bn3d_branch2c[0][0]',          \n",
      "                                                                  'activation_18[0][0]']          \n",
      "                                                                                                  \n",
      " activation_21 (Activation)     (None, 28, 28, 512)  0           ['add_6[0][0]']                  \n",
      "                                                                                                  \n",
      " res4a_branch2a (Conv2D)        (None, 14, 14, 256)  131328      ['activation_21[0][0]']          \n",
      "                                                                                                  \n",
      " bn4a_branch2a (BatchNormalizat  (None, 14, 14, 256)  1024       ['res4a_branch2a[0][0]']         \n",
      " ion)                                                                                             \n",
      "                                                                                                  \n",
      " activation_22 (Activation)     (None, 14, 14, 256)  0           ['bn4a_branch2a[0][0]']          \n",
      "                                                                                                  \n",
      " res4a_branch2b (Conv2D)        (None, 14, 14, 256)  590080      ['activation_22[0][0]']          \n",
      "                                                                                                  \n",
      " bn4a_branch2b (BatchNormalizat  (None, 14, 14, 256)  1024       ['res4a_branch2b[0][0]']         \n",
      " ion)                                                                                             \n",
      "                                                                                                  \n",
      " activation_23 (Activation)     (None, 14, 14, 256)  0           ['bn4a_branch2b[0][0]']          \n",
      "                                                                                                  \n",
      " res4a_branch2c (Conv2D)        (None, 14, 14, 1024  263168      ['activation_23[0][0]']          \n",
      "                                )                                                                 \n",
      "                                                                                                  \n",
      " res4a_branch1 (Conv2D)         (None, 14, 14, 1024  525312      ['activation_21[0][0]']          \n",
      "                                )                                                                 \n",
      "                                                                                                  \n",
      " bn4a_branch2c (BatchNormalizat  (None, 14, 14, 1024  4096       ['res4a_branch2c[0][0]']         \n",
      " ion)                           )                                                                 \n",
      "                                                                                                  \n",
      " bn4a_branch1 (BatchNormalizati  (None, 14, 14, 1024  4096       ['res4a_branch1[0][0]']          \n",
      " on)                            )                                                                 \n",
      "                                                                                                  \n",
      " add_7 (Add)                    (None, 14, 14, 1024  0           ['bn4a_branch2c[0][0]',          \n",
      "                                )                                 'bn4a_branch1[0][0]']           \n",
      "                                                                                                  \n",
      " activation_24 (Activation)     (None, 14, 14, 1024  0           ['add_7[0][0]']                  \n",
      "                                )                                                                 \n",
      "                                                                                                  \n",
      " res4b_branch2a (Conv2D)        (None, 14, 14, 256)  262400      ['activation_24[0][0]']          \n",
      "                                                                                                  \n",
      " bn4b_branch2a (BatchNormalizat  (None, 14, 14, 256)  1024       ['res4b_branch2a[0][0]']         \n",
      " ion)                                                                                             \n",
      "                                                                                                  \n",
      " activation_25 (Activation)     (None, 14, 14, 256)  0           ['bn4b_branch2a[0][0]']          \n",
      "                                                                                                  \n",
      " res4b_branch2b (Conv2D)        (None, 14, 14, 256)  590080      ['activation_25[0][0]']          \n",
      "                                                                                                  \n",
      " bn4b_branch2b (BatchNormalizat  (None, 14, 14, 256)  1024       ['res4b_branch2b[0][0]']         \n",
      " ion)                                                                                             \n",
      "                                                                                                  \n",
      " activation_26 (Activation)     (None, 14, 14, 256)  0           ['bn4b_branch2b[0][0]']          \n",
      "                                                                                                  \n",
      " res4b_branch2c (Conv2D)        (None, 14, 14, 1024  263168      ['activation_26[0][0]']          \n",
      "                                )                                                                 \n",
      "                                                                                                  \n",
      " bn4b_branch2c (BatchNormalizat  (None, 14, 14, 1024  4096       ['res4b_branch2c[0][0]']         \n",
      " ion)                           )                                                                 \n",
      "                                                                                                  \n"
     ]
    },
    {
     "name": "stdout",
     "output_type": "stream",
     "text": [
      " add_8 (Add)                    (None, 14, 14, 1024  0           ['bn4b_branch2c[0][0]',          \n",
      "                                )                                 'activation_24[0][0]']          \n",
      "                                                                                                  \n",
      " activation_27 (Activation)     (None, 14, 14, 1024  0           ['add_8[0][0]']                  \n",
      "                                )                                                                 \n",
      "                                                                                                  \n",
      " res4c_branch2a (Conv2D)        (None, 14, 14, 256)  262400      ['activation_27[0][0]']          \n",
      "                                                                                                  \n",
      " bn4c_branch2a (BatchNormalizat  (None, 14, 14, 256)  1024       ['res4c_branch2a[0][0]']         \n",
      " ion)                                                                                             \n",
      "                                                                                                  \n",
      " activation_28 (Activation)     (None, 14, 14, 256)  0           ['bn4c_branch2a[0][0]']          \n",
      "                                                                                                  \n",
      " res4c_branch2b (Conv2D)        (None, 14, 14, 256)  590080      ['activation_28[0][0]']          \n",
      "                                                                                                  \n",
      " bn4c_branch2b (BatchNormalizat  (None, 14, 14, 256)  1024       ['res4c_branch2b[0][0]']         \n",
      " ion)                                                                                             \n",
      "                                                                                                  \n",
      " activation_29 (Activation)     (None, 14, 14, 256)  0           ['bn4c_branch2b[0][0]']          \n",
      "                                                                                                  \n",
      " res4c_branch2c (Conv2D)        (None, 14, 14, 1024  263168      ['activation_29[0][0]']          \n",
      "                                )                                                                 \n",
      "                                                                                                  \n",
      " bn4c_branch2c (BatchNormalizat  (None, 14, 14, 1024  4096       ['res4c_branch2c[0][0]']         \n",
      " ion)                           )                                                                 \n",
      "                                                                                                  \n",
      " add_9 (Add)                    (None, 14, 14, 1024  0           ['bn4c_branch2c[0][0]',          \n",
      "                                )                                 'activation_27[0][0]']          \n",
      "                                                                                                  \n",
      " activation_30 (Activation)     (None, 14, 14, 1024  0           ['add_9[0][0]']                  \n",
      "                                )                                                                 \n",
      "                                                                                                  \n",
      " res4d_branch2a (Conv2D)        (None, 14, 14, 256)  262400      ['activation_30[0][0]']          \n",
      "                                                                                                  \n",
      " bn4d_branch2a (BatchNormalizat  (None, 14, 14, 256)  1024       ['res4d_branch2a[0][0]']         \n",
      " ion)                                                                                             \n",
      "                                                                                                  \n",
      " activation_31 (Activation)     (None, 14, 14, 256)  0           ['bn4d_branch2a[0][0]']          \n",
      "                                                                                                  \n",
      " res4d_branch2b (Conv2D)        (None, 14, 14, 256)  590080      ['activation_31[0][0]']          \n",
      "                                                                                                  \n",
      " bn4d_branch2b (BatchNormalizat  (None, 14, 14, 256)  1024       ['res4d_branch2b[0][0]']         \n",
      " ion)                                                                                             \n",
      "                                                                                                  \n",
      " activation_32 (Activation)     (None, 14, 14, 256)  0           ['bn4d_branch2b[0][0]']          \n",
      "                                                                                                  \n",
      " res4d_branch2c (Conv2D)        (None, 14, 14, 1024  263168      ['activation_32[0][0]']          \n",
      "                                )                                                                 \n",
      "                                                                                                  \n",
      " bn4d_branch2c (BatchNormalizat  (None, 14, 14, 1024  4096       ['res4d_branch2c[0][0]']         \n",
      " ion)                           )                                                                 \n",
      "                                                                                                  \n",
      " add_10 (Add)                   (None, 14, 14, 1024  0           ['bn4d_branch2c[0][0]',          \n",
      "                                )                                 'activation_30[0][0]']          \n",
      "                                                                                                  \n",
      " activation_33 (Activation)     (None, 14, 14, 1024  0           ['add_10[0][0]']                 \n",
      "                                )                                                                 \n",
      "                                                                                                  \n",
      " res4e_branch2a (Conv2D)        (None, 14, 14, 256)  262400      ['activation_33[0][0]']          \n",
      "                                                                                                  \n",
      " bn4e_branch2a (BatchNormalizat  (None, 14, 14, 256)  1024       ['res4e_branch2a[0][0]']         \n",
      " ion)                                                                                             \n",
      "                                                                                                  \n",
      " activation_34 (Activation)     (None, 14, 14, 256)  0           ['bn4e_branch2a[0][0]']          \n",
      "                                                                                                  \n",
      " res4e_branch2b (Conv2D)        (None, 14, 14, 256)  590080      ['activation_34[0][0]']          \n",
      "                                                                                                  \n",
      " bn4e_branch2b (BatchNormalizat  (None, 14, 14, 256)  1024       ['res4e_branch2b[0][0]']         \n",
      " ion)                                                                                             \n",
      "                                                                                                  \n",
      " activation_35 (Activation)     (None, 14, 14, 256)  0           ['bn4e_branch2b[0][0]']          \n",
      "                                                                                                  \n",
      " res4e_branch2c (Conv2D)        (None, 14, 14, 1024  263168      ['activation_35[0][0]']          \n",
      "                                )                                                                 \n",
      "                                                                                                  \n",
      " bn4e_branch2c (BatchNormalizat  (None, 14, 14, 1024  4096       ['res4e_branch2c[0][0]']         \n",
      " ion)                           )                                                                 \n",
      "                                                                                                  \n",
      " add_11 (Add)                   (None, 14, 14, 1024  0           ['bn4e_branch2c[0][0]',          \n",
      "                                )                                 'activation_33[0][0]']          \n",
      "                                                                                                  \n",
      " activation_36 (Activation)     (None, 14, 14, 1024  0           ['add_11[0][0]']                 \n",
      "                                )                                                                 \n"
     ]
    },
    {
     "name": "stdout",
     "output_type": "stream",
     "text": [
      "                                                                                                  \n",
      " res4f_branch2a (Conv2D)        (None, 14, 14, 256)  262400      ['activation_36[0][0]']          \n",
      "                                                                                                  \n",
      " bn4f_branch2a (BatchNormalizat  (None, 14, 14, 256)  1024       ['res4f_branch2a[0][0]']         \n",
      " ion)                                                                                             \n",
      "                                                                                                  \n",
      " activation_37 (Activation)     (None, 14, 14, 256)  0           ['bn4f_branch2a[0][0]']          \n",
      "                                                                                                  \n",
      " res4f_branch2b (Conv2D)        (None, 14, 14, 256)  590080      ['activation_37[0][0]']          \n",
      "                                                                                                  \n",
      " bn4f_branch2b (BatchNormalizat  (None, 14, 14, 256)  1024       ['res4f_branch2b[0][0]']         \n",
      " ion)                                                                                             \n",
      "                                                                                                  \n",
      " activation_38 (Activation)     (None, 14, 14, 256)  0           ['bn4f_branch2b[0][0]']          \n",
      "                                                                                                  \n",
      " res4f_branch2c (Conv2D)        (None, 14, 14, 1024  263168      ['activation_38[0][0]']          \n",
      "                                )                                                                 \n",
      "                                                                                                  \n",
      " bn4f_branch2c (BatchNormalizat  (None, 14, 14, 1024  4096       ['res4f_branch2c[0][0]']         \n",
      " ion)                           )                                                                 \n",
      "                                                                                                  \n",
      " add_12 (Add)                   (None, 14, 14, 1024  0           ['bn4f_branch2c[0][0]',          \n",
      "                                )                                 'activation_36[0][0]']          \n",
      "                                                                                                  \n",
      " activation_39 (Activation)     (None, 14, 14, 1024  0           ['add_12[0][0]']                 \n",
      "                                )                                                                 \n",
      "                                                                                                  \n",
      " res5a_branch2a (Conv2D)        (None, 7, 7, 512)    524800      ['activation_39[0][0]']          \n",
      "                                                                                                  \n",
      " bn5a_branch2a (BatchNormalizat  (None, 7, 7, 512)   2048        ['res5a_branch2a[0][0]']         \n",
      " ion)                                                                                             \n",
      "                                                                                                  \n",
      " activation_40 (Activation)     (None, 7, 7, 512)    0           ['bn5a_branch2a[0][0]']          \n",
      "                                                                                                  \n",
      " res5a_branch2b (Conv2D)        (None, 7, 7, 512)    2359808     ['activation_40[0][0]']          \n",
      "                                                                                                  \n",
      " bn5a_branch2b (BatchNormalizat  (None, 7, 7, 512)   2048        ['res5a_branch2b[0][0]']         \n",
      " ion)                                                                                             \n",
      "                                                                                                  \n",
      " activation_41 (Activation)     (None, 7, 7, 512)    0           ['bn5a_branch2b[0][0]']          \n",
      "                                                                                                  \n",
      " res5a_branch2c (Conv2D)        (None, 7, 7, 2048)   1050624     ['activation_41[0][0]']          \n",
      "                                                                                                  \n",
      " res5a_branch1 (Conv2D)         (None, 7, 7, 2048)   2099200     ['activation_39[0][0]']          \n",
      "                                                                                                  \n",
      " bn5a_branch2c (BatchNormalizat  (None, 7, 7, 2048)  8192        ['res5a_branch2c[0][0]']         \n",
      " ion)                                                                                             \n",
      "                                                                                                  \n",
      " bn5a_branch1 (BatchNormalizati  (None, 7, 7, 2048)  8192        ['res5a_branch1[0][0]']          \n",
      " on)                                                                                              \n",
      "                                                                                                  \n",
      " add_13 (Add)                   (None, 7, 7, 2048)   0           ['bn5a_branch2c[0][0]',          \n",
      "                                                                  'bn5a_branch1[0][0]']           \n",
      "                                                                                                  \n",
      " activation_42 (Activation)     (None, 7, 7, 2048)   0           ['add_13[0][0]']                 \n",
      "                                                                                                  \n",
      " res5b_branch2a (Conv2D)        (None, 7, 7, 512)    1049088     ['activation_42[0][0]']          \n",
      "                                                                                                  \n",
      " bn5b_branch2a (BatchNormalizat  (None, 7, 7, 512)   2048        ['res5b_branch2a[0][0]']         \n",
      " ion)                                                                                             \n",
      "                                                                                                  \n",
      " activation_43 (Activation)     (None, 7, 7, 512)    0           ['bn5b_branch2a[0][0]']          \n",
      "                                                                                                  \n",
      " res5b_branch2b (Conv2D)        (None, 7, 7, 512)    2359808     ['activation_43[0][0]']          \n",
      "                                                                                                  \n",
      " bn5b_branch2b (BatchNormalizat  (None, 7, 7, 512)   2048        ['res5b_branch2b[0][0]']         \n",
      " ion)                                                                                             \n",
      "                                                                                                  \n",
      " activation_44 (Activation)     (None, 7, 7, 512)    0           ['bn5b_branch2b[0][0]']          \n",
      "                                                                                                  \n",
      " res5b_branch2c (Conv2D)        (None, 7, 7, 2048)   1050624     ['activation_44[0][0]']          \n",
      "                                                                                                  \n",
      " bn5b_branch2c (BatchNormalizat  (None, 7, 7, 2048)  8192        ['res5b_branch2c[0][0]']         \n",
      " ion)                                                                                             \n",
      "                                                                                                  \n",
      " add_14 (Add)                   (None, 7, 7, 2048)   0           ['bn5b_branch2c[0][0]',          \n",
      "                                                                  'activation_42[0][0]']          \n",
      "                                                                                                  \n",
      " activation_45 (Activation)     (None, 7, 7, 2048)   0           ['add_14[0][0]']                 \n",
      "                                                                                                  \n",
      " res5c_branch2a (Conv2D)        (None, 7, 7, 512)    1049088     ['activation_45[0][0]']          \n",
      "                                                                                                  \n",
      " bn5c_branch2a (BatchNormalizat  (None, 7, 7, 512)   2048        ['res5c_branch2a[0][0]']         \n"
     ]
    },
    {
     "name": "stdout",
     "output_type": "stream",
     "text": [
      " ion)                                                                                             \n",
      "                                                                                                  \n",
      " activation_46 (Activation)     (None, 7, 7, 512)    0           ['bn5c_branch2a[0][0]']          \n",
      "                                                                                                  \n",
      " res5c_branch2b (Conv2D)        (None, 7, 7, 512)    2359808     ['activation_46[0][0]']          \n",
      "                                                                                                  \n",
      " bn5c_branch2b (BatchNormalizat  (None, 7, 7, 512)   2048        ['res5c_branch2b[0][0]']         \n",
      " ion)                                                                                             \n",
      "                                                                                                  \n",
      " activation_47 (Activation)     (None, 7, 7, 512)    0           ['bn5c_branch2b[0][0]']          \n",
      "                                                                                                  \n",
      " res5c_branch2c (Conv2D)        (None, 7, 7, 2048)   1050624     ['activation_47[0][0]']          \n",
      "                                                                                                  \n",
      " bn5c_branch2c (BatchNormalizat  (None, 7, 7, 2048)  8192        ['res5c_branch2c[0][0]']         \n",
      " ion)                                                                                             \n",
      "                                                                                                  \n",
      " add_15 (Add)                   (None, 7, 7, 2048)   0           ['bn5c_branch2c[0][0]',          \n",
      "                                                                  'activation_45[0][0]']          \n",
      "                                                                                                  \n",
      " activation_48 (Activation)     (None, 7, 7, 2048)   0           ['add_15[0][0]']                 \n",
      "                                                                                                  \n",
      " average_pooling2d (AveragePool  (None, 4, 4, 2048)  0           ['activation_48[0][0]']          \n",
      " ing2D)                                                                                           \n",
      "                                                                                                  \n",
      " flatten (Flatten)              (None, 32768)        0           ['average_pooling2d[0][0]']      \n",
      "                                                                                                  \n",
      " fc1 (Dense)                    (None, 256)          8388864     ['flatten[0][0]']                \n",
      "                                                                                                  \n",
      " fc2 (Dense)                    (None, 128)          32896       ['fc1[0][0]']                    \n",
      "                                                                                                  \n",
      " fc3 (Dense)                    (None, 1)            129         ['fc2[0][0]']                    \n",
      "                                                                                                  \n",
      "==================================================================================================\n",
      "Total params: 32,009,601\n",
      "Trainable params: 31,956,481\n",
      "Non-trainable params: 53,120\n",
      "__________________________________________________________________________________________________\n"
     ]
    }
   ],
   "source": [
    "model.summary()"
   ]
  },
  {
   "cell_type": "code",
   "execution_count": 28,
   "id": "d44dd7c7",
   "metadata": {},
   "outputs": [],
   "source": [
    "model.compile(optimizer='adam', loss=keras.losses.binary_crossentropy, metrics=['accuracy'])"
   ]
  },
  {
   "cell_type": "code",
   "execution_count": 29,
   "id": "862b7cca",
   "metadata": {},
   "outputs": [],
   "source": [
    "base_model.load_weights(\"./resnet50_weights_tf_dim_ordering_tf_kernels_notop.h5\")"
   ]
  },
  {
   "cell_type": "code",
   "execution_count": 30,
   "id": "7127f04a",
   "metadata": {},
   "outputs": [],
   "source": [
    "for layer in base_model.layers:\n",
    "    layer.trainable = False"
   ]
  },
  {
   "cell_type": "code",
   "execution_count": 31,
   "id": "31db5308",
   "metadata": {},
   "outputs": [
    {
     "name": "stdout",
     "output_type": "stream",
     "text": [
      "<keras.engine.input_layer.InputLayer object at 0x0000020D5343DFC0> False\n",
      "<keras.layers.reshaping.zero_padding2d.ZeroPadding2D object at 0x0000020D5343D4E0> False\n",
      "<keras.layers.convolutional.conv2d.Conv2D object at 0x0000020D5343E9B0> False\n",
      "<keras.layers.normalization.batch_normalization.BatchNormalization object at 0x0000020D5343EA40> False\n",
      "<keras.layers.core.activation.Activation object at 0x0000020D50D13C70> False\n",
      "<keras.layers.pooling.max_pooling2d.MaxPooling2D object at 0x0000020D5343D900> False\n",
      "<keras.layers.convolutional.conv2d.Conv2D object at 0x0000020D532BC970> False\n",
      "<keras.layers.normalization.batch_normalization.BatchNormalization object at 0x0000020D532BF040> False\n",
      "<keras.layers.core.activation.Activation object at 0x0000020D532BF280> False\n",
      "<keras.layers.convolutional.conv2d.Conv2D object at 0x0000020D532BC040> False\n",
      "<keras.layers.normalization.batch_normalization.BatchNormalization object at 0x0000020D532BC130> False\n",
      "<keras.layers.core.activation.Activation object at 0x0000020D532BC430> False\n",
      "<keras.layers.convolutional.conv2d.Conv2D object at 0x0000020D53287700> False\n",
      "<keras.layers.convolutional.conv2d.Conv2D object at 0x0000020D536890C0> False\n",
      "<keras.layers.normalization.batch_normalization.BatchNormalization object at 0x0000020D53287B50> False\n",
      "<keras.layers.normalization.batch_normalization.BatchNormalization object at 0x0000020D53688B50> False\n",
      "<keras.layers.merging.add.Add object at 0x0000020D5368A0E0> False\n",
      "<keras.layers.core.activation.Activation object at 0x0000020D5368B7C0> False\n",
      "<keras.layers.convolutional.conv2d.Conv2D object at 0x0000020D53689630> False\n",
      "<keras.layers.normalization.batch_normalization.BatchNormalization object at 0x0000020D5368BD30> False\n",
      "<keras.layers.core.activation.Activation object at 0x0000020D5368B790> False\n",
      "<keras.layers.convolutional.conv2d.Conv2D object at 0x0000020D536992A0> False\n",
      "<keras.layers.normalization.batch_normalization.BatchNormalization object at 0x0000020D53699CF0> False\n",
      "<keras.layers.core.activation.Activation object at 0x0000020D5369ACB0> False\n",
      "<keras.layers.convolutional.conv2d.Conv2D object at 0x0000020D5369A830> False\n",
      "<keras.layers.normalization.batch_normalization.BatchNormalization object at 0x0000020D5369BB20> False\n",
      "<keras.layers.merging.add.Add object at 0x0000020D53698E80> False\n",
      "<keras.layers.core.activation.Activation object at 0x0000020D536A87C0> False\n",
      "<keras.layers.convolutional.conv2d.Conv2D object at 0x0000020D536A9A50> False\n",
      "<keras.layers.normalization.batch_normalization.BatchNormalization object at 0x0000020D536AA770> False\n",
      "<keras.layers.core.activation.Activation object at 0x0000020D536AB040> False\n",
      "<keras.layers.convolutional.conv2d.Conv2D object at 0x0000020D536A8D90> False\n",
      "<keras.layers.normalization.batch_normalization.BatchNormalization object at 0x0000020D536ABAF0> False\n",
      "<keras.layers.core.activation.Activation object at 0x0000020D536ABC40> False\n",
      "<keras.layers.convolutional.conv2d.Conv2D object at 0x0000020D536C4670> False\n",
      "<keras.layers.normalization.batch_normalization.BatchNormalization object at 0x0000020D536C5960> False\n",
      "<keras.layers.merging.add.Add object at 0x0000020D536C68F0> False\n",
      "<keras.layers.core.activation.Activation object at 0x0000020D536C4DF0> False\n",
      "<keras.layers.convolutional.conv2d.Conv2D object at 0x0000020D536E02B0> False\n",
      "<keras.layers.normalization.batch_normalization.BatchNormalization object at 0x0000020D536C7C10> False\n",
      "<keras.layers.core.activation.Activation object at 0x0000020D536C7A00> False\n",
      "<keras.layers.convolutional.conv2d.Conv2D object at 0x0000020D536AA4A0> False\n",
      "<keras.layers.normalization.batch_normalization.BatchNormalization object at 0x0000020D5369B220> False\n",
      "<keras.layers.core.activation.Activation object at 0x0000020D536995D0> False\n",
      "<keras.layers.convolutional.conv2d.Conv2D object at 0x0000020D5368B820> False\n",
      "<keras.layers.convolutional.conv2d.Conv2D object at 0x0000020D5368B970> False\n",
      "<keras.layers.normalization.batch_normalization.BatchNormalization object at 0x0000020D5343FC40> False\n",
      "<keras.layers.normalization.batch_normalization.BatchNormalization object at 0x0000020D53689300> False\n",
      "<keras.layers.merging.add.Add object at 0x0000020D532BC550> False\n",
      "<keras.layers.core.activation.Activation object at 0x0000020D536E2860> False\n",
      "<keras.layers.convolutional.conv2d.Conv2D object at 0x0000020D536E1DB0> False\n",
      "<keras.layers.normalization.batch_normalization.BatchNormalization object at 0x0000020D536E3640> False\n",
      "<keras.layers.core.activation.Activation object at 0x0000020D536E3F10> False\n",
      "<keras.layers.convolutional.conv2d.Conv2D object at 0x0000020D546C03A0> False\n",
      "<keras.layers.normalization.batch_normalization.BatchNormalization object at 0x0000020D546C1210> False\n",
      "<keras.layers.core.activation.Activation object at 0x0000020D546C1F30> False\n",
      "<keras.layers.convolutional.conv2d.Conv2D object at 0x0000020D546C1F60> False\n",
      "<keras.layers.normalization.batch_normalization.BatchNormalization object at 0x0000020D546C3070> False\n",
      "<keras.layers.merging.add.Add object at 0x0000020D546C3880> False\n",
      "<keras.layers.core.activation.Activation object at 0x0000020D546C1BD0> False\n",
      "<keras.layers.convolutional.conv2d.Conv2D object at 0x0000020D546D8FA0> False\n",
      "<keras.layers.normalization.batch_normalization.BatchNormalization object at 0x0000020D546C38E0> False\n",
      "<keras.layers.core.activation.Activation object at 0x0000020D546C09A0> False\n",
      "<keras.layers.convolutional.conv2d.Conv2D object at 0x0000020D546D9540> False\n",
      "<keras.layers.normalization.batch_normalization.BatchNormalization object at 0x0000020D546DB040> False\n",
      "<keras.layers.core.activation.Activation object at 0x0000020D546DA7A0> False\n",
      "<keras.layers.convolutional.conv2d.Conv2D object at 0x0000020D546F0400> False\n",
      "<keras.layers.normalization.batch_normalization.BatchNormalization object at 0x0000020D546F0EB0> False\n",
      "<keras.layers.merging.add.Add object at 0x0000020D546F1B70> False\n",
      "<keras.layers.core.activation.Activation object at 0x0000020D546F0220> False\n",
      "<keras.layers.convolutional.conv2d.Conv2D object at 0x0000020D546F2DA0> False\n",
      "<keras.layers.normalization.batch_normalization.BatchNormalization object at 0x0000020D546F3AC0> False\n",
      "<keras.layers.core.activation.Activation object at 0x0000020D546F3FA0> False\n",
      "<keras.layers.convolutional.conv2d.Conv2D object at 0x0000020D54710D60> False\n",
      "<keras.layers.normalization.batch_normalization.BatchNormalization object at 0x0000020D546F1270> False\n",
      "<keras.layers.core.activation.Activation object at 0x0000020D54711180> False\n",
      "<keras.layers.convolutional.conv2d.Conv2D object at 0x0000020D54711450> False\n",
      "<keras.layers.normalization.batch_normalization.BatchNormalization object at 0x0000020D54712CE0> False\n",
      "<keras.layers.merging.add.Add object at 0x0000020D54713C70> False\n",
      "<keras.layers.core.activation.Activation object at 0x0000020D54711B10> False\n",
      "<keras.layers.convolutional.conv2d.Conv2D object at 0x0000020D546DBF70> False\n",
      "<keras.layers.normalization.batch_normalization.BatchNormalization object at 0x0000020D546D8430> False\n",
      "<keras.layers.core.activation.Activation object at 0x0000020D546D80D0> False\n",
      "<keras.layers.convolutional.conv2d.Conv2D object at 0x0000020D536E2C50> False\n",
      "<keras.layers.normalization.batch_normalization.BatchNormalization object at 0x0000020D53688C70> False\n",
      "<keras.layers.core.activation.Activation object at 0x0000020D5368B280> False\n",
      "<keras.layers.convolutional.conv2d.Conv2D object at 0x0000020D54728280> False\n",
      "<keras.layers.convolutional.conv2d.Conv2D object at 0x0000020D5472A0B0> False\n",
      "<keras.layers.normalization.batch_normalization.BatchNormalization object at 0x0000020D536E2590> False\n",
      "<keras.layers.normalization.batch_normalization.BatchNormalization object at 0x0000020D54728EE0> False\n",
      "<keras.layers.merging.add.Add object at 0x0000020D5472AB90> False\n",
      "<keras.layers.core.activation.Activation object at 0x0000020D5472BF10> False\n",
      "<keras.layers.convolutional.conv2d.Conv2D object at 0x0000020D5473C910> False\n",
      "<keras.layers.normalization.batch_normalization.BatchNormalization object at 0x0000020D5472BA60> False\n",
      "<keras.layers.core.activation.Activation object at 0x0000020D5473CE20> False\n",
      "<keras.layers.convolutional.conv2d.Conv2D object at 0x0000020D5473D150> False\n",
      "<keras.layers.normalization.batch_normalization.BatchNormalization object at 0x0000020D5473E7A0> False\n",
      "<keras.layers.core.activation.Activation object at 0x0000020D5473F760> False\n",
      "<keras.layers.convolutional.conv2d.Conv2D object at 0x0000020D547503D0> False\n",
      "<keras.layers.normalization.batch_normalization.BatchNormalization object at 0x0000020D5473C730> False\n",
      "<keras.layers.merging.add.Add object at 0x0000020D5473EBC0> False\n",
      "<keras.layers.core.activation.Activation object at 0x0000020D54751360> False\n",
      "<keras.layers.convolutional.conv2d.Conv2D object at 0x0000020D54752500> False\n",
      "<keras.layers.normalization.batch_normalization.BatchNormalization object at 0x0000020D54753220> False\n",
      "<keras.layers.core.activation.Activation object at 0x0000020D54753AF0> False\n",
      "<keras.layers.convolutional.conv2d.Conv2D object at 0x0000020D54768400> False\n",
      "<keras.layers.normalization.batch_normalization.BatchNormalization object at 0x0000020D54753E20> False\n",
      "<keras.layers.core.activation.Activation object at 0x0000020D54752A70> False\n",
      "<keras.layers.convolutional.conv2d.Conv2D object at 0x0000020D54768DC0> False\n",
      "<keras.layers.normalization.batch_normalization.BatchNormalization object at 0x0000020D5476A4A0> False\n",
      "<keras.layers.merging.add.Add object at 0x0000020D5476B430> False\n",
      "<keras.layers.core.activation.Activation object at 0x0000020D54769AB0> False\n",
      "<keras.layers.convolutional.conv2d.Conv2D object at 0x0000020D547843D0> False\n",
      "<keras.layers.normalization.batch_normalization.BatchNormalization object at 0x0000020D5476AC80> False\n",
      "<keras.layers.core.activation.Activation object at 0x0000020D54769CF0> False\n",
      "<keras.layers.convolutional.conv2d.Conv2D object at 0x0000020D54784A90> False\n",
      "<keras.layers.normalization.batch_normalization.BatchNormalization object at 0x0000020D5476AC20> False\n",
      "<keras.layers.core.activation.Activation object at 0x0000020D5476AA40> False\n",
      "<keras.layers.convolutional.conv2d.Conv2D object at 0x0000020D5473F130> False\n",
      "<keras.layers.normalization.batch_normalization.BatchNormalization object at 0x0000020D5473FF70> False\n",
      "<keras.layers.merging.add.Add object at 0x0000020D5473F5B0> False\n",
      "<keras.layers.core.activation.Activation object at 0x0000020D54750FA0> False\n",
      "<keras.layers.convolutional.conv2d.Conv2D object at 0x0000020D54786E00> False\n",
      "<keras.layers.normalization.batch_normalization.BatchNormalization object at 0x0000020D546DBFA0> False\n",
      "<keras.layers.core.activation.Activation object at 0x0000020D5472BA90> False\n",
      "<keras.layers.convolutional.conv2d.Conv2D object at 0x0000020D5479C070> False\n",
      "<keras.layers.normalization.batch_normalization.BatchNormalization object at 0x0000020D54785810> False\n",
      "<keras.layers.core.activation.Activation object at 0x0000020D54785C00> False\n",
      "<keras.layers.convolutional.conv2d.Conv2D object at 0x0000020D5479CF70> False\n",
      "<keras.layers.normalization.batch_normalization.BatchNormalization object at 0x0000020D5479E050> False\n",
      "<keras.layers.merging.add.Add object at 0x0000020D5479EFE0> False\n",
      "<keras.layers.core.activation.Activation object at 0x0000020D5479E830> False\n",
      "<keras.layers.convolutional.conv2d.Conv2D object at 0x0000020D547AC160> False\n",
      "<keras.layers.normalization.batch_normalization.BatchNormalization object at 0x0000020D5479EB90> False\n",
      "<keras.layers.core.activation.Activation object at 0x0000020D5479E9B0> False\n",
      "<keras.layers.convolutional.conv2d.Conv2D object at 0x0000020D547AC640> False\n",
      "<keras.layers.normalization.batch_normalization.BatchNormalization object at 0x0000020D547AE020> False\n",
      "<keras.layers.core.activation.Activation object at 0x0000020D547AEFE0> False\n",
      "<keras.layers.convolutional.conv2d.Conv2D object at 0x0000020D547AC6A0> False\n",
      "<keras.layers.normalization.batch_normalization.BatchNormalization object at 0x0000020D547AFF10> False\n",
      "<keras.layers.merging.add.Add object at 0x0000020D547AC850> False\n",
      "<keras.layers.core.activation.Activation object at 0x0000020D547C8220> False\n",
      "<keras.layers.convolutional.conv2d.Conv2D object at 0x0000020D547C9DB0> False\n",
      "<keras.layers.normalization.batch_normalization.BatchNormalization object at 0x0000020D547CAAD0> False\n",
      "<keras.layers.core.activation.Activation object at 0x0000020D547CB3D0> False\n",
      "<keras.layers.convolutional.conv2d.Conv2D object at 0x0000020D547C9240> False\n",
      "<keras.layers.normalization.batch_normalization.BatchNormalization object at 0x0000020D547CBF10> False\n",
      "<keras.layers.core.activation.Activation object at 0x0000020D547CB730> False\n",
      "<keras.layers.convolutional.conv2d.Conv2D object at 0x0000020D547E4AF0> False\n",
      "<keras.layers.convolutional.conv2d.Conv2D object at 0x0000020D547E5420> False\n",
      "<keras.layers.normalization.batch_normalization.BatchNormalization object at 0x0000020D547E5CF0> False\n",
      "<keras.layers.normalization.batch_normalization.BatchNormalization object at 0x0000020D547E6170> False\n",
      "<keras.layers.merging.add.Add object at 0x0000020D547E7DC0> False\n",
      "<keras.layers.core.activation.Activation object at 0x0000020D547E7310> False\n",
      "<keras.layers.convolutional.conv2d.Conv2D object at 0x0000020D54804160> False\n",
      "<keras.layers.normalization.batch_normalization.BatchNormalization object at 0x0000020D547E7B20> False\n",
      "<keras.layers.core.activation.Activation object at 0x0000020D547E6770> False\n",
      "<keras.layers.convolutional.conv2d.Conv2D object at 0x0000020D547C8D00> False\n",
      "<keras.layers.normalization.batch_normalization.BatchNormalization object at 0x0000020D5479EF50> False\n",
      "<keras.layers.core.activation.Activation object at 0x0000020D5479EEC0> False\n",
      "<keras.layers.convolutional.conv2d.Conv2D object at 0x0000020D547E4D30> False\n",
      "<keras.layers.normalization.batch_normalization.BatchNormalization object at 0x0000020D54753C40> False\n",
      "<keras.layers.merging.add.Add object at 0x0000020D52FDD930> False\n",
      "<keras.layers.core.activation.Activation object at 0x0000020D5302BAF0> False\n",
      "<keras.layers.convolutional.conv2d.Conv2D object at 0x0000020D548055D0> False\n",
      "<keras.layers.normalization.batch_normalization.BatchNormalization object at 0x0000020D53056680> False\n",
      "<keras.layers.core.activation.Activation object at 0x0000020D53286DA0> False\n",
      "<keras.layers.convolutional.conv2d.Conv2D object at 0x0000020D54807C10> False\n",
      "<keras.layers.normalization.batch_normalization.BatchNormalization object at 0x0000020D54807430> False\n",
      "<keras.layers.core.activation.Activation object at 0x0000020D54805C60> False\n",
      "<keras.layers.convolutional.conv2d.Conv2D object at 0x0000020D54819C60> False\n",
      "<keras.layers.normalization.batch_normalization.BatchNormalization object at 0x0000020D54807D60> False\n",
      "<keras.layers.merging.add.Add object at 0x0000020D548077F0> False\n",
      "<keras.layers.core.activation.Activation object at 0x0000020D54807520> False\n",
      "<keras.layers.pooling.average_pooling2d.AveragePooling2D object at 0x0000020D5481BD30> False\n",
      "<keras.layers.reshaping.flatten.Flatten object at 0x0000020D5483C580> True\n",
      "<keras.layers.core.dense.Dense object at 0x0000020D5483C640> True\n",
      "<keras.layers.core.dense.Dense object at 0x0000020D5483CC70> True\n",
      "<keras.layers.core.dense.Dense object at 0x0000020D5483EB60> True\n"
     ]
    }
   ],
   "source": [
    "for layer in model.layers:\n",
    "    print(layer, layer.trainable)"
   ]
  },
  {
   "cell_type": "code",
   "execution_count": 32,
   "id": "00b876a0",
   "metadata": {},
   "outputs": [],
   "source": [
    "es = EarlyStopping(monitor='val_accuracy', mode='max', verbose=1, patience=20)"
   ]
  },
  {
   "cell_type": "code",
   "execution_count": 33,
   "id": "40b10d28",
   "metadata": {},
   "outputs": [],
   "source": [
    "mc = ModelCheckpoint(filepath='./best_model.h5', monitor='val_accuracy', mode='max', save_best_only=True)"
   ]
  },
  {
   "cell_type": "code",
   "execution_count": null,
   "id": "fdec57b0",
   "metadata": {},
   "outputs": [
    {
     "name": "stderr",
     "output_type": "stream",
     "text": [
      "C:\\Users\\hamza\\AppData\\Local\\Temp\\ipykernel_14292\\2258209806.py:1: UserWarning: `Model.fit_generator` is deprecated and will be removed in a future version. Please use `Model.fit`, which supports generators.\n",
      "  H = model.fit_generator(generator=train_generator, validation_data=validate_generator, epochs=100, verbose=1, callbacks=[mc,es])\n"
     ]
    },
    {
     "name": "stdout",
     "output_type": "stream",
     "text": [
      "Epoch 1/100\n",
      "136/220 [=================>............] - ETA: 30:01 - loss: 0.6449 - accuracy: 0.7843"
     ]
    }
   ],
   "source": [
    "H = model.fit_generator(generator=train_generator, validation_data=validate_generator, epochs=100, verbose=1, callbacks=[mc,es])"
   ]
  },
  {
   "cell_type": "code",
   "execution_count": null,
   "id": "3a8780fe",
   "metadata": {},
   "outputs": [],
   "source": [
    "model.load_weights(\"./best_model.h5\")"
   ]
  },
  {
   "cell_type": "code",
   "execution_count": null,
   "id": "71afe282",
   "metadata": {},
   "outputs": [],
   "source": [
    "model.evaluate_generator(validate_generator)"
   ]
  },
  {
   "cell_type": "code",
   "execution_count": null,
   "id": "461a5487",
   "metadata": {},
   "outputs": [],
   "source": [
    "model_json = model.to_json()\n",
    "with open(\"./model.json\",\"w\") as json_file:\n",
    "    json_file.write(model_json)"
   ]
  },
  {
   "cell_type": "code",
   "execution_count": null,
   "id": "b475ca81",
   "metadata": {},
   "outputs": [],
   "source": [
    "from keras.models import model_from_json"
   ]
  },
  {
   "cell_type": "code",
   "execution_count": null,
   "id": "7e9a9433",
   "metadata": {},
   "outputs": [],
   "source": [
    "def predict_(image_path):\n",
    "    #Load the Model from Json File\n",
    "    json_file = open('./model.json', 'r')\n",
    "    model_json_c = json_file.read()\n",
    "    json_file.close()\n",
    "    model_c = model_from_json(model_json_c)\n",
    "    #Load the weights\n",
    "    model_c.load_weights(\"./best_model.h5\")\n",
    "    #Compile the model\n",
    "    opt = SGD(lr=1e-4, momentum=0.9)\n",
    "    model_c.compile(loss=\"categorical_crossentropy\", optimizer=opt, metrics=[\"accuracy\"])\n",
    "    #load the image you want to classify\n",
    "    image = cv2.imread(image_path)\n",
    "    image = cv2.resize(image, (224,224))\n",
    "    cv2_imshow(image)\n",
    "    #predict the image\n",
    "    preds = model_c.predict(np.expand_dims(image, axis=0))[0]\n",
    "    if preds==0:\n",
    "        print(\"Predicted Label:Cat\")\n",
    "    else:\n",
    "        print(\"Predicted Label: Dog\")"
   ]
  },
  {
   "cell_type": "code",
   "execution_count": null,
   "id": "56f90467",
   "metadata": {},
   "outputs": [],
   "source": [
    "predict_(\"./Test/Dog/4.jpg\")"
   ]
  },
  {
   "cell_type": "code",
   "execution_count": null,
   "id": "14b969cf",
   "metadata": {},
   "outputs": [],
   "source": [
    "predict_(\"./Test/Cat/10.jpg\")"
   ]
  }
 ],
 "metadata": {
  "kernelspec": {
   "display_name": "venv",
   "language": "python",
   "name": "venv"
  },
  "language_info": {
   "codemirror_mode": {
    "name": "ipython",
    "version": 3
   },
   "file_extension": ".py",
   "mimetype": "text/x-python",
   "name": "python",
   "nbconvert_exporter": "python",
   "pygments_lexer": "ipython3",
   "version": "3.10.8"
  }
 },
 "nbformat": 4,
 "nbformat_minor": 5
}
